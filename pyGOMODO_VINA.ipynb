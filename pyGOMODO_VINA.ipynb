{
 "cells": [
  {
   "cell_type": "code",
   "execution_count": 1,
   "id": "65f6d8cb",
   "metadata": {},
   "outputs": [],
   "source": [
    "%load_ext autoreload\n",
    "%autoreload 2\n",
    "\n",
    "import warnings\n",
    "warnings.simplefilter('ignore')"
   ]
  },
  {
   "cell_type": "code",
   "execution_count": 2,
   "id": "fd55ce14",
   "metadata": {},
   "outputs": [],
   "source": [
    "from IPython.display import display, HTML"
   ]
  },
  {
   "cell_type": "code",
   "execution_count": null,
   "id": "e6ed1854",
   "metadata": {},
   "outputs": [],
   "source": []
  },
  {
   "cell_type": "code",
   "execution_count": 3,
   "id": "0faa5fd8",
   "metadata": {},
   "outputs": [
    {
     "data": {
      "text/html": [
       "<style>\n",
       ".output{\n",
       "    flex-direction: row;\n",
       "}\n",
       ".container{\n",
       "    width: 98% !important;\n",
       "}\n",
       "</style>"
      ],
      "text/plain": [
       "<IPython.core.display.HTML object>"
      ]
     },
     "metadata": {},
     "output_type": "display_data"
    }
   ],
   "source": [
    "#from IPython.core.display import display, HTML\n",
    "css = \"\"\"\n",
    ".output{\n",
    "    flex-direction: row;\n",
    "}\n",
    ".container{\n",
    "    width: 98% !important;\n",
    "}\n",
    "\"\"\"\n",
    "display(HTML('<style>{}</style>'.format(css)))\n",
    "\n",
    "from src.gomodo import Docking\n",
    "from src.utils import utils, Upload\n",
    "import os\n",
    "\n",
    "os.chdir('vina_test/')"
   ]
  },
  {
   "cell_type": "code",
   "execution_count": null,
   "id": "d238c57d",
   "metadata": {},
   "outputs": [],
   "source": [
    "#upload receptor\n",
    "receptor = Upload()\n",
    "receptor.File()\n"
   ]
  },
  {
   "cell_type": "code",
   "execution_count": null,
   "id": "1e98f0f0",
   "metadata": {},
   "outputs": [],
   "source": [
    "#parse receptor\n",
    "receptor = receptor.FileParse()"
   ]
  },
  {
   "cell_type": "code",
   "execution_count": null,
   "id": "5514c3a2",
   "metadata": {},
   "outputs": [],
   "source": [
    "#upload ligands\n",
    "ligands = Upload()\n",
    "ligands.Files()"
   ]
  },
  {
   "cell_type": "code",
   "execution_count": null,
   "id": "fc237bf1",
   "metadata": {},
   "outputs": [],
   "source": [
    "#parse Ligands\n",
    "ligands = ligands.FilesParse()"
   ]
  },
  {
   "cell_type": "code",
   "execution_count": null,
   "id": "64753328",
   "metadata": {},
   "outputs": [],
   "source": [
    "utils.showMolecularStructures(ligands)"
   ]
  },
  {
   "cell_type": "code",
   "execution_count": null,
   "id": "56318cd8",
   "metadata": {},
   "outputs": [],
   "source": [
    "vina = Docking.Vina(receptor=receptor, ligands=ligands, cpus=4)"
   ]
  },
  {
   "cell_type": "code",
   "execution_count": null,
   "id": "7baa6087",
   "metadata": {
    "scrolled": false
   },
   "outputs": [],
   "source": [
    "vina.Grid()"
   ]
  },
  {
   "cell_type": "code",
   "execution_count": null,
   "id": "373930ee",
   "metadata": {},
   "outputs": [],
   "source": [
    "vina.Run(num_modes=20)"
   ]
  },
  {
   "cell_type": "code",
   "execution_count": null,
   "id": "49737531",
   "metadata": {
    "scrolled": false
   },
   "outputs": [],
   "source": [
    "vina.View()"
   ]
  },
  {
   "cell_type": "code",
   "execution_count": null,
   "id": "1d82efe5",
   "metadata": {
    "scrolled": false
   },
   "outputs": [],
   "source": [
    "vina.ViewInteractionsMap(map3D=True, map2D=True, opacity=0)"
   ]
  },
  {
   "cell_type": "code",
   "execution_count": null,
   "id": "48a3c378",
   "metadata": {},
   "outputs": [],
   "source": []
  }
 ],
 "metadata": {
  "kernelspec": {
   "display_name": "compbio",
   "language": "python",
   "name": "compbio"
  },
  "language_info": {
   "codemirror_mode": {
    "name": "ipython",
    "version": 3
   },
   "file_extension": ".py",
   "mimetype": "text/x-python",
   "name": "python",
   "nbconvert_exporter": "python",
   "pygments_lexer": "ipython3",
   "version": "3.9.13"
  }
 },
 "nbformat": 4,
 "nbformat_minor": 5
}
