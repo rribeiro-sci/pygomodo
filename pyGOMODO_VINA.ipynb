{
 "cells": [
  {
   "cell_type": "code",
   "execution_count": 34,
   "id": "65f6d8cb",
   "metadata": {},
   "outputs": [
    {
     "name": "stdout",
     "output_type": "stream",
     "text": [
      "The autoreload extension is already loaded. To reload it, use:\n",
      "  %reload_ext autoreload\n"
     ]
    }
   ],
   "source": [
    "%load_ext autoreload\n",
    "%autoreload 2"
   ]
  },
  {
   "cell_type": "code",
   "execution_count": 35,
   "id": "0faa5fd8",
   "metadata": {},
   "outputs": [
    {
     "data": {
      "text/html": [
       "<style>\n",
       ".output{\n",
       "    flex-direction: row;\n",
       "}\n",
       ".container{\n",
       "    width: 98% !important;\n",
       "}\n",
       "</style>"
      ],
      "text/plain": [
       "<IPython.core.display.HTML object>"
      ]
     },
     "metadata": {},
     "output_type": "display_data"
    }
   ],
   "source": [
    "from IPython.core.display import display, HTML\n",
    "css = \"\"\"\n",
    ".output{\n",
    "    flex-direction: row;\n",
    "}\n",
    ".container{\n",
    "    width: 98% !important;\n",
    "}\n",
    "\"\"\"\n",
    "display(HTML('<style>{}</style>'.format(css)))\n",
    "\n",
    "from src.gomodo import docking\n",
    "from src.utils import utils, Upload\n",
    "import os\n",
    "\n",
    "#os.chdir('example/')"
   ]
  },
  {
   "cell_type": "code",
   "execution_count": 36,
   "id": "d238c57d",
   "metadata": {},
   "outputs": [
    {
     "name": "stdout",
     "output_type": "stream",
     "text": [
      "Receptor pdb file:\n"
     ]
    },
    {
     "data": {
      "application/vnd.jupyter.widget-view+json": {
       "model_id": "15a3028ad8be442b8f2269c89847e3a0",
       "version_major": 2,
       "version_minor": 0
      },
      "text/plain": [
       "FileUpload(value={}, accept='.pdb', description='Upload')"
      ]
     },
     "metadata": {},
     "output_type": "display_data"
    },
    {
     "name": "stdout",
     "output_type": "stream",
     "text": [
      "Ligands pdb files:\n"
     ]
    },
    {
     "data": {
      "application/vnd.jupyter.widget-view+json": {
       "model_id": "319f42631a4e42b489b127e4050a3051",
       "version_major": 2,
       "version_minor": 0
      },
      "text/plain": [
       "FileUpload(value={}, accept='.pdb', description='Upload', multiple=True)"
      ]
     },
     "metadata": {},
     "output_type": "display_data"
    }
   ],
   "source": [
    "u = Upload()\n",
    "u.receptor()\n",
    "u.ligand()"
   ]
  },
  {
   "cell_type": "code",
   "execution_count": 37,
   "id": "5514c3a2",
   "metadata": {},
   "outputs": [
    {
     "name": "stdout",
     "output_type": "stream",
     "text": [
      "Receptor:  2YDO.pdb \n",
      "Status: OK\n",
      "\n",
      "Ligands:  ['ADN.pdb', 'NEC.pdb', 'NGI.pdb'] \n",
      "Status: OK\n",
      "\n"
     ]
    }
   ],
   "source": [
    "receptor = u.PARSEreceptor()\n",
    "ligands  = u.PARSEligands()"
   ]
  },
  {
   "cell_type": "code",
   "execution_count": 38,
   "id": "64753328",
   "metadata": {},
   "outputs": [
    {
     "data": {
      "image/png": "[encoded data removed]",
      "text/plain": [
       "<IPython.core.display.Image object>"
      ]
     },
     "execution_count": 38,
     "metadata": {},
     "output_type": "execute_result"
    }
   ],
   "source": [
    "utils.showMolecularStructures(ligands)"
   ]
  },
  {
   "cell_type": "code",
   "execution_count": 39,
   "id": "56318cd8",
   "metadata": {},
   "outputs": [],
   "source": [
    "t = docking.vina(receptor=receptor, ligands=ligands, cpus=4, outpath=os.getcwd())"
   ]
  },
  {
   "cell_type": "code",
   "execution_count": 40,
   "id": "7baa6087",
   "metadata": {
    "scrolled": false
   },
   "outputs": [
    {
     "data": {
      "application/vnd.jupyter.widget-view+json": {
       "model_id": "5f3468947fb141e1b020c223013c1047",
       "version_major": 2,
       "version_minor": 0
      },
      "text/plain": [
       "interactive(children=(FloatSlider(value=-3.0999819918097886, description='Center X', max=1.9000180081902114, m…"
      ]
     },
     "metadata": {},
     "output_type": "display_data"
    }
   ],
   "source": [
    "t.box()"
   ]
  },
  {
   "cell_type": "code",
   "execution_count": 41,
   "id": "373930ee",
   "metadata": {},
   "outputs": [
    {
     "name": "stdout",
     "output_type": "stream",
     "text": [
      "Docking...\n",
      "\n",
      "\tDocking ADN \n",
      "\n",
      "\tDocking NEC \n",
      "\n",
      "\tDocking NGI \n",
      "\n",
      "\n",
      "Analysing...\n",
      "\n",
      "Done!\n"
     ]
    }
   ],
   "source": [
    "t.run(num_modes=20)"
   ]
  },
  {
   "cell_type": "code",
   "execution_count": 42,
   "id": "49737531",
   "metadata": {},
   "outputs": [
    {
     "data": {
      "application/vnd.jupyter.widget-view+json": {
       "model_id": "621c3fccb5704808a189632662e9e596",
       "version_major": 2,
       "version_minor": 0
      },
      "text/plain": [
       "interactive(children=(Dropdown(description='Ligand:', options=('ADN', 'NEC', 'NGI'), value='ADN'), Output()), …"
      ]
     },
     "metadata": {},
     "output_type": "display_data"
    }
   ],
   "source": [
    "t.results()"
   ]
  },
  {
   "cell_type": "code",
   "execution_count": 43,
   "id": "33e7cc4e",
   "metadata": {},
   "outputs": [],
   "source": [
    "t.analyse()"
   ]
  },
  {
   "cell_type": "code",
   "execution_count": 44,
   "id": "1d82efe5",
   "metadata": {
    "scrolled": false
   },
   "outputs": [
    {
     "data": {
      "application/vnd.jupyter.widget-view+json": {
       "model_id": "e6c94bda004d4786a8e397426d3b263a",
       "version_major": 2,
       "version_minor": 0
      },
      "text/plain": [
       "interactive(children=(Dropdown(description='Ligand:', options=('ADN', 'NEC', 'NGI'), value='ADN'), Output()), …"
      ]
     },
     "metadata": {},
     "output_type": "display_data"
    }
   ],
   "source": [
    "t.interactionsMap(opacity=0)"
   ]
  },
  {
   "cell_type": "code",
   "execution_count": null,
   "id": "831d8061",
   "metadata": {},
   "outputs": [],
   "source": []
  }
 ],
 "metadata": {
  "kernelspec": {
   "display_name": "compbio",
   "language": "python",
   "name": "compbio"
  },
  "language_info": {
   "codemirror_mode": {
    "name": "ipython",
    "version": 3
   },
   "file_extension": ".py",
   "mimetype": "text/x-python",
   "name": "python",
   "nbconvert_exporter": "python",
   "pygments_lexer": "ipython3",
   "version": "3.9.9"
  }
 },
 "nbformat": 4,
 "nbformat_minor": 5
}
