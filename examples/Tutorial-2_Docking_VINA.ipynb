{
 "cells": [
  {
   "cell_type": "markdown",
   "id": "a3b28f7d",
   "metadata": {},
   "source": [
    "<div style=\"padding-bottom:20px\">\n",
    "<img src=\"https://res.cloudinary.com/djz27k5hg/image/upload/v1667919909/logos/banner_pygomodo_ovelvs.png\" align='center' style=\"margin-top:0px\"/>\n",
    "</div> "
   ]
  },
  {
   "cell_type": "markdown",
   "id": "f022444f",
   "metadata": {},
   "source": [
    "# Tutorial 2 - Molecular Docking with Autodock Vina\n",
    "\n",
    "In this tutorial we will dock antagonists of Dopamine the Dopamine D5 receptor against the model ontained in Tutorial 1. \n",
    "\n",
    "*([Guide to Pharmacoloy of Dopamine D5 receptor](https://www.guidetopharmacology.org/GRAC/ObjectDisplayForward?objectId=218&familyId=20&familyType=GPCR))*\n"
   ]
  },
  {
   "cell_type": "markdown",
   "id": "56d0f95a",
   "metadata": {},
   "source": [
    "### Importing dependencies\n",
    "\n",
    "Before we start we need to import all dependencies. We need to import the `Docking` module"
   ]
  },
  {
   "cell_type": "code",
   "execution_count": null,
   "id": "b508bc9f",
   "metadata": {},
   "outputs": [],
   "source": [
    "import os\n",
    "from pygomodo.Docking import *\n",
    "\n",
    "os.chdir('tutorial2_data')"
   ]
  },
  {
   "cell_type": "markdown",
   "id": "09366afe",
   "metadata": {},
   "source": [
    "The first step is define the receptor and ligands. All the files we need can be found in the `example/tutorial2` directory. We can also upload files directly to the jupyter notebook - see the *'Tutorial advance functions'*."
   ]
  },
  {
   "cell_type": "code",
   "execution_count": null,
   "id": "591ed435",
   "metadata": {
    "scrolled": false
   },
   "outputs": [],
   "source": [
    "receptor = 'D5_model.pdb'\n",
    "\n",
    "ligands = ['clozepine.sdf','halopiridol.sdf', 'spiperone.sdf']\n"
   ]
  },
  {
   "cell_type": "markdown",
   "id": "5d248ed1",
   "metadata": {},
   "source": [
    "We can use the function `Utils.showMolecularStructures()` to see the molecular structures of our target ligands. "
   ]
  },
  {
   "cell_type": "code",
   "execution_count": null,
   "id": "0b46f91b",
   "metadata": {},
   "outputs": [],
   "source": [
    "from pygomodo.Utils import *\n",
    "utils.showMolecularStructure(ligands)"
   ]
  },
  {
   "cell_type": "markdown",
   "id": "ffff9717",
   "metadata": {},
   "source": [
    "The next step is to start a Vina instance with `Vina()` class. Here we'll pass the receptor and ligands files and we can also define the number of cpus we want to use. In this example we'll call the Vina instance as *mydock*."
   ]
  },
  {
   "cell_type": "code",
   "execution_count": null,
   "id": "96ec4ce5",
   "metadata": {
    "scrolled": false
   },
   "outputs": [],
   "source": [
    "mydock = VINA(receptor_file=receptor, ligand_files=ligands, ncpus=4)"
   ]
  },
  {
   "attachments": {},
   "cell_type": "markdown",
   "id": "1d28c977",
   "metadata": {},
   "source": [
    "<div class=\"warning\" style='background-color:#FFEDCC; color:#000000; border-left: solid #F0B37E 4px; border-radius: 4px; padding:0.7em; margin-top:10px'>\n",
    "<span>\n",
    "<p style='margin-top:1em; text-align:left'>\n",
    "<b>⚠️ Warning:</b> </p>\n",
    "<p style='margin-left:1em;'>\n",
    "The receptor parameter of Vina class accepts only a string (the file of receptor), while the ligands parameter must be a list of ligands files even if only one ligand is. This is \n",
    "</div>\n"
   ]
  },
  {
   "attachments": {},
   "cell_type": "markdown",
   "id": "ba94b336",
   "metadata": {},
   "source": [
    "Before we run any docking calculation we have to define the Vina grid parameter. To accomplish that we can run the `Grid()` function that pre-calulates the grid dimensions. All the parameters can be toggled by the slides (the values will be automatically saved)."
   ]
  },
  {
   "cell_type": "code",
   "execution_count": null,
   "id": "0854d8d7",
   "metadata": {},
   "outputs": [],
   "source": [
    "mydock.Grid()"
   ]
  },
  {
   "cell_type": "markdown",
   "id": "77cd6fa4",
   "metadata": {},
   "source": [
    "Now its time start docking! We just need to call the `Run()` function. For this tutorial we'll calculate just for 20 binding modes."
   ]
  },
  {
   "cell_type": "code",
   "execution_count": null,
   "id": "5a6998fc",
   "metadata": {},
   "outputs": [],
   "source": [
    "mydock.Run(num_modes=20)"
   ]
  },
  {
   "attachments": {},
   "cell_type": "markdown",
   "id": "81c13d78",
   "metadata": {},
   "source": [
    "We can now visualize our docking poses calling the `ViewModels()` function. "
   ]
  },
  {
   "cell_type": "code",
   "execution_count": null,
   "id": "85912f2b",
   "metadata": {},
   "outputs": [],
   "source": [
    "mydock.ViewPoses() \n"
   ]
  },
  {
   "attachments": {},
   "cell_type": "markdown",
   "id": "362683bd",
   "metadata": {},
   "source": [
    "We can now analyze the protein-ligand interactions by calling the `ViewInteractionsMap()` function. "
   ]
  },
  {
   "cell_type": "code",
   "execution_count": null,
   "id": "6fb581ca",
   "metadata": {},
   "outputs": [],
   "source": [
    "mydock.ViewInteractionsMap(map3D=True, map2D=True, opacity=0.55, surface=True, fancy=True)"
   ]
  },
  {
   "cell_type": "code",
   "execution_count": null,
   "id": "0566858c",
   "metadata": {},
   "outputs": [],
   "source": [
    "import py3Dmol\n",
    "\n",
    "def MolTo3DView(mol, size=(300, 300), style=\"stick\", surface=False, opacity=0.5):\n",
    "    \"\"\"Draw molecule in 3D\n",
    "    \n",
    "    Args:\n",
    "    ----\n",
    "        mol: rdMol, molecule to show\n",
    "        size: tuple(int, int), canvas size\n",
    "        style: str, type of drawing molecule\n",
    "               style can be 'line', 'stick', 'sphere', 'carton'\n",
    "        surface, bool, display SAS\n",
    "        opacity, float, opacity of surface, range 0.0-1.0\n",
    "    Return:\n",
    "    ----\n",
    "        viewer: py3Dmol.view, a class for constructing embedded 3Dmol.js views in ipython notebooks.\n",
    "    \"\"\"\n",
    "    assert style in ('line', 'stick', 'sphere', 'carton')\n",
    "    mblock = Chem.MolToMolBlock(mol)\n",
    "    viewer = py3Dmol.view(width=size[0], height=size[1])\n",
    "    viewer.addModel(mblock, 'mol')\n",
    "    viewer.setStyle({style:{}})\n",
    "    if surface:\n",
    "        viewer.addSurface(py3Dmol.SAS, {'opacity': opacity})\n",
    "    viewer.zoomTo()\n",
    "    return viewer\n",
    "\n",
    "\n",
    "from rdkit import Chem\n",
    "from rdkit.Chem import AllChem\n",
    "\n",
    "def smi2conf(smiles):\n",
    "    '''Convert SMILES to rdkit.Mol with 3D coordinates'''\n",
    "    mol = Chem.MolFromSmiles(smiles)\n",
    "    if mol is not None:\n",
    "        mol = Chem.AddHs(mol)\n",
    "        AllChem.EmbedMolecule(mol)\n",
    "        AllChem.MMFFOptimizeMolecule(mol, maxIters=200)\n",
    "        return mol\n",
    "    else:\n",
    "        return None\n",
    "\n",
    "smi = 'COc3nc(OCc2ccc(C#N)c(c1ccc(C(=O)O)cc1)c2P(=O)(O)O)ccc3C[NH2+]CC(I)NC(=O)C(F)(Cl)Br'\n",
    "conf = smi2conf(smi)\n",
    "viewer = MolTo3DView(conf, size=(600, 300), style='sphere')\n",
    "viewer.show()"
   ]
  },
  {
   "cell_type": "markdown",
   "id": "7c09a805",
   "metadata": {},
   "source": [
    "## Congratulations! \n",
    "\n",
    "Congratulations on completing this tutorial notebook! If you enjoyed working through the tutorial, and want to continue working with **pyGOMoDo**, we encourage you to finish the rest of the tutorials in this series. \n",
    "\n",
    "## Cite Us\n",
    "\n",
    "If you use or adapt this tutorial for your own research projects please cite us.\n",
    "\n",
    "```\n",
    "@article{XXX,\n",
    "    title={XXX},\n",
    "    author={XXX},\n",
    "    publisher={XXX},\n",
    "    note={\\url{XXX}},\n",
    "    year={XXX}\n",
    "}\n",
    "```\n",
    "\n",
    "## Developed by\n",
    "<div style=\"padding-top:50px\">\n",
    "<img src=\"https://res.cloudinary.com/djz27k5hg/image/upload/v1657885120/logos/univr_logo_rspn8o.jpg\" width=\"200\" align='left' style=\"margin-left:50px\">\n",
    "<img src=\"https://res.cloudinary.com/djz27k5hg/image/upload/v1637335206/logos/Logo_des_Forschungszentrums_J_C3_BClich_seit_2018_hcliq4.svg\" width=\"200\" align='left' style=\"margin-left:50px\">\n",
    "</div>  \n",
    "\n",
    "<br><br><br><br>\n",
    "## Acknowledgments\n",
    "\n",
    "EU Human Brain Project (SGA1 and SGA2): This open source software was developed in part in the Human Brain Project funded from the European Union's Horizon 2020 Framework Programme for Research and Innovation under Specific Grant Agreements No 720270 and No. 78907 (Human Brain Project SGA1 and SGA2).\n",
    "\n",
    "<div style=\"padding-top:20px\">\n",
    "<img src=\"https://res.cloudinary.com/djz27k5hg/image/upload/v1637657234/logos/HBP_horizontal_logo_qtcyzn.png\" width=\"200\" align='left' style=\"margin-left:50px\">\n",
    "    <img src=\"https://res.cloudinary.com/djz27k5hg/image/upload/v1642677502/logos/COFUNDED_EU_j2ktlp.jpg\" width=\"200\" align='left' style=\"margin-left:50px\">\n",
    "</div>  "
   ]
  }
 ],
 "metadata": {
  "kernelspec": {
   "display_name": "compbio",
   "language": "python",
   "name": "compbio"
  },
  "language_info": {
   "codemirror_mode": {
    "name": "ipython",
    "version": 3
   },
   "file_extension": ".py",
   "mimetype": "text/x-python",
   "name": "python",
   "nbconvert_exporter": "python",
   "pygments_lexer": "ipython3",
   "version": "3.9.13"
  }
 },
 "nbformat": 4,
 "nbformat_minor": 5
}
