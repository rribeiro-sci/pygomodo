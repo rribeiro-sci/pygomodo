{
 "cells": [
  {
   "cell_type": "markdown",
   "id": "a3b28f7d",
   "metadata": {},
   "source": [
    "<div style=\"padding-bottom:20px\">\n",
    "<img src=\"https://res.cloudinary.com/djz27k5hg/image/upload/v1667919909/logos/banner_pygomodo_ovelvs.png\" align='center' style=\"margin-top:0px\"/>\n",
    "</div> \n",
    "\n"
   ]
  },
  {
   "cell_type": "markdown",
   "id": "f022444f",
   "metadata": {},
   "source": [
    "# Tutorial 3 - Molecular Docking with rDock\n",
    "\n",
    "In this tutorial we will dock agonsits of Adenosine A2 receptor against an agonist bound crystallographic structure [3QAK](https://www.rcsb.org/structure/3QAK).\n",
    "\n",
    "*([Guide to Pharmacoloy of Adenosine A2 receptor](https://www.guidetopharmacology.org/GRAC/ObjectDisplayForward?objectId=19&familyId=3&familyType=GPCR))*\n"
   ]
  },
  {
   "cell_type": "markdown",
   "id": "56d0f95a",
   "metadata": {},
   "source": [
    "### Importing dependencies\n",
    "\n",
    "Before we start we need to import all dependencies. We need to import the `Docking` module"
   ]
  },
  {
   "cell_type": "code",
   "execution_count": null,
   "id": "b508bc9f",
   "metadata": {},
   "outputs": [],
   "source": [
    "import os\n",
    "from pygomodo.Docking import *\n",
    "\n",
    "os.chdir('tutorial3_data')"
   ]
  },
  {
   "attachments": {},
   "cell_type": "markdown",
   "id": "09366afe",
   "metadata": {},
   "source": [
    "The first step is to save the receptor and crystallographic ligand in two separate files. However, for this tutorial these files were already prepared. We can find them in the `example/tutorial3` directory. We can also upload files directly to the jupyter notebook - see the *'Tutorial advance functions'*."
   ]
  },
  {
   "cell_type": "code",
   "execution_count": null,
   "id": "591ed435",
   "metadata": {
    "scrolled": false
   },
   "outputs": [],
   "source": [
    "receptor = '3QAK.pdb'\n",
    "xtal_ligand = 'UKA.pdb'\n"
   ]
  },
  {
   "cell_type": "markdown",
   "id": "5d248ed1",
   "metadata": {},
   "source": [
    "We can use the function `Utils.showMolecularStructures()` to see the molecular structures of our target ligands. "
   ]
  },
  {
   "cell_type": "code",
   "execution_count": null,
   "id": "0b46f91b",
   "metadata": {},
   "outputs": [],
   "source": [
    "from pygomodo.Utils import *\n",
    "utils.showMolecularStructure(xtal_ligand)"
   ]
  },
  {
   "cell_type": "markdown",
   "id": "ffff9717",
   "metadata": {},
   "source": [
    "The next step is to start a rDock instance with `RDOCK()` class. Here we'll pass the receptor. In this example we'll call the Vina instance as *mydock*."
   ]
  },
  {
   "cell_type": "code",
   "execution_count": null,
   "id": "96ec4ce5",
   "metadata": {
    "scrolled": false
   },
   "outputs": [],
   "source": [
    "mydock = RDOCK(receptor_file=receptor)"
   ]
  },
  {
   "attachments": {},
   "cell_type": "markdown",
   "id": "7a939fa0",
   "metadata": {},
   "source": [
    "Before we run any docking calculation we have to define the grid.  rDock automatically define the docking grid based on the crystallographic ligand. To accomplish that we have to call the `Cavity()` function that calulates the cavity of the crystallographic ligand. We need to pass to the function the reference molecule, which is in our case is the xtal_ligand, as defined before."
   ]
  },
  {
   "cell_type": "code",
   "execution_count": null,
   "id": "0854d8d7",
   "metadata": {},
   "outputs": [],
   "source": [
    "mydock.Cavity(reference_mol=xtal_ligand)"
   ]
  },
  {
   "cell_type": "markdown",
   "id": "77cd6fa4",
   "metadata": {},
   "source": [
    "If everything went well we already have the cristalographic cavity defined. Next we have to define the ligands we want to dock.\n",
    "\n",
    "For this tutorial we will dock three known agonists of the Adenosine A2 receptor: adenosine (the natural ligand), NECA, and Regadenoson. You can have a look to [Guide to Pharmacoloy of Adenosine A2 receptor](https://www.guidetopharmacology.org/GRAC/ObjectDisplayForward?objectId=19&familyId=3&familyType=GPCR).\n",
    "\n",
    "This files can be found in the `example/tutorial3` directory.\n",
    "\n",
    "\n",
    "<div class=\"warning\" style='background-color:#E7F2FA; color:#000000; border-left: solid #6AB0DE 4px; border-radius: 4px; padding:0.7em; margin-top:10px'>\n",
    "<span>\n",
    "<p style='margin-top:1em; text-align:left'>\n",
    "<b>💡 Tip:</b> </p>\n",
    "<p style='margin-left:1em;'>\n",
    "Different file formats are accepted. In this case the ligands are sdf files directly downloaded from <i>pubchem.org</i></p>\n",
    "</div>\n"
   ]
  },
  {
   "cell_type": "code",
   "execution_count": null,
   "id": "4fa2ec21",
   "metadata": {},
   "outputs": [],
   "source": [
    "ligands = ['adenosine.sdf', 'NECA.sdf', 'reganedoson.sdf']"
   ]
  },
  {
   "cell_type": "markdown",
   "id": "f305216a",
   "metadata": {},
   "source": [
    "We can use the function `Utils.showMolecularStructures()` to see the molecular structures of our target ligands. "
   ]
  },
  {
   "cell_type": "code",
   "execution_count": null,
   "id": "fef0e81a",
   "metadata": {},
   "outputs": [],
   "source": [
    "from pygomodo.Utils import *\n",
    "utils.showMolecularStructure(ligands)"
   ]
  },
  {
   "cell_type": "markdown",
   "id": "dd824ddf",
   "metadata": {},
   "source": [
    "We can now start docking. We just need to call the `Run()` function. We will pass to function target molecules, and the number of binding poses we want. For this tutorial we will calculate just 10 binding poses.\n",
    "\n",
    "\n",
    "<div class=\"warning\" style='background-color:#E7F2FA; color:#000000; border-left: solid #6AB0DE 4px; border-radius: 4px; padding:0.7em; margin-top:10px'>\n",
    "<span>\n",
    "<p style='margin-top:1em; text-align:left'>\n",
    "<b>💡 Tip:</b> </p>\n",
    "<p style='margin-left:1em;'>\n",
    "For better accuracy we advice to rscore the binding poses with smina. Smina is a fork of Autodock VINA that allows a better control of scoring terms. We can also minimize the binding pose with Smina. To do this we jsut need to pass the <b>smina_minimize=True</b> and <b>smina_score_only=True</b> arguments into the <b>Run()</b> function.\n",
    "</div>\n"
   ]
  },
  {
   "cell_type": "code",
   "execution_count": null,
   "id": "5a6998fc",
   "metadata": {},
   "outputs": [],
   "source": [
    "mydock.Run(target_mol=ligands, nruns=10, smina_minimize=True, smina_score_only=True)"
   ]
  },
  {
   "attachments": {},
   "cell_type": "markdown",
   "id": "81c13d78",
   "metadata": {},
   "source": [
    "We can now visualize our docking poses calling the `ViewModels()` function. "
   ]
  },
  {
   "cell_type": "code",
   "execution_count": null,
   "id": "85912f2b",
   "metadata": {},
   "outputs": [],
   "source": [
    "mydock.ViewPoses() "
   ]
  },
  {
   "cell_type": "markdown",
   "id": "362683bd",
   "metadata": {},
   "source": [
    "We can also analyse the protein-ligand interactions by calling the `ViewInteractionsMap()` function. "
   ]
  },
  {
   "cell_type": "code",
   "execution_count": null,
   "id": "6fb581ca",
   "metadata": {},
   "outputs": [],
   "source": [
    "mydock.ViewInteractionsMap(map3D=True, map2D=True, opacity=0.5, surface=True, fancy=True)"
   ]
  },
  {
   "cell_type": "markdown",
   "id": "7c09a805",
   "metadata": {},
   "source": [
    "## Congratulations! \n",
    "\n",
    "Congratulations on completing this tutorial notebook! If you enjoyed working through the tutorial, and want to continue working with **pyGOMoDo**, we encourage you to finish the rest of the tutorials in this series. \n",
    "\n",
    "## Cite Us\n",
    "\n",
    "If you use or adapt this tutorial for your own research projects please cite us.\n",
    "\n",
    "```\n",
    "@article{XXX,\n",
    "    title={XXX},\n",
    "    author={XXX},\n",
    "    publisher={XXX},\n",
    "    note={\\url{XXX}},\n",
    "    year={XXX}\n",
    "}\n",
    "```\n",
    "\n",
    "## Developed by\n",
    "<div style=\"padding-top:50px\">\n",
    "<img src=\"https://res.cloudinary.com/djz27k5hg/image/upload/v1657885120/logos/univr_logo_rspn8o.jpg\" width=\"200\" align='left' style=\"margin-left:50px\">\n",
    "<img src=\"https://res.cloudinary.com/djz27k5hg/image/upload/v1637335206/logos/Logo_des_Forschungszentrums_J_C3_BClich_seit_2018_hcliq4.svg\" width=\"200\" align='left' style=\"margin-left:50px\">\n",
    "</div>  \n",
    "\n",
    "<br><br><br><br>\n",
    "## Acknowledgments\n",
    "\n",
    "EU Human Brain Project (SGA1 and SGA2): This open source software was developed in part in the Human Brain Project funded from the European Union's Horizon 2020 Framework Programme for Research and Innovation under Specific Grant Agreements No 720270 and No. 78907 (Human Brain Project SGA1 and SGA2).\n",
    "\n",
    "<div style=\"padding-top:20px\">\n",
    "<img src=\"https://res.cloudinary.com/djz27k5hg/image/upload/v1637657234/logos/HBP_horizontal_logo_qtcyzn.png\" width=\"200\" align='left' style=\"margin-left:50px\">\n",
    "    <img src=\"https://res.cloudinary.com/djz27k5hg/image/upload/v1642677502/logos/COFUNDED_EU_j2ktlp.jpg\" width=\"200\" align='left' style=\"margin-left:50px\">\n",
    "</div>  "
   ]
  }
 ],
 "metadata": {
  "kernelspec": {
   "display_name": "compbio",
   "language": "python",
   "name": "compbio"
  },
  "language_info": {
   "codemirror_mode": {
    "name": "ipython",
    "version": 3
   },
   "file_extension": ".py",
   "mimetype": "text/x-python",
   "name": "python",
   "nbconvert_exporter": "python",
   "pygments_lexer": "ipython3",
   "version": "3.9.13"
  }
 },
 "nbformat": 4,
 "nbformat_minor": 5
}
