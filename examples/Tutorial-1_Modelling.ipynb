{
 "cells": [
  {
   "cell_type": "markdown",
   "id": "a3b28f7d",
   "metadata": {},
   "source": [
    "<div style=\"padding-bottom:20px\">\n",
    "<img src=\"https://res.cloudinary.com/djz27k5hg/image/upload/v1667919909/logos/banner_pygomodo_ovelvs.png\" align='left' style=\"margin-top:0px\"/>\n",
    "</div> \n",
    "\n"
   ]
  },
  {
   "cell_type": "markdown",
   "id": "f022444f",
   "metadata": {},
   "source": [
    "# Tutorial 1 - Homology Modelling\n",
    "\n",
    "In this tutorial we will model the Dopamine D5 receptor *(Uniprot ID: [P21918](https://www.uniprot.org/uniprotkb/P21918/entry))* which strucutre is still unknown.\n"
   ]
  },
  {
   "cell_type": "markdown",
   "id": "56d0f95a",
   "metadata": {},
   "source": [
    "### Importing dependencies\n",
    "\n",
    "Before we start we need to import all dependencies. We will need to import the `Modelling` module"
   ]
  },
  {
   "cell_type": "code",
   "execution_count": 1,
   "id": "b508bc9f",
   "metadata": {},
   "outputs": [],
   "source": [
    "import os\n",
    "from pygomodo.Modelling import *\n",
    "\n",
    "os.chdir('tutorial1_data')\n"
   ]
  },
  {
   "cell_type": "markdown",
   "id": "09366afe",
   "metadata": {},
   "source": [
    "The first step is to create a `Modeller()` instance. We will call it **mymodel**. We can also give a jobname to mymodel (optional).\n",
    "\n",
    "We also have to define our target Uniprot ID."
   ]
  },
  {
   "cell_type": "code",
   "execution_count": 2,
   "id": "591ed435",
   "metadata": {
    "scrolled": false
   },
   "outputs": [],
   "source": [
    "mymodel = Modeller(jobname='DRD5_human')\n",
    "\n",
    "uniprotid='P21918'\n"
   ]
  },
  {
   "cell_type": "markdown",
   "id": "5d248ed1",
   "metadata": {},
   "source": [
    "Next we will create the HMM profile calling `CreateHMMProfile()` function. We can pass into the function different argumensts. See [documentation](https://pygomodo.readthedocs.io/en/latest/apidocs.html)."
   ]
  },
  {
   "cell_type": "code",
   "execution_count": 3,
   "id": "0b46f91b",
   "metadata": {},
   "outputs": [
    {
     "name": "stderr",
     "output_type": "stream",
     "text": [
      "\u001b[1;31mCRITICAL[bioservices.UniProt:711]: \u001b[0m \u001b[32mHTTPSConnectionPool(host='rest.uniprot.org', port=443): Max retries exceeded with url: /uniprot/P21918.fasta?include=False (Caused by ConnectTimeoutError(<urllib3.connection.HTTPSConnection object at 0x7efc3d08aa00>, 'Connection to rest.uniprot.org timed out. (connect timeout=30)'))\u001b[0m\n",
      "\u001b[1;31mCRITICAL[bioservices.UniProt:712]: \u001b[0m \u001b[32mQuery unsuccesful. Maybe too slow response.\n",
      "    Consider increasing it with settings.TIMEOUT attribute 30\u001b[0m\n"
     ]
    },
    {
     "ename": "TypeError",
     "evalue": "write() argument must be str, not None",
     "output_type": "error",
     "traceback": [
      "\u001b[0;31m---------------------------------------------------------------------------\u001b[0m",
      "\u001b[0;31mTypeError\u001b[0m                                 Traceback (most recent call last)",
      "Cell \u001b[0;32mIn [3], line 1\u001b[0m\n\u001b[0;32m----> 1\u001b[0m HMMprofile \u001b[38;5;241m=\u001b[39m \u001b[43mmymodel\u001b[49m\u001b[38;5;241;43m.\u001b[39;49m\u001b[43mCreateHMMProfile\u001b[49m\u001b[43m(\u001b[49m\u001b[43muniprotID\u001b[49m\u001b[38;5;241;43m=\u001b[39;49m\u001b[43muniprotid\u001b[49m\u001b[43m,\u001b[49m\u001b[43m \u001b[49m\u001b[43mncpus\u001b[49m\u001b[38;5;241;43m=\u001b[39;49m\u001b[38;5;241;43m4\u001b[39;49m\u001b[43m,\u001b[49m\u001b[43m \u001b[49m\u001b[43mrounds\u001b[49m\u001b[38;5;241;43m=\u001b[39;49m\u001b[38;5;241;43m2\u001b[39;49m\u001b[43m)\u001b[49m\n",
      "File \u001b[0;32m/home/rribeiro/Projects/pygomodo/pygomodo/Modelling.py:126\u001b[0m, in \u001b[0;36mModeller.CreateHMMProfile\u001b[0;34m(self, **kwargs)\u001b[0m\n\u001b[1;32m    124\u001b[0m     \u001b[38;5;28mself\u001b[39m\u001b[38;5;241m.\u001b[39m_fasta \u001b[38;5;241m=\u001b[39mget\u001b[38;5;241m.\u001b[39mseq_from_uniprot(uniprotID\u001b[38;5;241m=\u001b[39m\u001b[38;5;28mself\u001b[39m\u001b[38;5;241m.\u001b[39m_uniprotID)\n\u001b[1;32m    125\u001b[0m     \u001b[38;5;28;01mwith\u001b[39;00m \u001b[38;5;28mopen\u001b[39m(os\u001b[38;5;241m.\u001b[39mpath\u001b[38;5;241m.\u001b[39mjoin(\u001b[38;5;28mself\u001b[39m\u001b[38;5;241m.\u001b[39m_jobdir,\u001b[38;5;124m'\u001b[39m\u001b[38;5;124msequence.seq\u001b[39m\u001b[38;5;124m'\u001b[39m), \u001b[38;5;124m'\u001b[39m\u001b[38;5;124mw\u001b[39m\u001b[38;5;124m'\u001b[39m) \u001b[38;5;28;01mas\u001b[39;00m f:\n\u001b[0;32m--> 126\u001b[0m         \u001b[43mf\u001b[49m\u001b[38;5;241;43m.\u001b[39;49m\u001b[43mwrite\u001b[49m\u001b[43m(\u001b[49m\u001b[38;5;28;43mself\u001b[39;49m\u001b[38;5;241;43m.\u001b[39;49m\u001b[43m_fasta\u001b[49m\u001b[43m)\u001b[49m\n\u001b[1;32m    127\u001b[0m \u001b[38;5;28;01melif\u001b[39;00m \u001b[38;5;129;01mnot\u001b[39;00m \u001b[38;5;28mself\u001b[39m\u001b[38;5;241m.\u001b[39m_uniprotID\u001b[38;5;241m.\u001b[39mstrip() \u001b[38;5;129;01mand\u001b[39;00m \u001b[38;5;28mself\u001b[39m\u001b[38;5;241m.\u001b[39m_fasta:\n\u001b[1;32m    128\u001b[0m     \u001b[38;5;28;01mwith\u001b[39;00m \u001b[38;5;28mopen\u001b[39m(os\u001b[38;5;241m.\u001b[39mpath\u001b[38;5;241m.\u001b[39mjoin(\u001b[38;5;28mself\u001b[39m\u001b[38;5;241m.\u001b[39m_jobdir,\u001b[38;5;124m'\u001b[39m\u001b[38;5;124msequence.seq\u001b[39m\u001b[38;5;124m'\u001b[39m), \u001b[38;5;124m'\u001b[39m\u001b[38;5;124mw\u001b[39m\u001b[38;5;124m'\u001b[39m) \u001b[38;5;28;01mas\u001b[39;00m f:\n",
      "\u001b[0;31mTypeError\u001b[0m: write() argument must be str, not None"
     ]
    }
   ],
   "source": [
    "HMMprofile = mymodel.CreateHMMProfile(uniprotID=uniprotid, ncpus=4, rounds=2)"
   ]
  },
  {
   "cell_type": "code",
   "execution_count": null,
   "id": "f58b7499",
   "metadata": {},
   "outputs": [],
   "source": [
    "ls"
   ]
  },
  {
   "cell_type": "markdown",
   "id": "ffff9717",
   "metadata": {},
   "source": [
    "Once we've created the HMM profile we will search for templates. To accomplish that we'll use the `SearchTemplates()` function. See [documentation](https://pygomodo.readthedocs.io/en/latest/apidocs.html) if needed. The output of this function is a table of templates sorted by the template's sequenece resolved coverage."
   ]
  },
  {
   "cell_type": "code",
   "execution_count": null,
   "id": "96ec4ce5",
   "metadata": {
    "scrolled": false
   },
   "outputs": [],
   "source": [
    "templates = mymodel.SearchTemplates(ncpus=4)"
   ]
  },
  {
   "cell_type": "markdown",
   "id": "1d28c977",
   "metadata": {},
   "source": [
    "Now, we can choose our templates depende our needs. Let's imagine that we want to study our receptor in its inactive conformation. Thus, we will choode the templete **P14416_6LUQ:A** (Template 11) because is the template with the best resolved coverage in the inactive state. Just create a list of templates as bellow.\n",
    "\n",
    "<div class=\"warning\" style='background-color:#E7F2FA; color:#000000; border-left: solid #6AB0DE 4px; border-radius: 4px; padding:0.7em; margin-top:10px'>\n",
    "<span>\n",
    "<p style='margin-top:1em; text-align:left'>\n",
    "<b>💡 Tip:</b> </p>\n",
    "<p style='margin-left:1em;'>\n",
    "pyGOMoDO accepts multiple templates.\n",
    "</div>\n",
    "\n"
   ]
  },
  {
   "cell_type": "code",
   "execution_count": null,
   "id": "0854d8d7",
   "metadata": {},
   "outputs": [],
   "source": [
    "temps=['P14416_6LUQ:A'] ## Note: pyGOMoDO accepts multiple templates."
   ]
  },
  {
   "cell_type": "markdown",
   "id": "77cd6fa4",
   "metadata": {},
   "source": [
    "Now its time to model! We just neet to call the `MakeModels()` function. For this tutorial we will create just 4 models without loop refinement. All argumetns that can be used are explained in the [documentation](https://pygomodo.readthedocs.io/en/latest/apidocs.html)."
   ]
  },
  {
   "cell_type": "code",
   "execution_count": null,
   "id": "5a6998fc",
   "metadata": {},
   "outputs": [],
   "source": [
    "models = mymodel.MakeModels(templates=temps, nmodels=4, ncpus=4, loop=False)\n"
   ]
  },
  {
   "cell_type": "markdown",
   "id": "81c13d78",
   "metadata": {},
   "source": [
    "\n",
    "We can vizualise our models calling the `ViewModels()` function. "
   ]
  },
  {
   "cell_type": "code",
   "execution_count": null,
   "id": "85912f2b",
   "metadata": {},
   "outputs": [],
   "source": [
    "mymodel.ViewModels()"
   ]
  },
  {
   "cell_type": "markdown",
   "id": "362683bd",
   "metadata": {},
   "source": [
    "\n",
    "To evaluate the quality of our models we can upload them to the Swiss-Model webserver. Let's evaluate the first two models.\n",
    "    \n",
    "<div class=\"warning\" style='background-color:#FFEDCC; color:#000000; border-left: solid #F0B37E 4px; border-radius: 4px; padding:0.7em; margin-top:10px'>\n",
    "<span>\n",
    "<p style='margin-top:1em; text-align:left'>\n",
    "<b>⚠️ Warning:</b></p>\n",
    "<p style='margin-left:1em;'>\n",
    "The swissmodel API requires an email. Therefore a valid email must be given. pyGOMoDo does not collect, store, use or distribute any kind of personal data!\n",
    "</div>"
   ]
  },
  {
   "cell_type": "code",
   "execution_count": null,
   "id": "6fb581ca",
   "metadata": {},
   "outputs": [],
   "source": [
    "mymodel.Qmeanbrane(models=['Model.B99990001.pdb','Model.B99990002.pdb'], email='rui.ribeiro@univr.it') ## change list of models and XX accordingly. \n"
   ]
  },
  {
   "cell_type": "markdown",
   "id": "51b9ba41",
   "metadata": {},
   "source": [
    "Just click the link to see the evaluation results."
   ]
  },
  {
   "cell_type": "markdown",
   "id": "7c09a805",
   "metadata": {},
   "source": [
    "## Congratulations! \n",
    "\n",
    "Congratulations on completing this tutorial notebook! If you enjoyed working through the tutorial, and want to continue working with **pyGOMoDo**, we encourage you to finish the rest of the tutorials in this series. \n",
    "\n",
    "## Cite Us\n",
    "\n",
    "If you use or adapt this tutorial for your own research projects please cite us.\n",
    "\n",
    "```\n",
    "@article{XXX,\n",
    "    title={XXX},\n",
    "    author={XXX},\n",
    "    publisher={XXX},\n",
    "    note={\\url{XXX}},\n",
    "    year={XXX}\n",
    "}\n",
    "```\n",
    "\n",
    "## Developed by\n",
    "<div style=\"padding-top:50px\">\n",
    "<img src=\"https://res.cloudinary.com/djz27k5hg/image/upload/v1657885120/logos/univr_logo_rspn8o.jpg\" width=\"200\" align='left' style=\"margin-left:50px\">\n",
    "<img src=\"https://res.cloudinary.com/djz27k5hg/image/upload/v1637335206/logos/Logo_des_Forschungszentrums_J_C3_BClich_seit_2018_hcliq4.svg\" width=\"200\" align='left' style=\"margin-left:50px\">\n",
    "</div>  \n",
    "\n",
    "<br><br><br><br>\n",
    "## Acknowledgments\n",
    "\n",
    "EU Human Brain Project (SGA1 and SGA2): This open source software was developed in part in the Human Brain Project funded from the European Union's Horizon 2020 Framework Programme for Research and Innovation under Specific Grant Agreements No 720270 and No. 78907 (Human Brain Project SGA1 and SGA2).\n",
    "\n",
    "<div style=\"padding-top:20px\">\n",
    "<img src=\"https://res.cloudinary.com/djz27k5hg/image/upload/v1637657234/logos/HBP_horizontal_logo_qtcyzn.png\" width=\"200\" align='left' style=\"margin-left:50px\">\n",
    "    <img src=\"https://res.cloudinary.com/djz27k5hg/image/upload/v1642677502/logos/COFUNDED_EU_j2ktlp.jpg\" width=\"200\" align='left' style=\"margin-left:50px\">\n",
    "</div>  "
   ]
  }
 ],
 "metadata": {
  "kernelspec": {
   "display_name": "Python 3 (ipykernel)",
   "language": "python",
   "name": "python3"
  },
  "language_info": {
   "codemirror_mode": {
    "name": "ipython",
    "version": 3
   },
   "file_extension": ".py",
   "mimetype": "text/x-python",
   "name": "python",
   "nbconvert_exporter": "python",
   "pygments_lexer": "ipython3",
   "version": "3.9.13"
  }
 },
 "nbformat": 4,
 "nbformat_minor": 5
}
