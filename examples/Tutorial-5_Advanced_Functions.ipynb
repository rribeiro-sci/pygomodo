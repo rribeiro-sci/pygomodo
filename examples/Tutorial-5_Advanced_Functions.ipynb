{
 "cells": [
  {
   "cell_type": "markdown",
   "id": "a3b28f7d",
   "metadata": {},
   "source": [
    "<div style=\"padding-bottom:20px\">\n",
    "<img src=\"https://res.cloudinary.com/djz27k5hg/image/upload/v1667919909/logos/banner_pygomodo_ovelvs.png\" align='center' style=\"margin-top:0px\"/>\n",
    "</div> \n",
    "\n",
    "# Tutorial 5 - Advanced Functions\n",
    "\n",
    "This tutorial consists of features of pyGOMoDo that can be used to enhence users pipelines.\n",
    "\n"
   ]
  },
  {
   "cell_type": "markdown",
   "id": "f022444f",
   "metadata": {},
   "source": [
    "<br><br>\n",
    "## Upload Files\n",
    "\n",
    "The `Utils.Upload()` class allows to upload files uising GUI into the working direcotry.\n",
    "\n",
    "To uload a file create first an instance fo the `Upload()` class:"
   ]
  },
  {
   "cell_type": "code",
   "execution_count": null,
   "id": "909111b7",
   "metadata": {},
   "outputs": [],
   "source": [
    "from pygomodo.Utils import Upload\n",
    "\n",
    "myfile = Upload()\n"
   ]
  },
  {
   "cell_type": "markdown",
   "id": "2b124f60",
   "metadata": {},
   "source": [
    "Then call the `Upload()` function and click on the Upload button to select and upload the file:"
   ]
  },
  {
   "cell_type": "code",
   "execution_count": null,
   "id": "488dcc1d",
   "metadata": {},
   "outputs": [],
   "source": [
    "myfile.FileParse()"
   ]
  },
  {
   "cell_type": "markdown",
   "id": "c7434b35",
   "metadata": {},
   "source": [
    "<div class=\"warning\" style='background-color:#FFEDCC; color:#000000; border-left: solid #F0B37E 4px; border-radius: 4px; padding:0.7em; margin-top:10px'>\n",
    "<span>\n",
    "<p style='margin-top:1em; text-align:left'>\n",
    "<b>⚠️ Warning:</b> </p>\n",
    "<p style='margin-left:1em;'>\n",
    "The <b>File()</b> function upload the file into memory in the kernel. To write the file in the directory, so it can be used, it is important to call the <b>FileParse()</b> fucntion:\n",
    "\n",
    "</div>"
   ]
  },
  {
   "cell_type": "code",
   "execution_count": null,
   "id": "7d63ce0d",
   "metadata": {},
   "outputs": [],
   "source": [
    "myfile.FileParse()"
   ]
  },
  {
   "cell_type": "markdown",
   "id": "69f958d9",
   "metadata": {},
   "source": [
    "<div class=\"note\" style='background-color:#E7F2FA; color:#000000; border-left: solid #6AB0DE 4px; border-radius: 4px; padding:0.7em; margin-top:10px'>\n",
    "<span>\n",
    "<p style='margin-top:1em; text-align:left'>\n",
    "<b>💡 Tip:</b> </p>\n",
    "<p style='margin-left:1em;'>\n",
    "To upload multiple files, for example, to upload multiple ligands, one must use the <b>Files()</b> and  <b>Filesparse()</b> fuctions.\n",
    "\n",
    "</div>"
   ]
  },
  {
   "cell_type": "markdown",
   "id": "56d0f95a",
   "metadata": {},
   "source": [
    "<br><br>\n",
    "## Use the RepOdor database\n",
    "\n",
    "The [RepOdor](https://repodor.its.kfa-juelich.de) is a database of olfactory receptors and their experimentally known ligands. \n",
    "\n",
    "If you want to docking odorans to an olfactory receptor with <b>pyGOMoDo</b>, you can used the `RepOdor()` class."
   ]
  },
  {
   "cell_type": "code",
   "execution_count": null,
   "id": "c623bb8c",
   "metadata": {
    "scrolled": false
   },
   "outputs": [],
   "source": [
    "from pygomodo.Utils import RepOdor\n",
    " \n",
    "uniprotid = 'Q8NGH8' # Uniprot id of the Olfactory receptor 51A2\n",
    "mols = RepOdor()\n",
    "mols.search(uniprotid, show2D=False)"
   ]
  },
  {
   "cell_type": "markdown",
   "id": "0dcf7798",
   "metadata": {},
   "source": [
    "<br><br>\n",
    "## Generate 3D conformers from SMILES\n",
    "\n",
    "To generate 3D conformers from SMILES we can use the the `GenerateMolecularConformation()` function.  "
   ]
  },
  {
   "cell_type": "code",
   "execution_count": null,
   "id": "cb5e19e4",
   "metadata": {},
   "outputs": [],
   "source": [
    "names = ['noradrenaline','propranolol','isoprenaline']\n",
    "smiles = ['C1=CC(=C(C=C1C(CN)O)O)O','CC(C)NCC(COC1=CC=CC2=CC=CC=C21)O','CC(C)NCC(C1=CC(=C(C=C1)O)O)O']\n",
    "\n",
    "from pygomodo.Utils import utils\n",
    "\n",
    "molecules = list(map(utils.GenerateMolecularConformation, smiles, names))\n",
    "molecules"
   ]
  },
  {
   "cell_type": "code",
   "execution_count": null,
   "id": "f93da4f2",
   "metadata": {},
   "outputs": [],
   "source": [
    "utils.showMolecules(molecules)"
   ]
  },
  {
   "cell_type": "markdown",
   "id": "7c09a805",
   "metadata": {},
   "source": [
    "## Documentation\n",
    "\n",
    "All documentation can be accessed at [Read the docs](https://pygomodo.readthedocs.io).\n",
    "\n",
    "## Cite Us\n",
    "\n",
    "If you use **pyGOMoDo** for your own research projects please cite us.\n",
    "\n",
    "```\n",
    "@article{XXX,\n",
    "    title={XXX},\n",
    "    author={XXX},\n",
    "    publisher={XXX},\n",
    "    note={\\url{XXX}},\n",
    "    year={XXX}\n",
    "}\n",
    "```\n",
    "\n",
    "## Developed by\n",
    "<div style=\"padding-top:50px\">\n",
    "<img src=\"https://res.cloudinary.com/djz27k5hg/image/upload/v1657885120/logos/univr_logo_rspn8o.jpg\" width=\"200\" align='left' style=\"margin-left:50px\">\n",
    "<img src=\"https://res.cloudinary.com/djz27k5hg/image/upload/v1637335206/logos/Logo_des_Forschungszentrums_J_C3_BClich_seit_2018_hcliq4.svg\" width=\"200\" align='left' style=\"margin-left:50px\">\n",
    "</div>  \n",
    "\n",
    "<br><br><br><br>\n",
    "## Acknowledgments\n",
    "\n",
    "EU Human Brain Project (SGA1 and SGA2): This open source software was developed in part in the Human Brain Project funded from the European Union's Horizon 2020 Framework Programme for Research and Innovation under Specific Grant Agreements No 720270 and No. 78907 (Human Brain Project SGA1 and SGA2).\n",
    "\n",
    "<div style=\"padding-top:20px\">\n",
    "<img src=\"https://res.cloudinary.com/djz27k5hg/image/upload/v1637657234/logos/HBP_horizontal_logo_qtcyzn.png\" width=\"200\" align='left' style=\"margin-left:50px\">\n",
    "    <img src=\"https://res.cloudinary.com/djz27k5hg/image/upload/v1642677502/logos/COFUNDED_EU_j2ktlp.jpg\" width=\"200\" align='left' style=\"margin-left:50px\">\n",
    "</div>  "
   ]
  },
  {
   "cell_type": "code",
   "execution_count": null,
   "id": "8aad56f5",
   "metadata": {},
   "outputs": [],
   "source": []
  }
 ],
 "metadata": {
  "kernelspec": {
   "display_name": "compbio",
   "language": "python",
   "name": "compbio"
  },
  "language_info": {
   "codemirror_mode": {
    "name": "ipython",
    "version": 3
   },
   "file_extension": ".py",
   "mimetype": "text/x-python",
   "name": "python",
   "nbconvert_exporter": "python",
   "pygments_lexer": "ipython3",
   "version": "3.9.13"
  }
 },
 "nbformat": 4,
 "nbformat_minor": 5
}
