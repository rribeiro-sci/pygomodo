{
 "cells": [
  {
   "cell_type": "markdown",
   "id": "a3b28f7d",
   "metadata": {},
   "source": [
    "<div style=\"padding-bottom:20px\">\n",
    "<img src=\"https://res.cloudinary.com/djz27k5hg/image/upload/v1667919909/logos/banner_pygomodo_ovelvs.png\" align='center' style=\"margin-top:0px\"/>\n",
    "</div> \n",
    "\n"
   ]
  },
  {
   "cell_type": "markdown",
   "id": "f022444f",
   "metadata": {},
   "source": [
    "# Tutorial 4 - Tethered docking with rDock\n",
    "\n",
    "In this tutorial, we will tethered dock agonists of the Adenosine A2 receptor against an agonist-bound crystallographic structure [3QAK](https://www.rcsb.org/structure/3QAK).\n",
    "\n",
    "*([Guide to Pharmacoloy of Adenosine A2 receptor](https://www.guidetopharmacology.org/GRAC/ObjectDisplayForward?objectId=19&familyId=3&familyType=GPCR))*\n",
    "\n",
    "## The tethered approach\n",
    "\n",
    "In the tethered docking approach, we dock a series of similar compounds using the known position of the original bound compound. Here, we assume that minor modifications made on the ligand do not affect the binding mode of the ligand in a significant way (which is only sometimes valid).\n",
    "\n",
    "So, the main idea of this approach is to dock molecules that share the same molecular core.\n",
    "\n"
   ]
  },
  {
   "cell_type": "markdown",
   "id": "56d0f95a",
   "metadata": {},
   "source": [
    "### Importing dependencies\n",
    "\n",
    "Before we start, we need to import all dependencies. We need to import the `Docking` module.\n"
   ]
  },
  {
   "cell_type": "code",
   "execution_count": null,
   "id": "b508bc9f",
   "metadata": {},
   "outputs": [],
   "source": [
    "import os,sys\n",
    "sys.path.append('') # ADD HERE YOUR pyGOMoDo DIRECTORY\n",
    "from pygomodo.Docking import *\n",
    "\n",
    "os.chdir('tutorial4_data')"
   ]
  },
  {
   "cell_type": "markdown",
   "id": "d3820266",
   "metadata": {},
   "source": [
    "Let's start by importing the target ligands. For this tutorial, we will import a CSV containing our target ligands' smiles."
   ]
  },
  {
   "cell_type": "code",
   "execution_count": null,
   "id": "ea5305e6",
   "metadata": {},
   "outputs": [],
   "source": [
    "import pandas as pd\n",
    "from rdkit.Chem import PandasTools\n",
    "from rdkit import Chem\n",
    "from rdkit.Chem import AllChem\n",
    "\n",
    "df=pd.read_csv('data.csv')\n",
    "PandasTools.AddMoleculeColumnToFrame(df, smilesCol='smiles')\n",
    "df"
   ]
  },
  {
   "cell_type": "markdown",
   "id": "a371e07c",
   "metadata": {},
   "source": [
    "As you can see, the molecules share a similar core or MCS (*Molecular Common Substructure*). In action, this molecule was obtained from a lead optimization project."
   ]
  },
  {
   "cell_type": "markdown",
   "id": "09366afe",
   "metadata": {},
   "source": [
    "The first step is to calculate the MCS between the target ligands and the crystallographic ligand to obtain the atoms that will be tethered. We will use the `Tethering.MolsAlignment()` function from the `Align` module of **pyGOMoDo**.\n"
   ]
  },
  {
   "cell_type": "code",
   "execution_count": null,
   "id": "591ed435",
   "metadata": {},
   "outputs": [],
   "source": [
    "from pygomodo.Align import Tethering\n",
    "\n",
    "#Defining the crystallographic ligand\n",
    "xtal_ligand = 'UKA.pdb'\n",
    "\n",
    "#Defining target names and target smiles\n",
    "targetsNames = df.id.tolist()\n",
    "targetsSmiles = df.smiles.tolist()\n",
    "\n",
    "#Aligning molecules\n",
    "targetsAligned = Tethering.MolsAlignment(reference= xtal_ligand, targets_names=targetsNames, targets_smiles=targetsSmiles)\n"
   ]
  },
  {
   "cell_type": "markdown",
   "id": "2f4205b1",
   "metadata": {},
   "source": [
    "If everything went well, we now have the target ligands tethered and aligned to the crystallographic ligand.\n",
    "\n",
    "#### But what is happening here?\n",
    "\n",
    "The `Tethering.MolsAlignment()` uses RDKIT first to calculate the MSC between each target ligand and the crystallographic ligand and to generate the 3D conformation of each target ligand based on the MCS of the crystallographic ligand.\n",
    "\n",
    "\n",
    "We can now define the receptor structure.\n"
   ]
  },
  {
   "cell_type": "code",
   "execution_count": null,
   "id": "0b46f91b",
   "metadata": {},
   "outputs": [],
   "source": [
    "receptor = '3QAK.pdb'"
   ]
  },
  {
   "cell_type": "markdown",
   "id": "ffff9717",
   "metadata": {},
   "source": [
    "The next step is to start a rDock instance with the `RDOCK()` class. Here, we'll pass the receptor. In this example, we'll call the Vina instance *mydock*."
   ]
  },
  {
   "cell_type": "code",
   "execution_count": null,
   "id": "96ec4ce5",
   "metadata": {},
   "outputs": [],
   "source": [
    "mydock = RDOCK(receptor_file=receptor)"
   ]
  },
  {
   "cell_type": "markdown",
   "id": "7a939fa0",
   "metadata": {},
   "source": [
    "Before we run any docking calculations, we have to define the grid.  rDock automatically defines the docking grid based on the crystallographic ligand. To accomplish that, we have to call the `Cavity()` function that calculates the cavity of the crystallographic ligand. We need to pass the reference molecule to the function, which is, in our case, the xtal_ligand, as defined before."
   ]
  },
  {
   "cell_type": "code",
   "execution_count": null,
   "id": "0854d8d7",
   "metadata": {},
   "outputs": [],
   "source": [
    "mydock.Cavity(reference_mol=xtal_ligand)"
   ]
  },
  {
   "cell_type": "markdown",
   "id": "dd824ddf",
   "metadata": {},
   "source": [
    "If everything goes well, we have now the crystallographic cavity defined. \n",
    "\n",
    "We can now start docking. We need to call the `Run()` function. We will pass to function the target molecules we have tethered aligned. For this tutorial, we will calculate just ten binding poses for each target molecule.\n",
    "\n",
    "\n",
    "<div class=\"warning\" style='background-color:#E7F2FA; color:#000000; border-left: solid #6AB0DE 4px; border-radius: 4px; padding:0.7em; margin-top:10px'>\n",
    "<span>\n",
    "<p style='margin-top:1em; text-align:left'>\n",
    "<b>💡 Tip:</b> </p>\n",
    "<p style='margin-left:1em;'>\n",
    "For better accuracy, we advise scoring the binding poses with stamina. Smina is a fork of Autodock VINA that allows better control of achieving terms. We can also minimize the binding pose with Smina. To do this, we just need to pass the <b>smina_minimize=True</b> and <b>smina_score_only=True</b> arguments into the <b>Run()</b> function.\n",
    "</div>\n"
   ]
  },
  {
   "cell_type": "code",
   "execution_count": null,
   "id": "5a6998fc",
   "metadata": {},
   "outputs": [],
   "source": [
    "mydock.Run(target_mol=targetsAligned, tethered=True, nruns=10, smina_minimize=True, smina_score_only=True)"
   ]
  },
  {
   "cell_type": "markdown",
   "id": "81c13d78",
   "metadata": {},
   "source": [
    "We can now visualize our docking poses by calling the `ViewPoses()` function.\n",
    "\n",
    "<div class=\"warning\" style='background-color:#E7F2FA; color:#000000; border-left: solid #6AB0DE 4px; border-radius: 4px; padding:0.7em; margin-top:10px'>\n",
    "<span>\n",
    "<p style='margin-top:1em; text-align:left'>\n",
    "<b>💡 Tip:</b> </p>\n",
    "<p style='margin-left:1em;'>\n",
    "The visualization can include the crystallographic molecule, passing the <b>ref_mol=True</b> parameter to the function.\n",
    "</div>\n",
    "\n",
    "    \n"
   ]
  },
  {
   "cell_type": "code",
   "execution_count": null,
   "id": "85912f2b",
   "metadata": {},
   "outputs": [],
   "source": [
    "mydock.ViewPoses(ref_mol=True) "
   ]
  },
  {
   "cell_type": "markdown",
   "id": "362683bd",
   "metadata": {},
   "source": [
    "\n",
    "We can also analyze the protein-ligand interactions by calling the `ViewInteractionsMap()` function.\n"
   ]
  },
  {
   "cell_type": "code",
   "execution_count": null,
   "id": "6fb581ca",
   "metadata": {},
   "outputs": [],
   "source": [
    "mydock.ViewInteractionsMap(map3D=True, map2D=True, opacity=0.65)"
   ]
  },
  {
   "cell_type": "markdown",
   "id": "7c09a805",
   "metadata": {},
   "source": [
    "## Congratulations! \n",
    "\n",
    "Congratulations on completing this tutorial notebook! If you enjoyed working through the tutorial and want to continue working with **pyGOMoDo**, we encourage you to finish the rest of the tutorials in this series. \n",
    "\n",
    "## Cite Us\n",
    "\n",
    "Please cite us if you use or adapt this tutorial for your research projects.\n",
    "\n",
    "```\n",
    "@article{10.1093/bioinformatics/btad294,\n",
    "    author = {Ribeiro, Rui P and Giorgetti, A},\n",
    "    title = \"{pyGOMoDo: GPCRs modeling and docking with python}\",\n",
    "    journal = {Bioinformatics},\n",
    "    year = {2023},\n",
    "    doi = {10.1093/bioinformatics/btad294},\n",
    "    url = {https://doi.org/10.1093/bioinformatics/btad294},\n",
    "}\n",
    "```\n",
    "## Developed by\n",
    "<div style=\"padding-top:50px\">\n",
    "<img src=\"https://res.cloudinary.com/djz27k5hg/image/upload/v1657885120/logos/univr_logo_rspn8o.jpg\" width=\"200\" align='left' style=\"margin-left:50px\">\n",
    "<img src=\"https://res.cloudinary.com/djz27k5hg/image/upload/v1637335206/logos/Logo_des_Forschungszentrums_J_C3_BClich_seit_2018_hcliq4.svg\" width=\"200\" align='left' style=\"margin-left:50px\">\n",
    "</div>  \n",
    "\n",
    "<br><br><br><br>\n",
    "## Acknowledgments\n",
    "\n",
    "EU Human Brain Project (SGA1 and SGA2): This open-source software was developed in part in the Human Brain Project funded by the European Union's Horizon 2020 Framework Programme for Research and Innovation under Specific Grant Agreements No 720270 and No. 78907 (Human Brain Project SGA1 and SGA2).\n",
    "\n",
    "<div style=\"padding-top:20px\">\n",
    "<img src=\"https://res.cloudinary.com/djz27k5hg/image/upload/v1637657234/logos/HBP_horizontal_logo_qtcyzn.png\" width=\"200\" align='left' style=\"margin-left:50px\">\n",
    "    <img src=\"https://res.cloudinary.com/djz27k5hg/image/upload/v1642677502/logos/COFUNDED_EU_j2ktlp.jpg\" width=\"200\" align='left' style=\"margin-left:50px\">\n",
    "</div>  \n"
   ]
  }
 ],
 "metadata": {
  "kernelspec": {
   "display_name": "compbio",
   "language": "python",
   "name": "compbio"
  },
  "language_info": {
   "codemirror_mode": {
    "name": "ipython",
    "version": 3
   },
   "file_extension": ".py",
   "mimetype": "text/x-python",
   "name": "python",
   "nbconvert_exporter": "python",
   "pygments_lexer": "ipython3",
   "version": "3.9.18"
  }
 },
 "nbformat": 4,
 "nbformat_minor": 5
}
