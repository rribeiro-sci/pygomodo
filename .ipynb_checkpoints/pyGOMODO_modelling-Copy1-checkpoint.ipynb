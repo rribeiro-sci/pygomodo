{
 "cells": [
  {
   "cell_type": "code",
   "execution_count": 1,
   "id": "e2b23d2d",
   "metadata": {},
   "outputs": [],
   "source": [
    "%load_ext autoreload\n",
    "%autoreload 2"
   ]
  },
  {
   "cell_type": "code",
   "execution_count": 2,
   "id": "d062f5af",
   "metadata": {},
   "outputs": [
    {
     "data": {
      "text/html": [
       "<style>\n",
       ".container{\n",
       "    width: 98% !important;\n",
       "}\n",
       "</style>"
      ],
      "text/plain": [
       "<IPython.core.display.HTML object>"
      ]
     },
     "metadata": {},
     "output_type": "display_data"
    }
   ],
   "source": [
    "from IPython.display import display, HTML\n",
    "css = \"\"\"\n",
    ".container{\n",
    "    width: 98% !important;\n",
    "}\n",
    "\"\"\"\n",
    "display(HTML('<style>{}</style>'.format(css)))\n",
    "\n"
   ]
  },
  {
   "cell_type": "code",
   "execution_count": 3,
   "id": "b508bc9f",
   "metadata": {},
   "outputs": [],
   "source": [
    "#Import pygomodo\n",
    "from pygomodo import Modelling\n",
    "import os\n",
    "\n",
    "#docker\n",
    "#os.environ['HHSUITEPATH']= '/opt/hh-suite/build/bin/' \n",
    "#os.environ['HHSUITESCRIPTS']='/opt/hh-suite/build/scripts/'  \n",
    "\n",
    "#system\n",
    "os.environ['HHSUITEPATH']= '/usr/local/opt/hh-suite3/bin/' \n",
    "os.environ['HHSUITESCRIPTS']='/usr/local/opt/hh-suite3/scripts/'\n",
    "\n",
    "os.chdir('modelling_test/')"
   ]
  },
  {
   "cell_type": "code",
   "execution_count": 4,
   "id": "7dea62e9",
   "metadata": {},
   "outputs": [
    {
     "name": "stdout",
     "output_type": "stream",
     "text": [
      "rm: cannot remove 'test_DR/*': No such file or directory\r\n"
     ]
    }
   ],
   "source": [
    "rm test_DR/*"
   ]
  },
  {
   "cell_type": "code",
   "execution_count": null,
   "id": "591ed435",
   "metadata": {
    "scrolled": false
   },
   "outputs": [
    {
     "name": "stdout",
     "output_type": "stream",
     "text": [
      "Running...\n",
      "\n"
     ]
    }
   ],
   "source": [
    "mod = Modelling.Modeller(jobname='test_DR')\n",
    "uniprotid='P21918'\n",
    "\n",
    "HMMprofile = mod.CreateHMMProfile(uniprotID=uniprotid, ncpus=4, rounds=2)\n"
   ]
  },
  {
   "cell_type": "code",
   "execution_count": null,
   "id": "96ec4ce5",
   "metadata": {
    "scrolled": false
   },
   "outputs": [],
   "source": [
    "templates = mod.SearchTemplates(ncpus=4)"
   ]
  },
  {
   "cell_type": "code",
   "execution_count": null,
   "id": "0854d8d7",
   "metadata": {},
   "outputs": [],
   "source": [
    "temps=[templates.iloc[1].Hit, templates.iloc[2].Hit] \n",
    "temps"
   ]
  },
  {
   "cell_type": "code",
   "execution_count": null,
   "id": "5a6998fc",
   "metadata": {
    "scrolled": false
   },
   "outputs": [],
   "source": [
    "##RR > this command is not working on jupyterhub. I need to use the normal jupyter notebook because of python versions.\n",
    "models = mod.MakeModels(templates=['P21728_7JOZ:R'], nmodels=4, ncpus=4, loop=\"No\",nloop=0, trim=\"No\")\n"
   ]
  },
  {
   "cell_type": "code",
   "execution_count": null,
   "id": "85912f2b",
   "metadata": {},
   "outputs": [],
   "source": [
    "mod.ViewModels()"
   ]
  },
  {
   "cell_type": "code",
   "execution_count": null,
   "id": "6fb581ca",
   "metadata": {},
   "outputs": [],
   "source": [
    "mod.Qmeanbrane(models=['Model.B99990001.pdb','Model.B99990002.pdb'], email='rui.ribeiro@univr.it') ## change list of models and XX accordingly. "
   ]
  },
  {
   "cell_type": "code",
   "execution_count": null,
   "id": "a8516e86",
   "metadata": {},
   "outputs": [],
   "source": []
  }
 ],
 "metadata": {
  "kernelspec": {
   "display_name": "Python 3",
   "language": "python",
   "name": "python3"
  },
  "language_info": {
   "codemirror_mode": {
    "name": "ipython",
    "version": 3
   },
   "file_extension": ".py",
   "mimetype": "text/x-python",
   "name": "python",
   "nbconvert_exporter": "python",
   "pygments_lexer": "ipython3",
   "version": "3.9.13"
  }
 },
 "nbformat": 4,
 "nbformat_minor": 5
}
