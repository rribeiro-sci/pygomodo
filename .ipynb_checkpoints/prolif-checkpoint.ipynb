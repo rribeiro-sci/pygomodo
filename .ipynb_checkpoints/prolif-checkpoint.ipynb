{
 "cells": [
  {
   "cell_type": "code",
   "execution_count": 1,
   "id": "568b80fc",
   "metadata": {},
   "outputs": [
    {
     "data": {
      "text/html": [
       "<style>.container {width: 98% !important;}<\\style>"
      ],
      "text/plain": [
       "<IPython.core.display.HTML object>"
      ]
     },
     "metadata": {},
     "output_type": "display_data"
    }
   ],
   "source": [
    "from IPython.core.display import display, HTML\n",
    "display(HTML(\"<style>.container {width: 98% !important;}<\\style>\"))\n",
    "\n",
    "from src.gomodo import docking\n",
    "import os"
   ]
  },
  {
   "cell_type": "code",
   "execution_count": 2,
   "id": "05e88b96",
   "metadata": {},
   "outputs": [
    {
     "name": "stdout",
     "output_type": "stream",
     "text": [
      "/home/rribeiro/Projects/pygomodo/example\n"
     ]
    }
   ],
   "source": [
    "cd example/"
   ]
  },
  {
   "cell_type": "code",
   "execution_count": 4,
   "id": "47d15b83",
   "metadata": {},
   "outputs": [
    {
     "data": {
      "text/plain": [
       "(<AtomGroup with 25 atoms>, <AtomGroup with 2708 atoms>)"
      ]
     },
     "execution_count": 4,
     "metadata": {},
     "output_type": "execute_result"
    }
   ],
   "source": [
    "import MDAnalysis as mda\n",
    "import prolif as plf\n",
    "# load trajectory\n",
    "u = mda.Universe('2YDO_ADN_vina_out_best_complex.pdb', guess_bonds=True)\n",
    "# create selections for the ligand and protein\n",
    "lig = u.atoms.select_atoms(\"resname ADN\")\n",
    "prot = u.atoms.select_atoms(\"protein\")\n",
    "lig, prot"
   ]
  },
  {
   "cell_type": "code",
   "execution_count": 5,
   "id": "f71bdd55",
   "metadata": {},
   "outputs": [
    {
     "data": {
      "image/png": "[encoded data removed]",
      "text/plain": [
       "<PIL.PngImagePlugin.PngImageFile image mode=RGB size=400x200 at 0x7EFE6813EC40>"
      ]
     },
     "execution_count": 5,
     "metadata": {},
     "output_type": "execute_result"
    }
   ],
   "source": [
    "from rdkit import Chem\n",
    "from rdkit.Chem import Draw\n",
    "# create a molecule from the MDAnalysis selection\n",
    "lmol = plf.Molecule.from_mda(lig)\n",
    "# cleanup before drawing\n",
    "mol = Chem.RemoveHs(lmol)\n",
    "mol.RemoveAllConformers()\n",
    "Draw.MolToImage(mol, size=(400,200))\n",
    "\n"
   ]
  },
  {
   "cell_type": "code",
   "execution_count": 6,
   "id": "313afb8d",
   "metadata": {},
   "outputs": [
    {
     "data": {
      "application/vnd.jupyter.widget-view+json": {
       "model_id": "c088cb8df81f4638a1be441fed5ce8e1",
       "version_major": 2,
       "version_minor": 0
      },
      "text/plain": [
       "  0%|          | 0/1 [00:00<?, ?it/s]"
      ]
     },
     "metadata": {},
     "output_type": "display_data"
    },
    {
     "data": {
      "text/plain": [
       "<prolif.fingerprint.Fingerprint: 8 interactions: ['Hydrophobic', 'HBDonor', 'HBAcceptor', 'Cationic', 'Anionic', 'PiCation', 'CationPi', 'PiStacking'] at 0x7efe5eadb190>"
      ]
     },
     "execution_count": 6,
     "metadata": {},
     "output_type": "execute_result"
    }
   ],
   "source": [
    "mol = Chem.MolFromPDBFile(\"2YDO_grid.pdb\", removeHs=False)\n",
    "prot = plf.Molecule(mol)\n",
    "mol = Chem.MolFromPDBFile(\"2YDO_ADN_vina_out_best.pdb\", removeHs=False)\n",
    "lig = plf.Molecule(mol)\n",
    "fp = plf.Fingerprint()\n",
    "fp.run_from_iterable([lig], prot)"
   ]
  },
  {
   "cell_type": "code",
   "execution_count": 9,
   "id": "d440750d",
   "metadata": {},
   "outputs": [
    {
     "data": {
      "text/html": [
       "<div>\n",
       "<style scoped>\n",
       "    .dataframe tbody tr th:only-of-type {\n",
       "        vertical-align: middle;\n",
       "    }\n",
       "\n",
       "    .dataframe tbody tr th {\n",
       "        vertical-align: top;\n",
       "    }\n",
       "\n",
       "    .dataframe thead th {\n",
       "        text-align: right;\n",
       "    }\n",
       "</style>\n",
       "<table border=\"1\" class=\"dataframe\">\n",
       "  <thead>\n",
       "    <tr style=\"text-align: right;\">\n",
       "      <th></th>\n",
       "      <th></th>\n",
       "      <th>Frame</th>\n",
       "      <th>0</th>\n",
       "    </tr>\n",
       "    <tr>\n",
       "      <th>ligand</th>\n",
       "      <th>protein</th>\n",
       "      <th>interaction</th>\n",
       "      <th></th>\n",
       "    </tr>\n",
       "  </thead>\n",
       "  <tbody>\n",
       "    <tr>\n",
       "      <th rowspan=\"10\" valign=\"top\">ADN0.</th>\n",
       "      <th rowspan=\"2\" valign=\"top\">PHE168.A</th>\n",
       "      <th>Hydrophobic</th>\n",
       "      <td>True</td>\n",
       "    </tr>\n",
       "    <tr>\n",
       "      <th>PiStacking</th>\n",
       "      <td>True</td>\n",
       "    </tr>\n",
       "    <tr>\n",
       "      <th>GLU169.A</th>\n",
       "      <th>Hydrophobic</th>\n",
       "      <td>True</td>\n",
       "    </tr>\n",
       "    <tr>\n",
       "      <th>MET177.A</th>\n",
       "      <th>Hydrophobic</th>\n",
       "      <td>True</td>\n",
       "    </tr>\n",
       "    <tr>\n",
       "      <th>TRP246.A</th>\n",
       "      <th>Hydrophobic</th>\n",
       "      <td>True</td>\n",
       "    </tr>\n",
       "    <tr>\n",
       "      <th>LEU249.A</th>\n",
       "      <th>Hydrophobic</th>\n",
       "      <td>True</td>\n",
       "    </tr>\n",
       "    <tr>\n",
       "      <th>HIS250.A</th>\n",
       "      <th>Hydrophobic</th>\n",
       "      <td>True</td>\n",
       "    </tr>\n",
       "    <tr>\n",
       "      <th>ASN253.A</th>\n",
       "      <th>Hydrophobic</th>\n",
       "      <td>True</td>\n",
       "    </tr>\n",
       "    <tr>\n",
       "      <th>MET270.A</th>\n",
       "      <th>Hydrophobic</th>\n",
       "      <td>True</td>\n",
       "    </tr>\n",
       "    <tr>\n",
       "      <th>ILE274.A</th>\n",
       "      <th>Hydrophobic</th>\n",
       "      <td>True</td>\n",
       "    </tr>\n",
       "  </tbody>\n",
       "</table>\n",
       "</div>"
      ],
      "text/plain": [
       "Frame                           0\n",
       "ligand protein  interaction      \n",
       "ADN0.  PHE168.A Hydrophobic  True\n",
       "                PiStacking   True\n",
       "       GLU169.A Hydrophobic  True\n",
       "       MET177.A Hydrophobic  True\n",
       "       TRP246.A Hydrophobic  True\n",
       "       LEU249.A Hydrophobic  True\n",
       "       HIS250.A Hydrophobic  True\n",
       "       ASN253.A Hydrophobic  True\n",
       "       MET270.A Hydrophobic  True\n",
       "       ILE274.A Hydrophobic  True"
      ]
     },
     "execution_count": 9,
     "metadata": {},
     "output_type": "execute_result"
    }
   ],
   "source": [
    "df = fp.to_dataframe()\n",
    "# show only the 10 first frames\n",
    "df.T.head(10)"
   ]
  },
  {
   "cell_type": "code",
   "execution_count": null,
   "id": "84582506",
   "metadata": {},
   "outputs": [],
   "source": []
  }
 ],
 "metadata": {
  "kernelspec": {
   "display_name": "compbio",
   "language": "python",
   "name": "compbio"
  },
  "language_info": {
   "codemirror_mode": {
    "name": "ipython",
    "version": 3
   },
   "file_extension": ".py",
   "mimetype": "text/x-python",
   "name": "python",
   "nbconvert_exporter": "python",
   "pygments_lexer": "ipython3",
   "version": "3.9.9"
  }
 },
 "nbformat": 4,
 "nbformat_minor": 5
}
