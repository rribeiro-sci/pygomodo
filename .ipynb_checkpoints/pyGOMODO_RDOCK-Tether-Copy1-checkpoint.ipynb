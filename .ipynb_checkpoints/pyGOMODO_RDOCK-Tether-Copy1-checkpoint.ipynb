{
 "cells": [
  {
   "cell_type": "code",
   "execution_count": 1,
   "id": "65f6d8cb",
   "metadata": {},
   "outputs": [],
   "source": [
    "%load_ext autoreload\n",
    "%autoreload 2\n",
    "\n",
    "import warnings\n",
    "warnings.simplefilter('ignore')"
   ]
  },
  {
   "cell_type": "code",
   "execution_count": 2,
   "id": "0faa5fd8",
   "metadata": {},
   "outputs": [
    {
     "data": {
      "text/html": [
       "<style>\n",
       ".output{\n",
       "    flex-direction: row;\n",
       "}\n",
       ".container{\n",
       "    width: 98% !important;\n",
       "}\n",
       "</style>"
      ],
      "text/plain": [
       "<IPython.core.display.HTML object>"
      ]
     },
     "metadata": {},
     "output_type": "display_data"
    }
   ],
   "source": [
    "from IPython.core.display import display, HTML\n",
    "css = \"\"\"\n",
    ".output{\n",
    "    flex-direction: row;\n",
    "}\n",
    ".container{\n",
    "    width: 98% !important;\n",
    "}\n",
    "\"\"\"\n",
    "display(HTML('<style>{}</style>'.format(css)))\n",
    "\n",
    "from src.gomodo import Docking, Align\n",
    "from src.utils import utils, Upload\n",
    "import os\n",
    "import pandas as pd\n",
    "\n",
    "try:\n",
    "    os.chdir('rdock_tethered_test/')\n",
    "except: pass"
   ]
  },
  {
   "cell_type": "code",
   "execution_count": 3,
   "id": "351f470b",
   "metadata": {},
   "outputs": [],
   "source": [
    "##the fisrt thing is to prepare the target molecules and align them to the xtal molecule."
   ]
  },
  {
   "cell_type": "code",
   "execution_count": 4,
   "id": "8ff3c02d",
   "metadata": {},
   "outputs": [
    {
     "name": "stdout",
     "output_type": "stream",
     "text": [
      "Select file:\n"
     ]
    },
    {
     "data": {
      "application/vnd.jupyter.widget-view+json": {
       "model_id": "08edf43a8402448486c264ea814d3a35",
       "version_major": 2,
       "version_minor": 0
      },
      "text/plain": [
       "FileUpload(value={}, accept='.pdb, .sd, .sdf, .mol2', description='Upload')"
      ]
     },
     "metadata": {},
     "output_type": "display_data"
    }
   ],
   "source": [
    "#import xtal molecule\n",
    "xtal = Upload()\n",
    "xtal.File()"
   ]
  },
  {
   "cell_type": "code",
   "execution_count": 5,
   "id": "879908a0",
   "metadata": {},
   "outputs": [
    {
     "name": "stdout",
     "output_type": "stream",
     "text": [
      "File:  UKA.sdf \n",
      "Status: OK\n",
      "\n"
     ]
    }
   ],
   "source": [
    "#Parse xtal molecule\n",
    "xtal=xtal.FileParse()"
   ]
  },
  {
   "cell_type": "code",
   "execution_count": 6,
   "id": "f6bee822",
   "metadata": {
    "scrolled": true
   },
   "outputs": [],
   "source": [
    "#Import smiles data\n",
    "df = pd.read_csv('../archive/tether_example/data.csv')\n",
    "df.drop(columns=['ki_exp', 'EC50_exp'], inplace=True) "
   ]
  },
  {
   "cell_type": "code",
   "execution_count": 7,
   "id": "1b5616ed",
   "metadata": {},
   "outputs": [],
   "source": [
    "targetsSmiles = df.loc[1:5].smiles.tolist()\n",
    "targetsNames = df.loc[1:5].smilesID.tolist()\n"
   ]
  },
  {
   "cell_type": "code",
   "execution_count": 8,
   "id": "3ef7fc8d",
   "metadata": {},
   "outputs": [
    {
     "name": "stdout",
     "output_type": "stream",
     "text": [
      "Ligand: 17; Tethered atoms: 31,33,34,3,4,5,6,7,8,9,30,2,35,36,37,1,32\n",
      "Output: 17_tethered.sd \n",
      "\n",
      "Ligand: 18; Tethered atoms: 32,34,35,3,4,5,6,7,8,9,31,2,36,37,38,1,33\n",
      "Output: 18_tethered.sd \n",
      "\n",
      "Ligand: 19; Tethered atoms: 32,34,35,3,4,5,6,7,8,9,31,2,36,37,38,1,33\n",
      "Output: 19_tethered.sd \n",
      "\n",
      "Ligand: 20; Tethered atoms: 33,35,36,3,4,5,6,7,8,9,32,2,37,38,39,1,34\n",
      "Output: 20_tethered.sd \n",
      "\n",
      "Ligand: 21; Tethered atoms: 32,34,35,3,4,5,6,7,8,9,31,2,36,37,38,1,33\n",
      "Output: 21_tethered.sd \n",
      "\n"
     ]
    }
   ],
   "source": [
    "targetsAligned = Align.Tethering.MolsAlignment(reference= xtal, targets_names=targetsNames, targets_smiles=targetsSmiles)\n"
   ]
  },
  {
   "cell_type": "code",
   "execution_count": 9,
   "id": "119d9a31",
   "metadata": {},
   "outputs": [
    {
     "name": "stdout",
     "output_type": "stream",
     "text": [
      "Select file:\n"
     ]
    },
    {
     "data": {
      "application/vnd.jupyter.widget-view+json": {
       "model_id": "9203197d0782447a8dac907b1d929294",
       "version_major": 2,
       "version_minor": 0
      },
      "text/plain": [
       "FileUpload(value={}, accept='.pdb, .sd, .sdf, .mol2', description='Upload')"
      ]
     },
     "metadata": {},
     "output_type": "display_data"
    }
   ],
   "source": [
    "#upload receptor\n",
    "#receptor = '3QAK.mol2'\n",
    "receptor = Upload()\n",
    "receptor.File()"
   ]
  },
  {
   "cell_type": "code",
   "execution_count": 10,
   "id": "c925a777",
   "metadata": {},
   "outputs": [
    {
     "name": "stdout",
     "output_type": "stream",
     "text": [
      "File:  3QAK.mol2 \n",
      "Status: OK\n",
      "\n"
     ]
    }
   ],
   "source": [
    "#parse receptor file\n",
    "receptor=receptor.FileParse()"
   ]
  },
  {
   "cell_type": "code",
   "execution_count": 11,
   "id": "2a717f22",
   "metadata": {},
   "outputs": [],
   "source": [
    "#create rdock instance\n",
    "rdock = Docking.Rdock(receptor_file=receptor)"
   ]
  },
  {
   "cell_type": "code",
   "execution_count": 12,
   "id": "67c971bd",
   "metadata": {},
   "outputs": [
    {
     "name": "stdout",
     "output_type": "stream",
     "text": [
      "DOCKING SITE\n",
      "\n",
      "Total volume 2514.88 A^3\n",
      "\n",
      "Cavity #1\tSize=20119 points; Vol=2514.88 A^3; Min=(-17,-18.5,40); Max=(4,1,70.5); Center=(-7.89184,-8.98703,58.8057); Extent=(21,19.5,30.5)\n",
      "\n",
      "\n",
      "\n",
      "Cav = 20119; total = 20119\n",
      "\n"
     ]
    }
   ],
   "source": [
    "#calculate cavity\n",
    "rdock.Cavity(REF_MOL=xtal)"
   ]
  },
  {
   "cell_type": "code",
   "execution_count": 13,
   "id": "a91496cc",
   "metadata": {},
   "outputs": [
    {
     "name": "stdout",
     "output_type": "stream",
     "text": [
      "TETHERED PARAMETERS:\n",
      "\n",
      "TRANS_MODE TETHERED\n",
      "ROT_MODE TETHERED\n",
      "DIHEDRAL_MODE FREE\n",
      "MAX_TRANS 1.0\n",
      "MAX_ROT 30.0\n"
     ]
    }
   ],
   "source": [
    "#Run rdock\n",
    "rdock.Run(target_mol=targetsAligned, nruns=10, tethered=True, smina_minimization=True)"
   ]
  },
  {
   "cell_type": "code",
   "execution_count": null,
   "id": "d4167a35",
   "metadata": {},
   "outputs": [],
   "source": [
    "rdock.View(reference=xtal)"
   ]
  },
  {
   "cell_type": "code",
   "execution_count": null,
   "id": "f7233fc4",
   "metadata": {},
   "outputs": [],
   "source": [
    "rdock.AnalyseInteractions()\n"
   ]
  },
  {
   "cell_type": "code",
   "execution_count": 14,
   "id": "3a9f3be8",
   "metadata": {},
   "outputs": [
    {
     "data": {
      "application/vnd.jupyter.widget-view+json": {
       "model_id": "eff47434d1c94114a393c883aa1cf0dc",
       "version_major": 2,
       "version_minor": 0
      },
      "text/plain": [
       "interactive(children=(Dropdown(description='Ligand: ', options=('17_tethered', '18_tethered', '19_tethered', '…"
      ]
     },
     "metadata": {},
     "output_type": "display_data"
    }
   ],
   "source": [
    "rdock.ViewInteractionsMap()"
   ]
  },
  {
   "cell_type": "code",
   "execution_count": null,
   "id": "6645eba9",
   "metadata": {},
   "outputs": [],
   "source": []
  }
 ],
 "metadata": {
  "kernelspec": {
   "display_name": "compbio",
   "language": "python",
   "name": "compbio"
  },
  "language_info": {
   "codemirror_mode": {
    "name": "ipython",
    "version": 3
   },
   "file_extension": ".py",
   "mimetype": "text/x-python",
   "name": "python",
   "nbconvert_exporter": "python",
   "pygments_lexer": "ipython3",
   "version": "3.9.13"
  }
 },
 "nbformat": 4,
 "nbformat_minor": 5
}
