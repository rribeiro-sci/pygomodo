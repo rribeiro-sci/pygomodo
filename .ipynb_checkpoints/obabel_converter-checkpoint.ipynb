{
 "cells": [
  {
   "cell_type": "code",
   "execution_count": null,
   "id": "7e86bb9e",
   "metadata": {},
   "outputs": [],
   "source": [
    "def pdb2pdbqt(file, filename, path, hyd=False):\n",
    "    from openbabel import openbabel\n",
    "    obConversion = openbabel.OBConversion()\n",
    "    obConversion.SetInAndOutFormats('pdb', 'pdbqt')\n",
    "    mol = openbabel.OBMol()\n",
    "    obConversion.ReadFile(mol,file)\n",
    "    if hyd==True:\n",
    "        mol.AddHydrogens()\n",
    "    else:\n",
    "        mol.DeleteHydrogens()\n",
    "    obConversion.WriteFile(mol, os.path.join(path, filename+'.pdbqt'))\n",
    "    return receptor_name+'.pdbqt'\n"
   ]
  },
  {
   "cell_type": "code",
   "execution_count": 8,
   "id": "4ec85d7b",
   "metadata": {},
   "outputs": [],
   "source": [
    "import os\n",
    "os.chdir('example/')"
   ]
  },
  {
   "cell_type": "code",
   "execution_count": 31,
   "id": "e84488e8",
   "metadata": {},
   "outputs": [],
   "source": [
    "!rm test.pdbqt"
   ]
  },
  {
   "cell_type": "code",
   "execution_count": 32,
   "id": "33db61f4",
   "metadata": {},
   "outputs": [
    {
     "name": "stderr",
     "output_type": "stream",
     "text": [
      "==============================\n",
      "*** Open Babel Warning  in PerceiveBondOrders\n",
      "  Failed to kekulize aromatic bonds in OBMol::PerceiveBondOrders (title is 2YDO.pdb)\n",
      "\n"
     ]
    },
    {
     "data": {
      "text/plain": [
       "True"
      ]
     },
     "execution_count": 32,
     "metadata": {},
     "output_type": "execute_result"
    }
   ],
   "source": [
    "\n",
    "from openbabel import openbabel\n",
    "obConversion = openbabel.OBConversion()\n",
    "obConversion.SetInAndOutFormats('pdb', 'pdbqt')\n",
    "mol = openbabel.OBMol()\n",
    "obConversion.ReadFile(mol,'2YDO.pdb')\n",
    "mol.AddPolarHydrogens()\n",
    "obConversion.AddOption(str('xr'), obConversion.OUTOPTIONS)\n",
    "\n",
    "obConversion.WriteFile(mol, 'test.pdbqt')\n",
    "\n"
   ]
  },
  {
   "cell_type": "code",
   "execution_count": 35,
   "id": "76dfa758",
   "metadata": {},
   "outputs": [
    {
     "name": "stderr",
     "output_type": "stream",
     "text": [
      "==============================\n",
      "*** Open Babel Warning  in PerceiveBondOrders\n",
      "  Failed to kekulize aromatic bonds in OBMol::PerceiveBondOrders (title is 2YDO.pdb)\n",
      "\n",
      "1 molecule converted\n"
     ]
    },
    {
     "data": {
      "text/plain": [
       "0"
      ]
     },
     "execution_count": 35,
     "metadata": {},
     "output_type": "execute_result"
    }
   ],
   "source": [
    "import subprocess\n",
    " \n",
    "subprocess.call('obabel 2YDO.pdb -xr -O 2YDO_test.pdbqt', shell=True)"
   ]
  },
  {
   "cell_type": "code",
   "execution_count": 36,
   "id": "c84fe92b",
   "metadata": {},
   "outputs": [
    {
     "name": "stdout",
     "output_type": "stream",
     "text": [
      "REMARK  Name = 2YDO.pdb\r\n",
      "REMARK                            x       y       z     vdW  Elec       q    Type\r\n",
      "REMARK                         _______ _______ _______ _____ _____    ______ ____\r\n",
      "ATOM      1  N   SER A   6     -28.148   4.590  -7.800  0.00  0.00    +0.000 NA\r\n",
      "ATOM      2  CA  SER A   6     -26.785   4.701  -7.207  0.00  0.00    +0.000 C \r\n",
      "ATOM      3  C   SER A   6     -26.419   6.159  -6.970  0.00  0.00    +0.000 C \r\n",
      "ATOM      4  O   SER A   6     -26.103   6.886  -7.915  0.00  0.00    +0.000 OA\r\n",
      "ATOM      5  CB  SER A   6     -25.744   4.037  -8.113  0.00  0.00    +0.000 C \r\n",
      "ATOM      6  OG  SER A   6     -26.087   2.689  -8.379  0.00  0.00    +0.000 OA\r\n",
      "ATOM      7  N   SER A   7     -26.458   6.572  -5.703  0.00  0.00    +0.000 NA\r\n"
     ]
    }
   ],
   "source": [
    "!head 2YDO_test.pdbqt"
   ]
  },
  {
   "cell_type": "code",
   "execution_count": null,
   "id": "a38e6e8d",
   "metadata": {},
   "outputs": [],
   "source": []
  }
 ],
 "metadata": {
  "kernelspec": {
   "display_name": "Python 3",
   "language": "python",
   "name": "python3"
  },
  "language_info": {
   "codemirror_mode": {
    "name": "ipython",
    "version": 3
   },
   "file_extension": ".py",
   "mimetype": "text/x-python",
   "name": "python",
   "nbconvert_exporter": "python",
   "pygments_lexer": "ipython3",
   "version": "3.8.10"
  }
 },
 "nbformat": 4,
 "nbformat_minor": 5
}
