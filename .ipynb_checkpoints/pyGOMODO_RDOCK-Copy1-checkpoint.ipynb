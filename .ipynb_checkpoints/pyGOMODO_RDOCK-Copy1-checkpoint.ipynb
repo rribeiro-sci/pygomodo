{
 "cells": [
  {
   "cell_type": "code",
   "execution_count": 1,
   "id": "65f6d8cb",
   "metadata": {},
   "outputs": [],
   "source": [
    "%load_ext autoreload\n",
    "%autoreload 2\n",
    "\n",
    "import warnings\n",
    "warnings.simplefilter('ignore')"
   ]
  },
  {
   "cell_type": "code",
   "execution_count": 13,
   "id": "0faa5fd8",
   "metadata": {},
   "outputs": [
    {
     "data": {
      "text/html": [
       "<style>\n",
       ".output{\n",
       "    flex-direction: row;\n",
       "}\n",
       ".container{\n",
       "    width: 98% !important;\n",
       "}\n",
       "</style>"
      ],
      "text/plain": [
       "<IPython.core.display.HTML object>"
      ]
     },
     "metadata": {},
     "output_type": "display_data"
    }
   ],
   "source": [
    "from IPython.core.display import display, HTML\n",
    "css = \"\"\"\n",
    ".output{\n",
    "    flex-direction: row;\n",
    "}\n",
    ".container{\n",
    "    width: 98% !important;\n",
    "}\n",
    "\"\"\"\n",
    "display(HTML('<style>{}</style>'.format(css)))\n",
    "\n",
    "from src.gomodo import Docking\n",
    "from src.utils import utils, Upload\n",
    "import os\n",
    "\n",
    "\n",
    "#os.chdir('rdock_test/')"
   ]
  },
  {
   "cell_type": "code",
   "execution_count": 6,
   "id": "d238c57d",
   "metadata": {},
   "outputs": [
    {
     "name": "stdout",
     "output_type": "stream",
     "text": [
      "Select file:\n"
     ]
    },
    {
     "data": {
      "application/vnd.jupyter.widget-view+json": {
       "model_id": "5d1ecd030c744406a5ac2a7f1d8bcb12",
       "version_major": 2,
       "version_minor": 0
      },
      "text/plain": [
       "FileUpload(value={}, accept='.pdb, .sd, .sdf, .mol2', description='Upload')"
      ]
     },
     "metadata": {},
     "output_type": "display_data"
    }
   ],
   "source": [
    "#Upload receptor\n",
    "\n",
    "u = Upload()\n",
    "u.File()\n"
   ]
  },
  {
   "cell_type": "code",
   "execution_count": 8,
   "id": "4fb50ae3",
   "metadata": {},
   "outputs": [
    {
     "name": "stdout",
     "output_type": "stream",
     "text": [
      "File:  3QAK.mol2 \n",
      "Status: OK\n",
      "\n"
     ]
    }
   ],
   "source": [
    "#Parse receptor File\n",
    "receptor = u.FileParse()"
   ]
  },
  {
   "cell_type": "code",
   "execution_count": 10,
   "id": "942bec62",
   "metadata": {},
   "outputs": [
    {
     "name": "stdout",
     "output_type": "stream",
     "text": [
      "Select file:\n"
     ]
    },
    {
     "data": {
      "application/vnd.jupyter.widget-view+json": {
       "model_id": "9b5506825e974706a992de773bfd30f7",
       "version_major": 2,
       "version_minor": 0
      },
      "text/plain": [
       "FileUpload(value={}, accept='.pdb, .sd, .sdf, .mol2', description='Upload')"
      ]
     },
     "metadata": {},
     "output_type": "display_data"
    }
   ],
   "source": [
    "#Upload xtal ligand\n",
    "xtal = Upload()\n",
    "xtal.File()"
   ]
  },
  {
   "cell_type": "code",
   "execution_count": 11,
   "id": "0519368f",
   "metadata": {},
   "outputs": [
    {
     "name": "stdout",
     "output_type": "stream",
     "text": [
      "File:  UKA.sdf \n",
      "Status: OK\n",
      "\n"
     ]
    }
   ],
   "source": [
    "#Parse xtal ligand\n",
    "xtal = xtal.FileParse()"
   ]
  },
  {
   "cell_type": "code",
   "execution_count": 14,
   "id": "1b55f669",
   "metadata": {},
   "outputs": [],
   "source": [
    "#start  rdock instance\n",
    "dock = Docking.Rdock(receptor_file=receptor)"
   ]
  },
  {
   "cell_type": "code",
   "execution_count": 18,
   "id": "3e99ebc5",
   "metadata": {},
   "outputs": [
    {
     "name": "stdout",
     "output_type": "stream",
     "text": [
      "DOCKING SITE\n",
      "\n",
      "Total volume 2514.88 A^3\n",
      "\n",
      "Cavity #1\tSize=20119 points; Vol=2514.88 A^3; Min=(-17,-18.5,40); Max=(4,1,70.5); Center=(-7.89184,-8.98703,58.8057); Extent=(21,19.5,30.5)\n",
      "\n",
      "\n",
      "\n",
      "Cav = 20119; total = 20119\n",
      "\n"
     ]
    }
   ],
   "source": [
    "#Get xtal cavity\n",
    "dock.Cavity(reference_mol=xtal)"
   ]
  },
  {
   "cell_type": "markdown",
   "id": "027ed764",
   "metadata": {},
   "source": [
    "### Problem: How to show .grd (insight II format)?\n",
    "### Allow rbcavity assume all flags"
   ]
  },
  {
   "cell_type": "code",
   "execution_count": 19,
   "id": "f2902eb5",
   "metadata": {},
   "outputs": [
    {
     "name": "stdout",
     "output_type": "stream",
     "text": [
      "Select file:\n"
     ]
    },
    {
     "data": {
      "application/vnd.jupyter.widget-view+json": {
       "model_id": "5d869cc000ca442e8cf06a32e587640d",
       "version_major": 2,
       "version_minor": 0
      },
      "text/plain": [
       "FileUpload(value={}, accept='.pdb, .sd, .sdf, .mol2', description='Upload')"
      ]
     },
     "metadata": {},
     "output_type": "display_data"
    }
   ],
   "source": [
    "#Upload target molecules\n",
    "target = Upload()\n",
    "target.File()\n"
   ]
  },
  {
   "cell_type": "code",
   "execution_count": 21,
   "id": "ca165bd7",
   "metadata": {},
   "outputs": [
    {
     "name": "stdout",
     "output_type": "stream",
     "text": [
      "File:  NGI.sd \n",
      "Status: OK\n",
      "\n"
     ]
    }
   ],
   "source": [
    "#Pase target file\n",
    "target = target.FileParse()"
   ]
  },
  {
   "cell_type": "code",
   "execution_count": 30,
   "id": "7e3a41f3",
   "metadata": {},
   "outputs": [],
   "source": [
    "#Run Rdock\n",
    "dock.Run(target_mol=target, nruns=10, smina_minimize=True, smina_score_only=True)"
   ]
  },
  {
   "cell_type": "code",
   "execution_count": 31,
   "id": "c9ba178a",
   "metadata": {
    "scrolled": false
   },
   "outputs": [
    {
     "data": {
      "application/vnd.jupyter.widget-view+json": {
       "model_id": "b5da695b0462470d8063c59d02bb8b2d",
       "version_major": 2,
       "version_minor": 0
      },
      "text/plain": [
       "interactive(children=(Dropdown(description='Ligand:', options=('NGI',), value='NGI'), Output()), _dom_classes=…"
      ]
     },
     "metadata": {},
     "output_type": "display_data"
    }
   ],
   "source": [
    "dock.View()"
   ]
  },
  {
   "cell_type": "code",
   "execution_count": 47,
   "id": "44989f82",
   "metadata": {},
   "outputs": [],
   "source": [
    "dock.AnalyseInteractions()\n",
    "        "
   ]
  },
  {
   "cell_type": "code",
   "execution_count": 48,
   "id": "d177e105",
   "metadata": {},
   "outputs": [
    {
     "data": {
      "application/vnd.jupyter.widget-view+json": {
       "model_id": "7e448e3e236a4e3487233e728e68d9ed",
       "version_major": 2,
       "version_minor": 0
      },
      "text/plain": [
       "interactive(children=(Dropdown(description='Ligand: ', options=('NGI',), value='NGI'), Output()), _dom_classes…"
      ]
     },
     "metadata": {},
     "output_type": "display_data"
    }
   ],
   "source": [
    "dock.ViewInteractionsMap(map3D=True, map2D=True, opacity=0.85)"
   ]
  },
  {
   "cell_type": "code",
   "execution_count": null,
   "id": "be586b7d",
   "metadata": {},
   "outputs": [],
   "source": [
    "from openbabel import pybel"
   ]
  },
  {
   "cell_type": "code",
   "execution_count": null,
   "id": "03976584",
   "metadata": {},
   "outputs": [],
   "source": [
    "mols = list(pybel.readfile('sd', 'NGI_docking_poses_minimized_sorted.sd'))"
   ]
  },
  {
   "cell_type": "code",
   "execution_count": null,
   "id": "b595d0ab",
   "metadata": {},
   "outputs": [],
   "source": [
    "mols[1].data['minimizedRMSD']"
   ]
  },
  {
   "cell_type": "code",
   "execution_count": null,
   "id": "66f5ae57",
   "metadata": {},
   "outputs": [],
   "source": []
  },
  {
   "cell_type": "code",
   "execution_count": null,
   "id": "e182a427",
   "metadata": {},
   "outputs": [],
   "source": []
  },
  {
   "cell_type": "code",
   "execution_count": null,
   "id": "f8ef0148",
   "metadata": {},
   "outputs": [],
   "source": [
    "from openbabel import pybel"
   ]
  },
  {
   "cell_type": "code",
   "execution_count": null,
   "id": "761e1269",
   "metadata": {},
   "outputs": [],
   "source": [
    "def molsSplit(file):\n",
    "    from openbabel import pybel\n",
    "    import os\n",
    "    \n",
    "    filename, ext = os.path.splitext(file)\n",
    "    \n",
    "    mols = list(pybel.readfile(ext.strip('.'), file))\n",
    "    for idx in range(len(mols)):\n",
    "        out = filename+'_'+str(idx+1)+ext\n",
    "        #mols[idx].write(ext.strip('.'), out)\n",
    "        mols[idx].write(ext.strip('.'))\n",
    "\n",
    "molsSplit('NGI_docking_poses_sorted.sd')"
   ]
  },
  {
   "cell_type": "code",
   "execution_count": null,
   "id": "2f7755b3",
   "metadata": {
    "scrolled": false
   },
   "outputs": [],
   "source": [
    "import py3Dmol\n",
    "\n",
    "molview=py3Dmol.view(width=1080, height=500)\n",
    "file1=open('3QAK.pdb', 'r').read()\n",
    "file4=next(pybel.readfile('mol2','3QAK.mol2')).write('pdb')\n",
    "\n",
    "file3=next(pybel.readfile('sd','NGI_docking_poses_sorted.sd')).write('sd')\n",
    "file2=open('NGI_docking_poses_sorted_5.sd', 'r').read()\n",
    "\n",
    "\n",
    "molview.addModel(file4, 'pdb')\n",
    "molview.setStyle({'cartoon': {'color':'white'}})\n",
    "molview.addModel(file3, 'sd')\n",
    "molview.setStyle({'model':1},{'stick':{'colorscheme':'cyanCarbon','radius':0.2}})\n",
    "molview.setBackgroundColor('0xeeeeee')\n",
    "molview.zoomTo({'model':1})\n",
    "molview.show()"
   ]
  },
  {
   "cell_type": "markdown",
   "id": "763e4222",
   "metadata": {},
   "source": [
    "#### mol = next(pybel.readfile(\"sd\", \"NGI.sd\"))\n",
    "mols = list(pybel.readfile(\"sd\", \"NGI_docking_poses_sorted.sd\"))"
   ]
  },
  {
   "cell_type": "code",
   "execution_count": null,
   "id": "9d6f8136",
   "metadata": {},
   "outputs": [],
   "source": [
    "hassanmohsin/smina smina --receptor 4ntjH.mol2 \n",
    "--ligand PSG_inactive_docking_sorted.sd \n",
    "--minimize\n",
    "--out PSG_inactive_docking_smina_rescored.sd -sd --autobox_ligand ref.sd --autobox_add 10 --cpu 1\n",
    "vina"
   ]
  },
  {
   "cell_type": "code",
   "execution_count": null,
   "id": "ac5e2057",
   "metadata": {},
   "outputs": [],
   "source": [
    "def vismol(**kwargs):\n",
    "\n",
    "                mol=kwargs.pop('mol')\n",
    "                molview=py3Dmol.view(width=1080, height=500)\n",
    "                mol1=next(pybel.readfile(os.path.splitext(self._RECEPTOR_FILE)[1].strip('.'), self._RECEPTOR_FILE)).write('pdb')\n",
    "                mol2=self._dockposes[mol]\n",
    "                molview.addModel(mol1, 'pdb')\n",
    "                molview.setStyle({'cartoon': {'color':'white'}})\n",
    "                molview.addModel(mol2, 'sd')\n",
    "                molview.setStyle({'model':1},{'stick':{'colorscheme':'cyanCarbon','radius':0.2}})\n",
    "                molview.setBackgroundColor('0xeeeeee')\n",
    "                molview.zoomTo({'model':1})\n",
    "                molview.show()\n",
    "                \n",
    "                return\n",
    "            def inception(self, **kwargs):\n",
    "                \n",
    "                options=[x for x in self._dockposes.keys()]\n",
    "                ipywidgets.interact(vismol, mol=ipywidgets.Dropdown(options=options, value=options[0], description='Ligand:', disable=False))\n",
    "                return\n",
    "            "
   ]
  }
 ],
 "metadata": {
  "kernelspec": {
   "display_name": "compbio",
   "language": "python",
   "name": "compbio"
  },
  "language_info": {
   "codemirror_mode": {
    "name": "ipython",
    "version": 3
   },
   "file_extension": ".py",
   "mimetype": "text/x-python",
   "name": "python",
   "nbconvert_exporter": "python",
   "pygments_lexer": "ipython3",
   "version": "3.9.13"
  }
 },
 "nbformat": 4,
 "nbformat_minor": 5
}
