{
 "cells": [
  {
   "cell_type": "code",
   "execution_count": 1,
   "id": "65f6d8cb",
   "metadata": {},
   "outputs": [],
   "source": [
    "%load_ext autoreload\n",
    "%autoreload 2"
   ]
  },
  {
   "cell_type": "code",
   "execution_count": 2,
   "id": "0faa5fd8",
   "metadata": {},
   "outputs": [
    {
     "data": {
      "text/html": [
       "<style>\n",
       ".output{\n",
       "    flex-direction: row;\n",
       "}\n",
       ".container{\n",
       "    width: 98% !important;\n",
       "}\n",
       "</style>"
      ],
      "text/plain": [
       "<IPython.core.display.HTML object>"
      ]
     },
     "metadata": {},
     "output_type": "display_data"
    }
   ],
   "source": [
    "from IPython.core.display import display, HTML\n",
    "css = \"\"\"\n",
    ".output{\n",
    "    flex-direction: row;\n",
    "}\n",
    ".container{\n",
    "    width: 98% !important;\n",
    "}\n",
    "\"\"\"\n",
    "display(HTML('<style>{}</style>'.format(css)))\n",
    "\n",
    "from src.gomodo import docking\n",
    "from src.utils import utils\n",
    "import os\n",
    "\n",
    "os.chdir('example/')"
   ]
  },
  {
   "cell_type": "code",
   "execution_count": 3,
   "id": "9320e8ea",
   "metadata": {},
   "outputs": [],
   "source": [
    "from ipywidgets import FileUpload\n",
    "from IPython.display import display\n",
    "import codecs\n",
    "class Upload:\n",
    "    \n",
    "    def __init__(self, **kwargs):\n",
    "        \n",
    "        return\n",
    "    \n",
    "    def receptor(self):\n",
    "        print('Receptor pdb file:')\n",
    "        upload = FileUpload(accept='.pdb', multiple=False)\n",
    "        display(upload)\n",
    "        self._ureceptor = upload\n",
    "        return \n",
    "    \n",
    "    def ligand(self):\n",
    "        print('Ligands pdb files:')\n",
    "        upload = FileUpload(accept='.pdb', multiple=True)\n",
    "        display(upload)\n",
    "        self._uligands = upload\n",
    "        return\n",
    "    \n",
    "    def send(self):\n",
    "        if self._ureceptor:\n",
    "            for i in self._ureceptor.keys(): \n",
    "                    filename = i\n",
    "                    content = self._ureceptor[filename]['content']\n",
    "                    with open(filename, 'w') as f:\n",
    "                        f.write(codecs.decode(content))\n",
    "            print('Receptor: ', filename, '\\nStatus: OK\\n')\n",
    "        else: raise TypeError('Receptor not uploaded.')\n",
    "            \n",
    "        if self._uligands:\n",
    "            for i in self._uligands.keys(): \n",
    "                    filename = i\n",
    "                    content = self._uligands[filename]['content']\n",
    "                    with open(filename, 'w') as f:\n",
    "                        f.write(codecs.decode(content))\n",
    "            print('Ligand: ', filename, '\\nStatus: OK')\n",
    "        else: raise TypeError('Ligands not uploaded.')\n",
    "            \n",
    "        "
   ]
  },
  {
   "cell_type": "code",
   "execution_count": 4,
   "id": "e2630f36",
   "metadata": {},
   "outputs": [
    {
     "name": "stdout",
     "output_type": "stream",
     "text": [
      "Receptor pdb file:\n"
     ]
    },
    {
     "data": {
      "application/vnd.jupyter.widget-view+json": {
       "model_id": "5fbf89e655ec4ef585516bf7c07119d1",
       "version_major": 2,
       "version_minor": 0
      },
      "text/plain": [
       "FileUpload(value={}, accept='.pdb', description='Upload')"
      ]
     },
     "metadata": {},
     "output_type": "display_data"
    },
    {
     "name": "stdout",
     "output_type": "stream",
     "text": [
      "Ligands pdb files:\n"
     ]
    },
    {
     "data": {
      "application/vnd.jupyter.widget-view+json": {
       "model_id": "7b32dbdc524246189b1fca405a5877d4",
       "version_major": 2,
       "version_minor": 0
      },
      "text/plain": [
       "FileUpload(value={}, accept='.pdb', description='Upload', multiple=True)"
      ]
     },
     "metadata": {},
     "output_type": "display_data"
    }
   ],
   "source": [
    "n = Upload()\n",
    "n.receptor()\n",
    "n.ligand()"
   ]
  },
  {
   "cell_type": "code",
   "execution_count": 5,
   "id": "ef41a774",
   "metadata": {},
   "outputs": [
    {
     "ename": "TypeError",
     "evalue": "'list' object is not callable",
     "output_type": "error",
     "traceback": [
      "\u001b[0;31m---------------------------------------------------------------------------\u001b[0m",
      "\u001b[0;31mTypeError\u001b[0m                                 Traceback (most recent call last)",
      "\u001b[0;32m<ipython-input-5-67031ea8eab4>\u001b[0m in \u001b[0;36m<module>\u001b[0;34m\u001b[0m\n\u001b[0;32m----> 1\u001b[0;31m \u001b[0mn\u001b[0m\u001b[0;34m.\u001b[0m\u001b[0msend\u001b[0m\u001b[0;34m(\u001b[0m\u001b[0;34m)\u001b[0m\u001b[0;34m\u001b[0m\u001b[0;34m\u001b[0m\u001b[0m\n\u001b[0m",
      "\u001b[0;32m<ipython-input-3-a009b32f4acd>\u001b[0m in \u001b[0;36msend\u001b[0;34m(self)\u001b[0m\n\u001b[1;32m     24\u001b[0m     \u001b[0;32mdef\u001b[0m \u001b[0msend\u001b[0m\u001b[0;34m(\u001b[0m\u001b[0mself\u001b[0m\u001b[0;34m)\u001b[0m\u001b[0;34m:\u001b[0m\u001b[0;34m\u001b[0m\u001b[0;34m\u001b[0m\u001b[0m\n\u001b[1;32m     25\u001b[0m         \u001b[0;32mif\u001b[0m \u001b[0mself\u001b[0m\u001b[0;34m.\u001b[0m\u001b[0m_ureceptor\u001b[0m\u001b[0;34m:\u001b[0m\u001b[0;34m\u001b[0m\u001b[0;34m\u001b[0m\u001b[0m\n\u001b[0;32m---> 26\u001b[0;31m             \u001b[0;32mfor\u001b[0m \u001b[0mi\u001b[0m \u001b[0;32min\u001b[0m \u001b[0mself\u001b[0m\u001b[0;34m.\u001b[0m\u001b[0m_ureceptor\u001b[0m\u001b[0;34m.\u001b[0m\u001b[0mkeys\u001b[0m\u001b[0;34m(\u001b[0m\u001b[0;34m)\u001b[0m\u001b[0;34m:\u001b[0m\u001b[0;34m\u001b[0m\u001b[0;34m\u001b[0m\u001b[0m\n\u001b[0m\u001b[1;32m     27\u001b[0m                     \u001b[0mfilename\u001b[0m \u001b[0;34m=\u001b[0m \u001b[0mi\u001b[0m\u001b[0;34m\u001b[0m\u001b[0;34m\u001b[0m\u001b[0m\n\u001b[1;32m     28\u001b[0m                     \u001b[0mcontent\u001b[0m \u001b[0;34m=\u001b[0m \u001b[0mself\u001b[0m\u001b[0;34m.\u001b[0m\u001b[0m_ureceptor\u001b[0m\u001b[0;34m[\u001b[0m\u001b[0mfilename\u001b[0m\u001b[0;34m]\u001b[0m\u001b[0;34m[\u001b[0m\u001b[0;34m'content'\u001b[0m\u001b[0;34m]\u001b[0m\u001b[0;34m\u001b[0m\u001b[0;34m\u001b[0m\u001b[0m\n",
      "\u001b[0;31mTypeError\u001b[0m: 'list' object is not callable"
     ]
    }
   ],
   "source": [
    "n.send()"
   ]
  },
  {
   "cell_type": "code",
   "execution_count": null,
   "id": "055e2bcc",
   "metadata": {},
   "outputs": [],
   "source": [
    "receptor='2YDO.pdb'\n",
    "ligands=['ADN.pdb', 'NEC.pdb', 'NGI.pdb']"
   ]
  },
  {
   "cell_type": "code",
   "execution_count": null,
   "id": "64753328",
   "metadata": {},
   "outputs": [],
   "source": [
    "utils.showMolecularStructures(ligands)"
   ]
  },
  {
   "cell_type": "code",
   "execution_count": null,
   "id": "56318cd8",
   "metadata": {},
   "outputs": [],
   "source": [
    "t = docking.vina(receptor=receptor, ligands=ligands, cpus=4, outpath=os.getcwd())"
   ]
  },
  {
   "cell_type": "code",
   "execution_count": null,
   "id": "7baa6087",
   "metadata": {
    "scrolled": false
   },
   "outputs": [],
   "source": [
    "t.box()"
   ]
  },
  {
   "cell_type": "code",
   "execution_count": null,
   "id": "373930ee",
   "metadata": {},
   "outputs": [],
   "source": [
    "t.run(num_modes=20)"
   ]
  },
  {
   "cell_type": "code",
   "execution_count": null,
   "id": "49737531",
   "metadata": {},
   "outputs": [],
   "source": [
    "t.results()"
   ]
  },
  {
   "cell_type": "code",
   "execution_count": null,
   "id": "33e7cc4e",
   "metadata": {},
   "outputs": [],
   "source": [
    "t.analyse()"
   ]
  },
  {
   "cell_type": "code",
   "execution_count": null,
   "id": "1d82efe5",
   "metadata": {
    "scrolled": false
   },
   "outputs": [],
   "source": [
    "t.interactionsMap(opacity=0.6)"
   ]
  },
  {
   "cell_type": "code",
   "execution_count": null,
   "id": "be701d0e",
   "metadata": {},
   "outputs": [],
   "source": [
    "\n",
    "\n",
    "upload = FileUpload(accept='.pdb', multiple=True)\n",
    "display(upload)"
   ]
  }
 ],
 "metadata": {
  "kernelspec": {
   "display_name": "compbio",
   "language": "python",
   "name": "compbio"
  },
  "language_info": {
   "codemirror_mode": {
    "name": "ipython",
    "version": 3
   },
   "file_extension": ".py",
   "mimetype": "text/x-python",
   "name": "python",
   "nbconvert_exporter": "python",
   "pygments_lexer": "ipython3",
   "version": "3.9.9"
  }
 },
 "nbformat": 4,
 "nbformat_minor": 5
}
