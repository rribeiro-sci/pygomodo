{
 "cells": [
  {
   "cell_type": "markdown",
   "id": "a3b28f7d",
   "metadata": {},
   "source": [
    "<div style=\"padding-bottom:20px\">\n",
    "<img src=\"https://res.cloudinary.com/djz27k5hg/image/upload/v1667919909/logos/banner_pygomodo_ovelvs.png\" align='center' style=\"margin-top:0px\"/>\n",
    "</div> \n",
    "\n"
   ]
  },
  {
   "cell_type": "markdown",
   "id": "f022444f",
   "metadata": {},
   "source": [
    "# Tutorial 4 - Tethered docking with rDock\n",
    "\n",
    "In this tutorial we will tethered dock agonsits of Adenosine A2 receptor against an agonist bound crystallographic structure [3QAK](https://www.rcsb.org/structure/3QAK).\n",
    "\n",
    "*([Guide to Pharmacoloy of Adenosine A2 receptor](https://www.guidetopharmacology.org/GRAC/ObjectDisplayForward?objectId=19&familyId=3&familyType=GPCR))*\n",
    "\n",
    "## The tethered approach\n",
    "\n",
    "In the tethered docking approach we dock a series of similar compounds making use of the known positioning of the original bound compound. Here we assume that small modifications made on the ligand do not affect the binding mode of the ligand in a significant way (which is not always true).\n",
    "\n",
    "So, the main ideia with this approach is to dock molecules that share the same molecular core.\n"
   ]
  },
  {
   "cell_type": "markdown",
   "id": "56d0f95a",
   "metadata": {},
   "source": [
    "### Importing dependencies\n",
    "\n",
    "Before we start we need to import all dependencies. We need to import the `Docking` module"
   ]
  },
  {
   "cell_type": "code",
   "execution_count": null,
   "id": "b508bc9f",
   "metadata": {},
   "outputs": [],
   "source": [
    "import os\n",
    "from pygomodo.Docking import *\n",
    "\n",
    "os.chdir('tutorial4_data')"
   ]
  },
  {
   "cell_type": "markdown",
   "id": "d3820266",
   "metadata": {},
   "source": [
    "Let's start by import the target ligands. For this tutorial we will import an csv that contains the smiles of our target ligands."
   ]
  },
  {
   "cell_type": "code",
   "execution_count": null,
   "id": "ea5305e6",
   "metadata": {},
   "outputs": [],
   "source": [
    "import pandas as pd\n",
    "from rdkit.Chem import PandasTools\n",
    "from rdkit import Chem\n",
    "from rdkit.Chem import AllChem\n",
    "\n",
    "df=pd.read_csv('ligands_data.csv')\n",
    "PandasTools.AddMoleculeColumnToFrame(df, smilesCol='smiles')\n",
    "df"
   ]
  },
  {
   "cell_type": "markdown",
   "id": "a371e07c",
   "metadata": {},
   "source": [
    "As you can see the molecules share a similar core or MCS (*Moleculer Common Substructure*). In act, this molecules were obtained from a Lead opmitimazion project.[REF]() "
   ]
  },
  {
   "cell_type": "markdown",
   "id": "09366afe",
   "metadata": {},
   "source": [
    "The first step is to calculate the MCS betwen the target ligands and the crystallographic ligand to obtain the atoms that will be tethered. To achienve this we will the `Tethering.MolsAlignment()` function from the `Align` module of **pyGOMoDo**."
   ]
  },
  {
   "cell_type": "code",
   "execution_count": null,
   "id": "591ed435",
   "metadata": {
    "scrolled": false
   },
   "outputs": [],
   "source": [
    "from pygomodo.Align import Tethering\n",
    "\n",
    "#Defining the crystallographic ligand\n",
    "xtal_ligand = 'UKA.sdf'\n",
    "\n",
    "#Defining target names and target smiles\n",
    "targetsNames = df.id.tolist()\n",
    "targetsSmiles = df.smiles.tolist()\n",
    "\n",
    "#Align molecules\n",
    "targetsAligned = Tethering.MolsAlignment(reference= xtal_ligand, targets_names=targetsNames, targets_smiles=targetsSmiles)\n"
   ]
  },
  {
   "cell_type": "markdown",
   "id": "2f4205b1",
   "metadata": {},
   "source": [
    "If everything went well we have now the target ligands tethered aligned to the crystallographic ligand.\n",
    "\n",
    "#### But what is happening here?\n",
    "\n",
    "The `Tethering.MolsAlignment()` uses RDKIT to firsrt calculate the MSC between each target ligand and the crystallographic lingand and to generate the 3D conformation of each target ligand based on the MCS of the crystallografic ligand.\n",
    "\n",
    "\n",
    "We can now define the receptor structure."
   ]
  },
  {
   "cell_type": "code",
   "execution_count": null,
   "id": "0b46f91b",
   "metadata": {},
   "outputs": [],
   "source": [
    "receptor = '3QAK.pdb'"
   ]
  },
  {
   "cell_type": "markdown",
   "id": "ffff9717",
   "metadata": {},
   "source": [
    "The next step is to start a rDock instance with `RDOCK()` class. Here we'll pass the receptor. In this example we'll call the Vina instance as *mydock*."
   ]
  },
  {
   "cell_type": "code",
   "execution_count": null,
   "id": "96ec4ce5",
   "metadata": {
    "scrolled": false
   },
   "outputs": [],
   "source": [
    "mydock = RDOCK(receptor_file=receptor)"
   ]
  },
  {
   "cell_type": "markdown",
   "id": "7a939fa0",
   "metadata": {},
   "source": [
    "Befere we run any docking calculation we have to define the grid.  rDock automatically define the docking grid based on the crystallographic ligand. To accomplish that we have to call the `Cavity()` function that calulates the cavity of the crystallographic ligand. We need to pass to the function the reference molecule, which is in our case is the xtal_ligand, as defined before."
   ]
  },
  {
   "cell_type": "code",
   "execution_count": null,
   "id": "0854d8d7",
   "metadata": {},
   "outputs": [],
   "source": [
    "mydock.Cavity(reference_mol=xtal_ligand)"
   ]
  },
  {
   "cell_type": "markdown",
   "id": "dd824ddf",
   "metadata": {},
   "source": [
    "If everything went well we already have the cristalographic cavity defined. \n",
    "\n",
    "We can now start docking. We just need to call the `Run()` function. We will pass to function the target molecules that we have tethered aligned before.For this tutorial we will calculate just 10 binding poses for each target molecule.\n",
    "\n",
    "\n",
    "<div class=\"warning\" style='background-color:#E7F2FA; color:#000000; border-left: solid #6AB0DE 4px; border-radius: 4px; padding:0.7em; margin-top:10px'>\n",
    "<span>\n",
    "<p style='margin-top:1em; text-align:left'>\n",
    "<b>💡 Tip:</b> </p>\n",
    "<p style='margin-left:1em;'>\n",
    "For better accuracy we advice to rscore the binding poses with smina. Smina is a fork of Autodock VINA that allows a better control of scoring terms. We can also minimize the binding pose with Smina. To do this we jsut need to pass the <b>smina_minimize=True</b> and <b>smina_score_only=True</b> arguments into the <b>Run()</b> function.\n",
    "</div>\n"
   ]
  },
  {
   "cell_type": "code",
   "execution_count": null,
   "id": "5a6998fc",
   "metadata": {},
   "outputs": [],
   "source": [
    "mydock.Run(target_mol=targetsAligned, nruns=10, smina_minimize=True, smina_score_only=True)"
   ]
  },
  {
   "cell_type": "markdown",
   "id": "81c13d78",
   "metadata": {},
   "source": [
    "We can now vizualise our docking poses calling the `ViewModels()` function.\n",
    "\n",
    "<div class=\"warning\" style='background-color:#E7F2FA; color:#000000; border-left: solid #6AB0DE 4px; border-radius: 4px; padding:0.7em; margin-top:10px'>\n",
    "<span>\n",
    "<p style='margin-top:1em; text-align:left'>\n",
    "<b>💡 Tip:</b> </p>\n",
    "<p style='margin-left:1em;'>\n",
    "The crystallographic molecule cab be included in the visualizaiton passing the <b>ref_mol=True</b> parameter to the function.\n",
    "</div>\n"
   ]
  },
  {
   "cell_type": "code",
   "execution_count": null,
   "id": "85912f2b",
   "metadata": {},
   "outputs": [],
   "source": [
    "mydock.ViewPoses(ref_mol=True) "
   ]
  },
  {
   "cell_type": "markdown",
   "id": "362683bd",
   "metadata": {},
   "source": [
    "We can also analyse the protein-ligand interactions by calling the `ViewInteractionsMap()` function. "
   ]
  },
  {
   "cell_type": "code",
   "execution_count": null,
   "id": "6fb581ca",
   "metadata": {},
   "outputs": [],
   "source": [
    "mydock.ViewInteractionsMap(map3D=True, map2D=True, opacity=0.65)"
   ]
  },
  {
   "cell_type": "markdown",
   "id": "7c09a805",
   "metadata": {},
   "source": [
    "## Congratulations! \n",
    "\n",
    "Congratulations on completing this tutorial notebook! If you enjoyed working through the tutorial, and want to continue working with **pyGOMoDo**, we encourage you to finish the rest of the tutorials in this series. \n",
    "\n",
    "## Cite Us\n",
    "\n",
    "If you use or adapt this tutorial for your own research projects please cite us.\n",
    "\n",
    "```\n",
    "@article{XXX,\n",
    "    title={XXX},\n",
    "    author={XXX},\n",
    "    publisher={XXX},\n",
    "    note={\\url{XXX}},\n",
    "    year={XXX}\n",
    "}\n",
    "```\n",
    "\n",
    "## Developed by\n",
    "<div style=\"padding-top:50px\">\n",
    "<img src=\"https://res.cloudinary.com/djz27k5hg/image/upload/v1657885120/logos/univr_logo_rspn8o.jpg\" width=\"200\" align='left' style=\"margin-left:50px\">\n",
    "<img src=\"https://res.cloudinary.com/djz27k5hg/image/upload/v1637335206/logos/Logo_des_Forschungszentrums_J_C3_BClich_seit_2018_hcliq4.svg\" width=\"200\" align='left' style=\"margin-left:50px\">\n",
    "</div>  \n",
    "\n",
    "<br><br><br><br>\n",
    "## Acknowledgments\n",
    "\n",
    "EU Human Brain Project (SGA1 and SGA2): This open source software was developed in part in the Human Brain Project funded from the European Union's Horizon 2020 Framework Programme for Research and Innovation under Specific Grant Agreements No 720270 and No. 78907 (Human Brain Project SGA1 and SGA2).\n",
    "\n",
    "<div style=\"padding-top:20px\">\n",
    "<img src=\"https://res.cloudinary.com/djz27k5hg/image/upload/v1637657234/logos/HBP_horizontal_logo_qtcyzn.png\" width=\"200\" align='left' style=\"margin-left:50px\">\n",
    "    <img src=\"https://res.cloudinary.com/djz27k5hg/image/upload/v1642677502/logos/COFUNDED_EU_j2ktlp.jpg\" width=\"200\" align='left' style=\"margin-left:50px\">\n",
    "</div>  "
   ]
  }
 ],
 "metadata": {
  "kernelspec": {
   "display_name": "compbio",
   "language": "python",
   "name": "compbio"
  },
  "language_info": {
   "codemirror_mode": {
    "name": "ipython",
    "version": 3
   },
   "file_extension": ".py",
   "mimetype": "text/x-python",
   "name": "python",
   "nbconvert_exporter": "python",
   "pygments_lexer": "ipython3",
   "version": "3.9.13"
  }
 },
 "nbformat": 4,
 "nbformat_minor": 5
}
