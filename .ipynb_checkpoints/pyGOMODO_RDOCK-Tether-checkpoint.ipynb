{
 "cells": [
  {
   "cell_type": "code",
   "execution_count": 1,
   "id": "65f6d8cb",
   "metadata": {},
   "outputs": [],
   "source": [
    "%load_ext autoreload\n",
    "%autoreload 2\n",
    "\n",
    "import warnings\n",
    "warnings.simplefilter('ignore')"
   ]
  },
  {
   "cell_type": "code",
   "execution_count": 2,
   "id": "0faa5fd8",
   "metadata": {},
   "outputs": [
    {
     "data": {
      "text/html": [
       "<style>\n",
       ".output{\n",
       "    flex-direction: row;\n",
       "}\n",
       ".container{\n",
       "    width: 98% !important;\n",
       "}\n",
       "</style>"
      ],
      "text/plain": [
       "<IPython.core.display.HTML object>"
      ]
     },
     "metadata": {},
     "output_type": "display_data"
    }
   ],
   "source": [
    "from IPython.core.display import display, HTML\n",
    "css = \"\"\"\n",
    ".output{\n",
    "    flex-direction: row;\n",
    "}\n",
    ".container{\n",
    "    width: 98% !important;\n",
    "}\n",
    "\"\"\"\n",
    "display(HTML('<style>{}</style>'.format(css)))\n",
    "\n",
    "from src.gomodo import docking, Align\n",
    "from src.utils import utils, Upload\n",
    "import os\n",
    "import pandas as pd\n",
    "\n",
    "try:\n",
    "    os.chdir('tether_example/')\n",
    "except: pass"
   ]
  },
  {
   "cell_type": "code",
   "execution_count": 3,
   "id": "bac06c72",
   "metadata": {
    "scrolled": true
   },
   "outputs": [],
   "source": [
    "#Import smiles data\n",
    "df = pd.read_csv('data.csv')\n",
    "df.drop(columns=['ki_exp', 'EC50_exp'], inplace=True) "
   ]
  },
  {
   "cell_type": "code",
   "execution_count": 4,
   "id": "cc55a63c",
   "metadata": {},
   "outputs": [
    {
     "name": "stdout",
     "output_type": "stream",
     "text": [
      "Ligands pdb files:\n"
     ]
    },
    {
     "data": {
      "application/vnd.jupyter.widget-view+json": {
       "model_id": "4def987a8fa4440dbd5f6ec4c8c59186",
       "version_major": 2,
       "version_minor": 0
      },
      "text/plain": [
       "FileUpload(value={}, accept='.pdb, .sd, .sdf', description='Upload', multiple=True)"
      ]
     },
     "metadata": {},
     "output_type": "display_data"
    }
   ],
   "source": [
    "u = Upload()\n",
    "u.ligand()"
   ]
  },
  {
   "cell_type": "code",
   "execution_count": 5,
   "id": "e291b88f",
   "metadata": {},
   "outputs": [
    {
     "name": "stdout",
     "output_type": "stream",
     "text": [
      "Ligands:  ['UKA.sdf'] \n",
      "Status: OK\n",
      "\n"
     ]
    }
   ],
   "source": [
    "xtal = u.PARSEligands()\n",
    "\n",
    "targetsSmiles = df.loc[1:5].smiles.tolist()\n",
    "targetsNames = df.loc[1:5].smilesID.tolist()\n"
   ]
  },
  {
   "cell_type": "code",
   "execution_count": 8,
   "id": "782e55cb",
   "metadata": {},
   "outputs": [
    {
     "name": "stdout",
     "output_type": "stream",
     "text": [
      "Ligand: 17; Tethered atoms: 31,33,34,3,4,5,6,7,8,9,30,2,35,36,37,1,32\n",
      "Output: 17_tethered.sd \n",
      "\n",
      "Ligand: 18; Tethered atoms: 32,34,35,3,4,5,6,7,8,9,31,2,36,37,38,1,33\n",
      "Output: 18_tethered.sd \n",
      "\n",
      "Ligand: 19; Tethered atoms: 32,34,35,3,4,5,6,7,8,9,31,2,36,37,38,1,33\n",
      "Output: 19_tethered.sd \n",
      "\n",
      "Ligand: 20; Tethered atoms: 33,35,36,3,4,5,6,7,8,9,32,2,37,38,39,1,34\n",
      "Output: 20_tethered.sd \n",
      "\n",
      "Ligand: 21; Tethered atoms: 32,34,35,3,4,5,6,7,8,9,31,2,36,37,38,1,33\n",
      "Output: 21_tethered.sd \n",
      "\n"
     ]
    }
   ],
   "source": [
    "targetsAligned = Align.Tethering.MolsAlignment(reference= xtal[0], targets_names=targetsNames, targets_smiles=targetsSmiles)\n"
   ]
  },
  {
   "cell_type": "code",
   "execution_count": 9,
   "id": "c906b2d6",
   "metadata": {},
   "outputs": [],
   "source": [
    "receptor = '3QAK.mol2'"
   ]
  },
  {
   "cell_type": "code",
   "execution_count": 10,
   "id": "e28dac72",
   "metadata": {},
   "outputs": [],
   "source": [
    "rd = docking.rdock(RECEPTOR_FILE=receptor)"
   ]
  },
  {
   "cell_type": "code",
   "execution_count": 57,
   "id": "9539a1c8",
   "metadata": {},
   "outputs": [
    {
     "name": "stdout",
     "output_type": "stream",
     "text": [
      "DOCKING SITE\n",
      "\n",
      "Total volume 2514.88 A^3\n",
      "\n",
      "Cavity #1\tSize=20119 points; Vol=2514.88 A^3; Min=(-17,-18.5,40); Max=(4,1,70.5); Center=(-7.89184,-8.98703,58.8057); Extent=(21,19.5,30.5)\n",
      "\n",
      "\n",
      "\n",
      "Cav = 20119; total = 20119\n",
      "\n"
     ]
    }
   ],
   "source": [
    "rd.cavity(REF_MOL=xtal[0])"
   ]
  },
  {
   "cell_type": "code",
   "execution_count": 64,
   "id": "36a506fe",
   "metadata": {},
   "outputs": [
    {
     "name": "stdout",
     "output_type": "stream",
     "text": [
      "TETHERED PARAMETERS:\n",
      "\n",
      "TRANS_MODE TETHERED\n",
      "ROT_MODE TETHERED\n",
      "DIHEDRAL_MODE FREE\n",
      "MAX_TRANS 1.0\n",
      "MAX_ROT 30.0\n"
     ]
    }
   ],
   "source": [
    "rd.run(dock_mol=targetsAligned, nruns=10, tethered=True)"
   ]
  },
  {
   "cell_type": "code",
   "execution_count": 65,
   "id": "c852a802",
   "metadata": {},
   "outputs": [
    {
     "data": {
      "application/vnd.jupyter.widget-view+json": {
       "model_id": "ca005a29b5d846f38cd66019f53243d8",
       "version_major": 2,
       "version_minor": 0
      },
      "text/plain": [
       "interactive(children=(Dropdown(description='Ligand:', options=('17_tethered', '18_tethered', '19_tethered', '2…"
      ]
     },
     "metadata": {},
     "output_type": "display_data"
    }
   ],
   "source": [
    "rd.viz(reference=xtal[0])"
   ]
  },
  {
   "cell_type": "code",
   "execution_count": 66,
   "id": "5179b34b",
   "metadata": {},
   "outputs": [
    {
     "name": "stdout",
     "output_type": "stream",
     "text": [
      "CPU times: user 7.38 s, sys: 4.36 s, total: 11.7 s\n",
      "Wall time: 14.5 s\n"
     ]
    }
   ],
   "source": [
    "%%time\n",
    "rd.analyseInteractions()\n"
   ]
  },
  {
   "cell_type": "code",
   "execution_count": 67,
   "id": "94a735e4",
   "metadata": {},
   "outputs": [
    {
     "data": {
      "application/vnd.jupyter.widget-view+json": {
       "model_id": "d3b359a6515c431fb90b0e23c5c1e42d",
       "version_major": 2,
       "version_minor": 0
      },
      "text/plain": [
       "interactive(children=(Dropdown(description='Ligand: ', options=('17_tethered', '18_tethered', '19_tethered', '…"
      ]
     },
     "metadata": {},
     "output_type": "display_data"
    }
   ],
   "source": [
    "rd.interactionsMap()"
   ]
  },
  {
   "cell_type": "code",
   "execution_count": 81,
   "id": "5f04003a",
   "metadata": {},
   "outputs": [],
   "source": [
    "import py3Dmol\n",
    "from openbabel import pybel\n",
    "import ipywidgets\n",
    "import numpy as np"
   ]
  },
  {
   "cell_type": "code",
   "execution_count": 88,
   "id": "39d9913b",
   "metadata": {},
   "outputs": [
    {
     "data": {
      "application/vnd.jupyter.widget-view+json": {
       "model_id": "ac0c3d89b72b4de2a33e52e5df097d4e",
       "version_major": 2,
       "version_minor": 0
      },
      "text/plain": [
       "interactive(children=(Dropdown(description='Ligand:', options=('17_tethered', '18_tethered', '19_tethered', '2…"
      ]
     },
     "metadata": {},
     "output_type": "display_data"
    },
    {
     "data": {
      "text/plain": [
       "<function __main__.inception(molname)>"
      ]
     },
     "execution_count": 88,
     "metadata": {},
     "output_type": "execute_result"
    }
   ],
   "source": [
    "reference=True\n",
    "def inception(molname):\n",
    "    def vismol(pose):\n",
    "        pose=pose\n",
    "        \n",
    "        molview=py3Dmol.view(height=500)\n",
    "        mol1=next(pybel.readfile(os.path.splitext(receptor)[1].strip('.'), receptor)).write('pdb')\n",
    "    \n",
    "        mol2=rd._dockposes[molname][pose]\n",
    "        molview.addModel(mol1, 'pdb')\n",
    "        molview.setStyle({'cartoon': {'color':'white'}})\n",
    "        molview.addModel(mol2, 'sd')\n",
    "        molview.setStyle({'model':1},{'stick':{'colorscheme':'cyanCarbon','radius':0.2}})\n",
    "\n",
    "        if reference is True:\n",
    "            molview.addModel(next(pybel.readfile(os.path.splitext(xtal[0])[1].strip('.'),xtal[0])).write('pdb'), 'pdb')\n",
    "            molview.setStyle({'model':2},{'stick':{'colorscheme':'whiteCarbon','radius':0.2}})\n",
    "        molview.setBackgroundColor('0xeeeeee')\n",
    "        molview.zoomTo({'model':1})\n",
    "        molview.show()\n",
    "    return\n",
    "    \n",
    "    \n",
    "    options2=[x for x in rd._dockposes[molname].keys()]\n",
    "    ipywidgets.interact(vismol, pose=ipywidgets.IntSlider(min=1,max=len(options2),step=1))\n",
    "  \n",
    "\n",
    "    \n",
    " \n",
    "    \n",
    "    \n",
    "    return\n",
    "\n",
    "options1=[x for x in rd._scores.keys()]\n",
    "ipywidgets.interact(inception, molname=ipywidgets.Dropdown(options=options1, value=options1[0], description='Ligand:', disable=False))\n"
   ]
  },
  {
   "cell_type": "code",
   "execution_count": null,
   "id": "243e2896",
   "metadata": {},
   "outputs": [],
   "source": []
  },
  {
   "cell_type": "code",
   "execution_count": null,
   "id": "9859ec07",
   "metadata": {},
   "outputs": [],
   "source": []
  }
 ],
 "metadata": {
  "kernelspec": {
   "display_name": "compbio",
   "language": "python",
   "name": "compbio"
  },
  "language_info": {
   "codemirror_mode": {
    "name": "ipython",
    "version": 3
   },
   "file_extension": ".py",
   "mimetype": "text/x-python",
   "name": "python",
   "nbconvert_exporter": "python",
   "pygments_lexer": "ipython3",
   "version": "3.9.13"
  }
 },
 "nbformat": 4,
 "nbformat_minor": 5
}
