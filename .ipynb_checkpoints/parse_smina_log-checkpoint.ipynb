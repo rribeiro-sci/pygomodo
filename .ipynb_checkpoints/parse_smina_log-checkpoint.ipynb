{
 "cells": [
  {
   "cell_type": "code",
   "execution_count": null,
   "id": "62260db9",
   "metadata": {},
   "outputs": [],
   "source": [
    "import re\n",
    "import pandas as pd"
   ]
  },
  {
   "cell_type": "code",
   "execution_count": 72,
   "id": "272fe9fa",
   "metadata": {},
   "outputs": [],
   "source": [
    "file = 'tether_example/smina_minimized_log.txt'\n",
    "file2 = 'tether_example/smina_score_log.txt'"
   ]
  },
  {
   "cell_type": "code",
   "execution_count": 10,
   "id": "89d24d05",
   "metadata": {},
   "outputs": [],
   "source": [
    "with open(file, 'r') as f:\n",
    "    lines = f.readlines()"
   ]
  },
  {
   "cell_type": "code",
   "execution_count": 42,
   "id": "9bbe9430",
   "metadata": {},
   "outputs": [],
   "source": [
    "# if minimized = True"
   ]
  },
  {
   "cell_type": "code",
   "execution_count": 53,
   "id": "3b6641ab",
   "metadata": {},
   "outputs": [],
   "source": [
    "affinity_values=[]\n",
    "intramolecular_values = []\n",
    "rmsd_values = []\n",
    "for line in lines:\n",
    "    try:\n",
    "        affinity, intramolecular = re.findall('^Affinity:\\s*(\\S*)\\s*(\\S*)', line)[0]\n",
    "        affinity_values.append(affinity)\n",
    "        intramolecular_values.append(intramolecular)\n",
    "    except: pass\n",
    "    try: \n",
    "        rmsd = re.findall('^RMSD:\\s*(\\S*)', line)[0]\n",
    "        rmsd_values.append(rmsd)\n",
    "    except:pass\n",
    "    "
   ]
  },
  {
   "cell_type": "code",
   "execution_count": 71,
   "id": "37222d8a",
   "metadata": {},
   "outputs": [
    {
     "data": {
      "text/html": [
       "<div>\n",
       "<style scoped>\n",
       "    .dataframe tbody tr th:only-of-type {\n",
       "        vertical-align: middle;\n",
       "    }\n",
       "\n",
       "    .dataframe tbody tr th {\n",
       "        vertical-align: top;\n",
       "    }\n",
       "\n",
       "    .dataframe thead th {\n",
       "        text-align: right;\n",
       "    }\n",
       "</style>\n",
       "<table border=\"1\" class=\"dataframe\">\n",
       "  <thead>\n",
       "    <tr style=\"text-align: right;\">\n",
       "      <th></th>\n",
       "      <th>Affinity (Kcal/mol)</th>\n",
       "      <th>Intramolecular Energy (Kcal/mol)</th>\n",
       "      <th>RMSD (minimization)</th>\n",
       "    </tr>\n",
       "  </thead>\n",
       "  <tbody>\n",
       "    <tr>\n",
       "      <th>1</th>\n",
       "      <td>-9.33755</td>\n",
       "      <td>-1.03317</td>\n",
       "      <td>1.18341</td>\n",
       "    </tr>\n",
       "    <tr>\n",
       "      <th>2</th>\n",
       "      <td>-8.85753</td>\n",
       "      <td>-1.30013</td>\n",
       "      <td>1.12363</td>\n",
       "    </tr>\n",
       "    <tr>\n",
       "      <th>3</th>\n",
       "      <td>-9.15752</td>\n",
       "      <td>-1.12294</td>\n",
       "      <td>1.03634</td>\n",
       "    </tr>\n",
       "    <tr>\n",
       "      <th>4</th>\n",
       "      <td>-9.15564</td>\n",
       "      <td>-1.13918</td>\n",
       "      <td>1.56399</td>\n",
       "    </tr>\n",
       "    <tr>\n",
       "      <th>5</th>\n",
       "      <td>-8.91616</td>\n",
       "      <td>-1.18564</td>\n",
       "      <td>1.90105</td>\n",
       "    </tr>\n",
       "    <tr>\n",
       "      <th>6</th>\n",
       "      <td>-8.63432</td>\n",
       "      <td>-0.88222</td>\n",
       "      <td>2.62265</td>\n",
       "    </tr>\n",
       "    <tr>\n",
       "      <th>7</th>\n",
       "      <td>-8.99278</td>\n",
       "      <td>-0.95565</td>\n",
       "      <td>1.23946</td>\n",
       "    </tr>\n",
       "    <tr>\n",
       "      <th>8</th>\n",
       "      <td>-8.08398</td>\n",
       "      <td>-0.87247</td>\n",
       "      <td>0.82447</td>\n",
       "    </tr>\n",
       "    <tr>\n",
       "      <th>9</th>\n",
       "      <td>-8.48346</td>\n",
       "      <td>-0.98629</td>\n",
       "      <td>1.03921</td>\n",
       "    </tr>\n",
       "    <tr>\n",
       "      <th>10</th>\n",
       "      <td>-7.92480</td>\n",
       "      <td>-0.98726</td>\n",
       "      <td>0.89355</td>\n",
       "    </tr>\n",
       "  </tbody>\n",
       "</table>\n",
       "</div>"
      ],
      "text/plain": [
       "   Affinity (Kcal/mol) Intramolecular Energy (Kcal/mol) RMSD (minimization)\n",
       "1             -9.33755                         -1.03317             1.18341\n",
       "2             -8.85753                         -1.30013             1.12363\n",
       "3             -9.15752                         -1.12294             1.03634\n",
       "4             -9.15564                         -1.13918             1.56399\n",
       "5             -8.91616                         -1.18564             1.90105\n",
       "6             -8.63432                         -0.88222             2.62265\n",
       "7             -8.99278                         -0.95565             1.23946\n",
       "8             -8.08398                         -0.87247             0.82447\n",
       "9             -8.48346                         -0.98629             1.03921\n",
       "10            -7.92480                         -0.98726             0.89355"
      ]
     },
     "execution_count": 71,
     "metadata": {},
     "output_type": "execute_result"
    }
   ],
   "source": [
    "scores={}\n",
    "for i in range(len(affinity_values)):\n",
    "    scores[i+1]={'Affinity (Kcal/mol)':affinity_values[i], 'Intramolecular Energy (Kcal/mol)':intramolecular_values[i], 'RMSD (minimization)':rmsd_values[i]}\n",
    "\n",
    "df = pd.DataFrame.from_dict(scores, orient='index')\n",
    "df"
   ]
  },
  {
   "cell_type": "code",
   "execution_count": 12,
   "id": "3afaacc1",
   "metadata": {},
   "outputs": [],
   "source": [
    "# if rescore_only = True"
   ]
  },
  {
   "cell_type": "code",
   "execution_count": 75,
   "id": "dccf1181",
   "metadata": {},
   "outputs": [],
   "source": [
    "with open(file2, 'r') as f2:\n",
    "    lines2=f2.readlines()"
   ]
  },
  {
   "cell_type": "code",
   "execution_count": 79,
   "id": "9141943d",
   "metadata": {},
   "outputs": [],
   "source": [
    "affinity_values2=[]\n",
    "intramolecular_values2 = []\n",
    "for line in lines2:\n",
    "    try:\n",
    "        affinity2 = re.findall('^Affinity:\\s*(\\S*)\\s*', line)[0]\n",
    "        affinity_values2.append(affinity)\n",
    "    except: pass\n",
    "    try: \n",
    "        intramolecular2 = re.findall('^Intramolecular energy:\\s*(\\S*)', line)[0]\n",
    "        intramolecular_values2.append(intramolecular2)\n",
    "    except:pass"
   ]
  },
  {
   "cell_type": "code",
   "execution_count": 82,
   "id": "44e63cff",
   "metadata": {},
   "outputs": [
    {
     "data": {
      "text/html": [
       "<div>\n",
       "<style scoped>\n",
       "    .dataframe tbody tr th:only-of-type {\n",
       "        vertical-align: middle;\n",
       "    }\n",
       "\n",
       "    .dataframe tbody tr th {\n",
       "        vertical-align: top;\n",
       "    }\n",
       "\n",
       "    .dataframe thead th {\n",
       "        text-align: right;\n",
       "    }\n",
       "</style>\n",
       "<table border=\"1\" class=\"dataframe\">\n",
       "  <thead>\n",
       "    <tr style=\"text-align: right;\">\n",
       "      <th></th>\n",
       "      <th>Affinity (Kcal/mol)</th>\n",
       "      <th>Intramolecular Energy (Kcal/mol)</th>\n",
       "    </tr>\n",
       "  </thead>\n",
       "  <tbody>\n",
       "    <tr>\n",
       "      <th>1</th>\n",
       "      <td>-7.92480</td>\n",
       "      <td>-0.34745</td>\n",
       "    </tr>\n",
       "    <tr>\n",
       "      <th>2</th>\n",
       "      <td>-7.92480</td>\n",
       "      <td>-1.15882</td>\n",
       "    </tr>\n",
       "    <tr>\n",
       "      <th>3</th>\n",
       "      <td>-7.92480</td>\n",
       "      <td>-1.03526</td>\n",
       "    </tr>\n",
       "    <tr>\n",
       "      <th>4</th>\n",
       "      <td>-7.92480</td>\n",
       "      <td>-0.97398</td>\n",
       "    </tr>\n",
       "    <tr>\n",
       "      <th>5</th>\n",
       "      <td>-7.92480</td>\n",
       "      <td>-0.97886</td>\n",
       "    </tr>\n",
       "    <tr>\n",
       "      <th>6</th>\n",
       "      <td>-7.92480</td>\n",
       "      <td>-0.96146</td>\n",
       "    </tr>\n",
       "    <tr>\n",
       "      <th>7</th>\n",
       "      <td>-7.92480</td>\n",
       "      <td>-0.78681</td>\n",
       "    </tr>\n",
       "    <tr>\n",
       "      <th>8</th>\n",
       "      <td>-7.92480</td>\n",
       "      <td>-0.82229</td>\n",
       "    </tr>\n",
       "    <tr>\n",
       "      <th>9</th>\n",
       "      <td>-7.92480</td>\n",
       "      <td>-0.94246</td>\n",
       "    </tr>\n",
       "    <tr>\n",
       "      <th>10</th>\n",
       "      <td>-7.92480</td>\n",
       "      <td>-0.90704</td>\n",
       "    </tr>\n",
       "  </tbody>\n",
       "</table>\n",
       "</div>"
      ],
      "text/plain": [
       "   Affinity (Kcal/mol) Intramolecular Energy (Kcal/mol)\n",
       "1             -7.92480                         -0.34745\n",
       "2             -7.92480                         -1.15882\n",
       "3             -7.92480                         -1.03526\n",
       "4             -7.92480                         -0.97398\n",
       "5             -7.92480                         -0.97886\n",
       "6             -7.92480                         -0.96146\n",
       "7             -7.92480                         -0.78681\n",
       "8             -7.92480                         -0.82229\n",
       "9             -7.92480                         -0.94246\n",
       "10            -7.92480                         -0.90704"
      ]
     },
     "execution_count": 82,
     "metadata": {},
     "output_type": "execute_result"
    }
   ],
   "source": [
    "scores={}\n",
    "for i in range(len(affinity_values2)):\n",
    "    scores[i+1]={'Affinity (Kcal/mol)':affinity_values2[i], 'Intramolecular Energy (Kcal/mol)':intramolecular_values2[i]}\n",
    "\n",
    "df = pd.DataFrame.from_dict(scores, orient='index')\n",
    "df"
   ]
  },
  {
   "cell_type": "markdown",
   "id": "6e87f34f",
   "metadata": {},
   "source": [
    "# RMSD Calculation"
   ]
  },
  {
   "cell_type": "code",
   "execution_count": 89,
   "id": "fd205a13",
   "metadata": {},
   "outputs": [],
   "source": [
    "mfile = 'tether_example/21_tethered_docking_poses_sorted.sd'"
   ]
  },
  {
   "cell_type": "code",
   "execution_count": 90,
   "id": "a08e7b30",
   "metadata": {},
   "outputs": [],
   "source": [
    "with open(mfile, 'rt') as f:\n",
    "    cont = f.read()"
   ]
  },
  {
   "cell_type": "code",
   "execution_count": 95,
   "id": "2cf09abd",
   "metadata": {},
   "outputs": [
    {
     "data": {
      "text/plain": [
       "['\\nlibRbt.so/2021.1/901',\n",
       " '\\nlibRbt.so',\n",
       " '\\nlibRbt.so/2021.1/901',\n",
       " '\\nlibRbt.so',\n",
       " '\\nlibRbt.so/2021.1/901',\n",
       " '\\nlibRbt.so',\n",
       " '\\nlibRbt.so/2021.1/901',\n",
       " '\\nlibRbt.so',\n",
       " '\\nlibRbt.so/2021.1/901',\n",
       " '\\nlibRbt.so',\n",
       " '\\nlibRbt.so/2021.1/901',\n",
       " '\\nlibRbt.so',\n",
       " '\\nlibRbt.so/2021.1/901',\n",
       " '\\nlibRbt.so',\n",
       " '\\nlibRbt.so/2021.1/901',\n",
       " '\\nlibRbt.so',\n",
       " '\\nlibRbt.so/2021.1/901',\n",
       " '\\nlibRbt.so',\n",
       " '\\nlibRbt.so/2021.1/901',\n",
       " '\\nlibRbt.so']"
      ]
     },
     "execution_count": 95,
     "metadata": {},
     "output_type": "execute_result"
    }
   ],
   "source": [
    "re.findall('\\slibRbt.so\\S*', cont)"
   ]
  },
  {
   "cell_type": "code",
   "execution_count": 88,
   "id": "b3f74a90",
   "metadata": {},
   "outputs": [
    {
     "data": {
      "text/plain": [
       "'\\n  rDOCK(R)          3D\\nlibRbt.so/2021.1/901 2021/07/19\\n 44 48  0  0  0  0  0  0  0  0999 V2000\\n   -5.6814   -8.8724   47.3679 O   0  0  0  0  0  0\\n   -4.6457   -9.1960   47.9462 C   0  0  0  0  0  0\\n   -4.5367  -10.5354   48.6805 C   0  0  0  0  0  0\\n   -3.6158  -10.4299   49.7812 O   0  0  0  0  0  0\\n   -4.2656  -10.8809   50.9954 C   0  0  0  0  0  0\\n   -4.4883   -9.7692   51.9140 N   0  0  0  0  0  0\\n   -4.0007   -8.4939   51.8621 C   0  0  0  0  0  0\\n   -4.4539   -7.7475   52.8528 N   0  0  0  0  0  0\\n   -5.2436   -8.5873   53.5997 C   0  0  0  0  0  0\\n   -5.9967   -8.4125   54.7662 C   0  0  0  0  0  0\\n   -6.0609   -7.2102   55.4598 N   0  0  0  0  0  0\\n   -6.7186   -9.4594   55.2264 N   0  0  0  0  0  0\\n   -6.6791  -10.6413   54.5785 C   0  0  0  0  0  0\\n   -7.4013  -11.7220   55.0686 N   0  0  0  0  0  0\\n   -6.6403  -12.7262   55.8030 C   0  0  0  0  0  0\\n   -7.4908  -13.3893   56.9114 C   0  0  0  0  0  0\\n   -7.8135  -12.4895   58.0410 N   0  0  0  0  0  0\\n   -9.1843  -11.9384   57.9281 C   0  0  0  0  0  0\\n   -9.8555  -11.5900   59.2786 C   0  0  0  0  0  0\\n   -9.9666  -12.7904   60.1221 N   0  0  0  0  0  0\\n  -10.9081  -12.8964   61.1316 C   0  0  0  0  0  0\\n  -10.9553  -14.0072   61.9935 C   0  0  0  0  0  0\\n  -11.9050  -14.1112   63.0169 C   0  0  0  0  0  0\\n  -12.8277  -13.0946   63.1984 C   0  0  0  0  0  0\\n  -13.7371  -13.1894   64.1769 F   0  0  0  0  0  0\\n  -12.8157  -11.9801   62.3769 C   0  0  0  0  0  0\\n  -11.8628  -11.8867   61.3558 C   0  0  0  0  0  0\\n   -8.9069  -13.8015   59.9556 C   0  0  0  0  0  0\\n   -7.6313  -13.1802   59.3386 C   0  0  0  0  0  0\\n   -5.9896  -10.9002   53.4533 N   0  0  0  0  0  0\\n   -5.2890   -9.8410   53.0237 C   0  0  0  0  0  0\\n   -5.5612  -11.5710   50.5759 C   0  0  0  0  0  0\\n   -5.3325  -12.9717   50.3652 O   0  0  0  0  0  0\\n   -5.9028  -10.8743   49.2678 C   0  0  0  0  0  0\\n   -6.6482  -11.7153   48.3881 O   0  0  0  0  0  0\\n   -3.5304   -8.3885   47.9640 N   0  0  0  0  0  0\\n   -2.5719   -8.4384   46.8713 C   0  0  0  0  0  0\\n   -1.1700   -8.0683   47.3171 C   0  0  0  0  0  0\\n   -5.9110   -7.3092   56.4577 H   0  0  0  0  0  0\\n   -5.5810   -6.4622   54.9778 H   0  0  0  0  0  0\\n   -8.1865  -11.3239   55.5723 H   0  0  0  0  0  0\\n   -6.1987  -13.3581   50.1230 H   0  0  0  0  0  0\\n   -6.9684  -11.1576   47.6540 H   0  0  0  0  0  0\\n   -3.5693   -7.5458   48.5247 H   0  0  0  0  0  0\\n  1  2  2  0  0  0\\n  2  3  1  0  0  0\\n  3  4  1  0  0  0\\n  4  5  1  0  0  0\\n  5  6  1  0  0  0\\n  6  7  1  0  0  0\\n  7  8  2  0  0  0\\n  8  9  1  0  0  0\\n  9 10  2  0  0  0\\n 10 11  1  0  0  0\\n 10 12  1  0  0  0\\n 12 13  2  0  0  0\\n 13 14  1  0  0  0\\n 14 15  1  0  0  0\\n 15 16  1  0  0  0\\n 16 17  1  0  0  0\\n 17 18  1  0  0  0\\n 18 19  1  0  0  0\\n 19 20  1  0  0  0\\n 20 21  1  0  0  0\\n 21 22  2  0  0  0\\n 22 23  1  0  0  0\\n 23 24  2  0  0  0\\n 24 25  1  0  0  0\\n 24 26  1  0  0  0\\n 26 27  2  0  0  0\\n 20 28  1  0  0  0\\n 28 29  1  0  0  0\\n 13 30  1  0  0  0\\n 30 31  2  0  0  0\\n  5 32  1  0  0  0\\n 32 33  1  0  0  0\\n 32 34  1  0  0  0\\n 34 35  1  0  0  0\\n  2 36  1  0  0  0\\n 36 37  1  0  0  0\\n 37 38  1  0  0  0\\n 34  3  1  0  0  0\\n 31  6  1  0  0  0\\n 31  9  1  0  0  0\\n 29 17  1  0  0  0\\n 27 21  1  0  0  0\\n 11 39  1  0  0  0\\n 11 40  1  0  0  0\\n 14 41  1  0  0  0\\n 33 42  1  0  0  0\\n 35 43  1  0  0  0\\n 36 44  1  0  0  0\\nM  END\\n>  <CHROM.0>\\n66.54629846,-69.46756607,-59.28633301,-145.55936458,-58.01986623,-64.68981114\\n-151.92972526,69.72992752\\n\\n>  <CHROM.1>\\n-150.62976235,-11.06582279,-131.64222811,-101.64664862,148.29166295,-69.45100424\\n99.80120596,-175.72278562,178.58581948,-74.98988192,-85.42603719,-151.76890895\\n-4.51737746,-9.82072589,49.83632403,2.12708644,0.91105439,1.32381188\\n\\n>  <EmbedRMS>\\n0.03855896916268701\\n\\n>  <Name>\\n\\n>  <RI>\\n2.21312e+07\\n\\n>  <Rbt.Current_Directory>\\n/home/rribeiro/Projects/pygomodo/tether_example\\n\\n>  <Rbt.Executable>\\nrbdock ($Id: //depot/dev/client3/rdock/2021.1/src/exe/rbdock.cxx#4 $)\\n\\n>  <Rbt.Library>\\nlibRbt.so (2021.1, Build901 2021/07/19)\\n\\n>  <Rbt.Parameter_File>\\n/usr/local/opt/rDock//data/scripts/dock.prm\\n\\n>  <Rbt.Receptor>\\ndocking.prm\\n\\n>  <SCORE>\\n-36.0019\\n\\n>  <SCORE.INTER>\\n-21.4247\\n\\n>  <SCORE.INTER.CONST>\\n1\\n\\n>  <SCORE.INTER.POLAR>\\n-2.79869\\n\\n>  <SCORE.INTER.REPUL>\\n0\\n\\n>  <SCORE.INTER.ROT>\\n10\\n\\n>  <SCORE.INTER.VDW>\\n-27.3092\\n\\n>  <SCORE.INTER.norm>\\n-0.563808\\n\\n>  <SCORE.INTRA>\\n-4.01079\\n\\n>  <SCORE.INTRA.DIHEDRAL>\\n-6.31597\\n\\n>  <SCORE.INTRA.DIHEDRAL.0>\\n17.4867\\n\\n>  <SCORE.INTRA.POLAR>\\n0.151957\\n\\n>  <SCORE.INTRA.POLAR.0>\\n-0.151957\\n\\n>  <SCORE.INTRA.REPUL>\\n0.0390118\\n\\n>  <SCORE.INTRA.REPUL.0>\\n0\\n\\n>  <SCORE.INTRA.VDW>\\n-1.56452\\n\\n>  <SCORE.INTRA.VDW.0>\\n0.149568\\n\\n>  <SCORE.INTRA.norm>\\n-0.105547\\n\\n>  <SCORE.RESTR>\\n0\\n\\n>  <SCORE.RESTR.CAVITY>\\n0\\n\\n>  <SCORE.RESTR.norm>\\n0\\n\\n>  <SCORE.SYSTEM>\\n-10.5664\\n\\n>  <SCORE.SYSTEM.CONST>\\n0\\n\\n>  <SCORE.SYSTEM.DIHEDRAL>\\n7.2739\\n\\n>  <SCORE.SYSTEM.POLAR>\\n-3.70317\\n\\n>  <SCORE.SYSTEM.REPUL>\\n0.112319\\n\\n>  <SCORE.SYSTEM.VDW>\\n-2.17418\\n\\n>  <SCORE.SYSTEM.norm>\\n-0.278064\\n\\n>  <SCORE.heavy>\\n38\\n\\n>  <SCORE.norm>\\n-0.947419\\n\\n>  <TETHERED ATOMS>\\n32,34,35,3,4,5,6,7,8,9,31,2,36,37,38,1,33\\n\\n$$$$\\n\\n  rDOCK(R)          3D\\nlibRbt.so/2021.1/901 2021/07/19\\n 44 48  0  0  0  0  0  0  0  0999 V2000\\n   -2.6905   -7.8092   48.7634 O   0  0  0  0  0  0\\n   -2.9127   -8.6785   47.9228 C   0  0  0  0  0  0\\n   -3.4422  -10.0560   48.3321 C   0  0  0  0  0  0\\n   -3.0165  -10.3797   49.6680 O   0  0  0  0  0  0\\n   -4.1724  -10.7322   50.4677 C   0  0  0  0  0  0\\n   -4.4321   -9.7206   51.4869 N   0  0  0  0  0  0\\n   -4.1566   -8.3825   51.4668 C   0  0  0  0  0  0\\n   -4.5761   -7.7719   52.5599 N   0  0  0  0  0  0\\n   -5.1171   -8.7660   53.3384 C   0  0  0  0  0  0\\n   -5.7187   -8.7762   54.6019 C   0  0  0  0  0  0\\n   -5.8684   -7.6380   55.3847 N   0  0  0  0  0  0\\n   -6.2017   -9.9483   55.0728 N   0  0  0  0  0  0\\n   -6.0729  -11.0727   54.3397 C   0  0  0  0  0  0\\n   -6.5469  -12.2798   54.8378 N   0  0  0  0  0  0\\n   -7.1612  -12.2351   56.1598 C   0  0  0  0  0  0\\n   -8.3661  -13.1990   56.2624 C   0  0  0  0  0  0\\n   -9.1763  -13.0204   57.4877 N   0  0  0  0  0  0\\n   -8.4032  -13.3489   58.7084 C   0  0  0  0  0  0\\n   -8.8482  -12.5884   59.9810 C   0  0  0  0  0  0\\n   -8.7077  -11.1365   59.7876 N   0  0  0  0  0  0\\n   -8.5700  -10.2618   60.8518 C   0  0  0  0  0  0\\n   -8.6784  -10.6898   62.1874 C   0  0  0  0  0  0\\n   -8.5344   -9.8052   63.2630 C   0  0  0  0  0  0\\n   -8.2732   -8.4676   63.0170 C   0  0  0  0  0  0\\n   -8.1335   -7.6183   64.0429 F   0  0  0  0  0  0\\n   -8.1534   -8.0025   61.7184 C   0  0  0  0  0  0\\n   -8.3006   -8.8951   60.6503 C   0  0  0  0  0  0\\n   -8.9019  -10.6429   58.4122 C   0  0  0  0  0  0\\n   -9.7227  -11.6459   57.5672 C   0  0  0  0  0  0\\n   -5.5151  -11.1578   53.1191 N   0  0  0  0  0  0\\n   -5.0505   -9.9785   52.6821 C   0  0  0  0  0  0\\n   -5.3414  -10.9144   49.5029 C   0  0  0  0  0  0\\n   -5.4206  -12.2803   49.0705 O   0  0  0  0  0  0\\n   -4.9662  -10.0004   48.3466 C   0  0  0  0  0  0\\n   -5.5106  -10.4495   47.1062 O   0  0  0  0  0  0\\n   -2.7090   -8.4692   46.5771 N   0  0  0  0  0  0\\n   -1.5186   -7.7726   46.1157 C   0  0  0  0  0  0\\n   -1.8256   -6.7727   45.0170 C   0  0  0  0  0  0\\n   -5.6041   -6.7818   54.9103 H   0  0  0  0  0  0\\n   -6.7316   -7.6442   55.9110 H   0  0  0  0  0  0\\n   -7.1297  -12.6710   54.1057 H   0  0  0  0  0  0\\n   -4.5862  -12.4665   48.5940 H   0  0  0  0  0  0\\n   -5.2680   -9.7922   46.4268 H   0  0  0  0  0  0\\n   -3.1786   -9.0898   45.9287 H   0  0  0  0  0  0\\n  1  2  2  0  0  0\\n  2  3  1  0  0  0\\n  3  4  1  0  0  0\\n  4  5  1  0  0  0\\n  5  6  1  0  0  0\\n  6  7  1  0  0  0\\n  7  8  2  0  0  0\\n  8  9  1  0  0  0\\n  9 10  2  0  0  0\\n 10 11  1  0  0  0\\n 10 12  1  0  0  0\\n 12 13  2  0  0  0\\n 13 14  1  0  0  0\\n 14 15  1  0  0  0\\n 15 16  1  0  0  0\\n 16 17  1  0  0  0\\n 17 18  1  0  0  0\\n 18 19  1  0  0  0\\n 19 20  1  0  0  0\\n 20 21  1  0  0  0\\n 21 22  2  0  0  0\\n 22 23  1  0  0  0\\n 23 24  2  0  0  0\\n 24 25  1  0  0  0\\n 24 26  1  0  0  0\\n 26 27  2  0  0  0\\n 20 28  1  0  0  0\\n 28 29  1  0  0  0\\n 13 30  1  0  0  0\\n 30 31  2  0  0  0\\n  5 32  1  0  0  0\\n 32 33  1  0  0  0\\n 32 34  1  0  0  0\\n 34 35  1  0  0  0\\n  2 36  1  0  0  0\\n 36 37  1  0  0  0\\n 37 38  1  0  0  0\\n 34  3  1  0  0  0\\n 31  6  1  0  0  0\\n 31  9  1  0  0  0\\n 29 17  1  0  0  0\\n 27 21  1  0  0  0\\n 11 39  1  0  0  0\\n 11 40  1  0  0  0\\n 14 41  1  0  0  0\\n 33 42  1  0  0  0\\n 35 43  1  0  0  0\\n 36 44  1  0  0  0\\nM  END\\n>  <CHROM.0>\\n65.00924123,179.25513544,-60.34574229,-3.37336705,-168.05956512,176.56620112\\n40.50197798,66.67920369\\n\\n>  <CHROM.1>\\n-28.07115153,28.66829911,7.02471268,-0.26442111,143.26358037,-169.47394920\\n-64.62063345,-5.95085133,-62.22265217,-67.66038102,42.46853162,-137.23898451\\n-3.91020966,-9.35873925,49.22060136,2.32646751,0.97204354,1.19356158\\n\\n>  <EmbedRMS>\\n0.03855896916268701\\n\\n>  <Name>\\n\\n>  <RI>\\n2.21312e+07\\n\\n>  <Rbt.Current_Directory>\\n/home/rribeiro/Projects/pygomodo/tether_example\\n\\n>  <Rbt.Executable>\\nrbdock ($Id: //depot/dev/client3/rdock/2021.1/src/exe/rbdock.cxx#4 $)\\n\\n>  <Rbt.Library>\\nlibRbt.so (2021.1, Build901 2021/07/19)\\n\\n>  <Rbt.Parameter_File>\\n/usr/local/opt/rDock//data/scripts/dock.prm\\n\\n>  <Rbt.Receptor>\\ndocking.prm\\n\\n>  <SCORE>\\n-34.4304\\n\\n>  <SCORE.INTER>\\n-23.3767\\n\\n>  <SCORE.INTER.CONST>\\n1\\n\\n>  <SCORE.INTER.POLAR>\\n-2.66003\\n\\n>  <SCORE.INTER.REPUL>\\n0\\n\\n>  <SCORE.INTER.ROT>\\n10\\n\\n>  <SCORE.INTER.VDW>\\n-29.7326\\n\\n>  <SCORE.INTER.norm>\\n-0.615177\\n\\n>  <SCORE.INTRA>\\n-2.20201\\n\\n>  <SCORE.INTRA.DIHEDRAL>\\n-7.75044\\n\\n>  <SCORE.INTRA.DIHEDRAL.0>\\n17.4867\\n\\n>  <SCORE.INTRA.POLAR>\\n0.151957\\n\\n>  <SCORE.INTRA.POLAR.0>\\n-0.151957\\n\\n>  <SCORE.INTRA.REPUL>\\n0\\n\\n>  <SCORE.INTRA.REPUL.0>\\n0\\n\\n>  <SCORE.INTRA.VDW>\\n1.15656\\n\\n>  <SCORE.INTRA.VDW.0>\\n0.149568\\n\\n>  <SCORE.INTRA.norm>\\n-0.0579477\\n\\n>  <SCORE.RESTR>\\n0\\n\\n>  <SCORE.RESTR.CAVITY>\\n0\\n\\n>  <SCORE.RESTR.norm>\\n0\\n\\n>  <SCORE.SYSTEM>\\n-8.85168\\n\\n>  <SCORE.SYSTEM.CONST>\\n0\\n\\n>  <SCORE.SYSTEM.DIHEDRAL>\\n2.65342\\n\\n>  <SCORE.SYSTEM.POLAR>\\n-2.35271\\n\\n>  <SCORE.SYSTEM.VDW>\\n-2.17917\\n\\n>  <SCORE.SYSTEM.norm>\\n-0.232939\\n\\n>  <SCORE.heavy>\\n38\\n\\n>  <SCORE.norm>\\n-0.906064\\n\\n>  <TETHERED ATOMS>\\n32,34,35,3,4,5,6,7,8,9,31,2,36,37,38,1,33\\n\\n$$$$\\n\\n  rDOCK(R)          3D\\nlibRbt.so/2021.1/901 2021/07/19\\n 44 48  0  0  0  0  0  0  0  0999 V2000\\n   -1.1636   -7.9661   48.7129 O   0  0  0  0  0  0\\n   -2.0884   -8.2974   47.9734 C   0  0  0  0  0  0\\n   -2.7927   -9.6464   48.1453 C   0  0  0  0  0  0\\n   -2.5640  -10.1660   49.4676 O   0  0  0  0  0  0\\n   -3.8363  -10.4792   50.0867 C   0  0  0  0  0  0\\n   -4.1190   -9.5690   51.1916 N   0  0  0  0  0  0\\n   -3.8801   -8.2273   51.2892 C   0  0  0  0  0  0\\n   -4.3114   -7.7273   52.4328 N   0  0  0  0  0  0\\n   -4.8217   -8.8007   53.1216 C   0  0  0  0  0  0\\n   -5.4172   -8.9389   54.3804 C   0  0  0  0  0  0\\n   -5.5944   -7.8788   55.2610 N   0  0  0  0  0  0\\n   -5.8660  -10.1609   54.7470 N   0  0  0  0  0  0\\n   -5.7097  -11.2123   53.9172 C   0  0  0  0  0  0\\n   -6.1484  -12.4712   54.3076 N   0  0  0  0  0  0\\n   -6.6718  -12.5794   55.6646 C   0  0  0  0  0  0\\n   -6.8912  -14.0538   56.0761 C   0  0  0  0  0  0\\n   -7.6516  -14.2200   57.3347 N   0  0  0  0  0  0\\n   -7.0091  -13.5037   58.4616 C   0  0  0  0  0  0\\n   -7.9828  -13.0328   59.5689 C   0  0  0  0  0  0\\n   -8.9828  -12.1070   59.0142 N   0  0  0  0  0  0\\n   -9.6519  -11.1868   59.8031 C   0  0  0  0  0  0\\n   -9.2186  -10.8635   61.1018 C   0  0  0  0  0  0\\n   -9.8934   -9.9294   61.8969 C   0  0  0  0  0  0\\n  -11.0196   -9.2955   61.3993 C   0  0  0  0  0  0\\n  -11.6673   -8.4005   62.1561 F   0  0  0  0  0  0\\n  -11.4796   -9.5789   60.1244 C   0  0  0  0  0  0\\n  -10.7983  -10.5154   59.3383 C   0  0  0  0  0  0\\n   -9.3666  -12.3315   57.6087 C   0  0  0  0  0  0\\n   -9.0566  -13.7818   57.1678 C   0  0  0  0  0  0\\n   -5.1552  -11.1739   52.6927 N   0  0  0  0  0  0\\n   -4.7249   -9.9484   52.3607 C   0  0  0  0  0  0\\n   -4.8925  -10.4203   48.9859 C   0  0  0  0  0  0\\n   -5.0493  -11.7105   48.3780 O   0  0  0  0  0  0\\n   -4.2950   -9.4261   48.0020 C   0  0  0  0  0  0\\n   -4.7263   -9.6674   46.6632 O   0  0  0  0  0  0\\n   -2.5483   -7.4842   46.9617 N   0  0  0  0  0  0\\n   -1.6710   -7.1150   45.8621 C   0  0  0  0  0  0\\n   -1.7839   -8.0703   44.6891 C   0  0  0  0  0  0\\n   -5.5153   -6.9687   54.8212 H   0  0  0  0  0  0\\n   -6.3623   -8.0341   55.9001 H   0  0  0  0  0  0\\n   -6.7793  -12.7828   53.5772 H   0  0  0  0  0  0\\n   -5.7658  -11.6177   47.7175 H   0  0  0  0  0  0\\n   -5.6890   -9.5099   46.6347 H   0  0  0  0  0  0\\n   -3.5485   -7.4492   46.8050 H   0  0  0  0  0  0\\n  1  2  2  0  0  0\\n  2  3  1  0  0  0\\n  3  4  1  0  0  0\\n  4  5  1  0  0  0\\n  5  6  1  0  0  0\\n  6  7  1  0  0  0\\n  7  8  2  0  0  0\\n  8  9  1  0  0  0\\n  9 10  2  0  0  0\\n 10 11  1  0  0  0\\n 10 12  1  0  0  0\\n 12 13  2  0  0  0\\n 13 14  1  0  0  0\\n 14 15  1  0  0  0\\n 15 16  1  0  0  0\\n 16 17  1  0  0  0\\n 17 18  1  0  0  0\\n 18 19  1  0  0  0\\n 19 20  1  0  0  0\\n 20 21  1  0  0  0\\n 21 22  2  0  0  0\\n 22 23  1  0  0  0\\n 23 24  2  0  0  0\\n 24 25  1  0  0  0\\n 24 26  1  0  0  0\\n 26 27  2  0  0  0\\n 20 28  1  0  0  0\\n 28 29  1  0  0  0\\n 13 30  1  0  0  0\\n 30 31  2  0  0  0\\n  5 32  1  0  0  0\\n 32 33  1  0  0  0\\n 32 34  1  0  0  0\\n 34 35  1  0  0  0\\n  2 36  1  0  0  0\\n 36 37  1  0  0  0\\n 37 38  1  0  0  0\\n 34  3  1  0  0  0\\n 31  6  1  0  0  0\\n 31  9  1  0  0  0\\n 29 17  1  0  0  0\\n 27 21  1  0  0  0\\n 11 39  1  0  0  0\\n 11 40  1  0  0  0\\n 14 41  1  0  0  0\\n 33 42  1  0  0  0\\n 35 43  1  0  0  0\\n 36 44  1  0  0  0\\nM  END\\n>  <CHROM.0>\\n179.09687752,-69.13032389,-55.91482194,-155.97128020,176.72806849,-178.82883137\\n-13.23412349,-46.70508453\\n\\n>  <CHROM.1>\\n20.07256450,38.93989352,17.23476158,-4.42012307,-169.79797607,-169.17297799\\n-56.36733805,14.69842584,177.22006115,-179.90991296,62.56340941,92.12885155\\n-3.45566853,-9.11372725,48.97517554,2.16635508,0.87248111,1.29568509\\n\\n>  <EmbedRMS>\\n0.03855896916268701\\n\\n>  <Name>\\n\\n>  <RI>\\n2.21312e+07\\n\\n>  <Rbt.Current_Directory>\\n/home/rribeiro/Projects/pygomodo/tether_example\\n\\n>  <Rbt.Executable>\\nrbdock ($Id: //depot/dev/client3/rdock/2021.1/src/exe/rbdock.cxx#4 $)\\n\\n>  <Rbt.Library>\\nlibRbt.so (2021.1, Build901 2021/07/19)\\n\\n>  <Rbt.Parameter_File>\\n/usr/local/opt/rDock//data/scripts/dock.prm\\n\\n>  <Rbt.Receptor>\\ndocking.prm\\n\\n>  <SCORE>\\n-33.141\\n\\n>  <SCORE.INTER>\\n-22.5385\\n\\n>  <SCORE.INTER.CONST>\\n1\\n\\n>  <SCORE.INTER.POLAR>\\n-2.37857\\n\\n>  <SCORE.INTER.REPUL>\\n0\\n\\n>  <SCORE.INTER.ROT>\\n10\\n\\n>  <SCORE.INTER.VDW>\\n-29.8513\\n\\n>  <SCORE.INTER.norm>\\n-0.593118\\n\\n>  <SCORE.INTRA>\\n-3.75517\\n\\n>  <SCORE.INTRA.DIHEDRAL>\\n-10.4727\\n\\n>  <SCORE.INTRA.DIHEDRAL.0>\\n17.4867\\n\\n>  <SCORE.INTRA.POLAR>\\n0.151957\\n\\n>  <SCORE.INTRA.POLAR.0>\\n-0.151957\\n\\n>  <SCORE.INTRA.REPUL>\\n0\\n\\n>  <SCORE.INTRA.REPUL.0>\\n0\\n\\n>  <SCORE.INTRA.VDW>\\n0.964515\\n\\n>  <SCORE.INTRA.VDW.0>\\n0.149568\\n\\n>  <SCORE.INTRA.norm>\\n-0.0988204\\n\\n>  <SCORE.RESTR>\\n0\\n\\n>  <SCORE.RESTR.CAVITY>\\n0\\n\\n>  <SCORE.RESTR.norm>\\n0\\n\\n>  <SCORE.SYSTEM>\\n-6.84728\\n\\n>  <SCORE.SYSTEM.CONST>\\n0\\n\\n>  <SCORE.SYSTEM.DIHEDRAL>\\n2.40025\\n\\n>  <SCORE.SYSTEM.POLAR>\\n-2.11474\\n\\n>  <SCORE.SYSTEM.REPUL>\\n0.0698534\\n\\n>  <SCORE.SYSTEM.VDW>\\n-1.20655\\n\\n>  <SCORE.SYSTEM.norm>\\n-0.180192\\n\\n>  <SCORE.heavy>\\n38\\n\\n>  <SCORE.norm>\\n-0.87213\\n\\n>  <TETHERED ATOMS>\\n32,34,35,3,4,5,6,7,8,9,31,2,36,37,38,1,33\\n\\n$$$$\\n\\n  rDOCK(R)          3D\\nlibRbt.so/2021.1/901 2021/07/19\\n 44 48  0  0  0  0  0  0  0  0999 V2000\\n   -2.1274   -9.0315   49.3403 O   0  0  0  0  0  0\\n   -2.7470   -9.6603   48.4845 C   0  0  0  0  0  0\\n   -3.7462  -10.7529   48.8759 C   0  0  0  0  0  0\\n   -3.6132  -11.0766   50.2717 O   0  0  0  0  0  0\\n   -4.9071  -10.9671   50.9150 C   0  0  0  0  0  0\\n   -4.9376   -9.8397   51.8410 N   0  0  0  0  0  0\\n   -4.4231   -8.5830   51.6903 C   0  0  0  0  0  0\\n   -4.6810   -7.8119   52.7309 N   0  0  0  0  0  0\\n   -5.3639   -8.6164   53.6103 C   0  0  0  0  0  0\\n   -5.9076   -8.4043   54.8823 C   0  0  0  0  0  0\\n   -5.8161   -7.1941   55.5589 N   0  0  0  0  0  0\\n   -6.5781   -9.4206   55.4709 N   0  0  0  0  0  0\\n   -6.6856  -10.6092   54.8430 C   0  0  0  0  0  0\\n   -7.3525  -11.6590   55.4616 N   0  0  0  0  0  0\\n   -8.5425  -11.3052   56.2270 C   0  0  0  0  0  0\\n   -8.1812  -10.7999   57.6432 C   0  0  0  0  0  0\\n   -9.3140  -10.1834   58.3688 N   0  0  0  0  0  0\\n  -10.3671  -11.1766   58.6855 C   0  0  0  0  0  0\\n  -11.1970  -10.8586   59.9529 C   0  0  0  0  0  0\\n  -10.3249  -10.7974   61.1363 N   0  0  0  0  0  0\\n  -10.8069  -11.0036   62.4177 C   0  0  0  0  0  0\\n  -10.0559  -10.6702   63.5594 C   0  0  0  0  0  0\\n  -10.5462  -10.8750   64.8547 C   0  0  0  0  0  0\\n  -11.8084  -11.4173   65.0294 C   0  0  0  0  0  0\\n  -12.2818  -11.6137   66.2667 F   0  0  0  0  0  0\\n  -12.5852  -11.7561   63.9345 C   0  0  0  0  0  0\\n  -12.0848  -11.5485   62.6438 C   0  0  0  0  0  0\\n   -8.9471  -10.3276   60.9040 C   0  0  0  0  0  0\\n   -8.8487   -9.5022   59.5991 C   0  0  0  0  0  0\\n   -6.2007  -10.9027   53.6235 N   0  0  0  0  0  0\\n   -5.5458   -9.8729   53.0685 C   0  0  0  0  0  0\\n   -5.9472  -10.8489   49.8038 C   0  0  0  0  0  0\\n   -6.4208  -12.1496   49.4259 O   0  0  0  0  0  0\\n   -5.1567  -10.2098   48.6724 C   0  0  0  0  0  0\\n   -5.6672  -10.5682   47.3888 O   0  0  0  0  0  0\\n   -2.5894   -9.4203   47.1377 N   0  0  0  0  0  0\\n   -2.6347   -8.0598   46.6254 C   0  0  0  0  0  0\\n   -1.5056   -7.7718   45.6543 C   0  0  0  0  0  0\\n   -5.2419   -7.2384   56.3933 H   0  0  0  0  0  0\\n   -5.6857   -6.4119   54.9317 H   0  0  0  0  0  0\\n   -7.4968  -12.3577   54.7407 H   0  0  0  0  0  0\\n   -7.1305  -12.0031   48.7679 H   0  0  0  0  0  0\\n   -6.5643  -10.1906   47.3165 H   0  0  0  0  0  0\\n   -2.1020  -10.1191   46.5898 H   0  0  0  0  0  0\\n  1  2  2  0  0  0\\n  2  3  1  0  0  0\\n  3  4  1  0  0  0\\n  4  5  1  0  0  0\\n  5  6  1  0  0  0\\n  6  7  1  0  0  0\\n  7  8  2  0  0  0\\n  8  9  1  0  0  0\\n  9 10  2  0  0  0\\n 10 11  1  0  0  0\\n 10 12  1  0  0  0\\n 12 13  2  0  0  0\\n 13 14  1  0  0  0\\n 14 15  1  0  0  0\\n 15 16  1  0  0  0\\n 16 17  1  0  0  0\\n 17 18  1  0  0  0\\n 18 19  1  0  0  0\\n 19 20  1  0  0  0\\n 20 21  1  0  0  0\\n 21 22  2  0  0  0\\n 22 23  1  0  0  0\\n 23 24  2  0  0  0\\n 24 25  1  0  0  0\\n 24 26  1  0  0  0\\n 26 27  2  0  0  0\\n 20 28  1  0  0  0\\n 28 29  1  0  0  0\\n 13 30  1  0  0  0\\n 30 31  2  0  0  0\\n  5 32  1  0  0  0\\n 32 33  1  0  0  0\\n 32 34  1  0  0  0\\n 34 35  1  0  0  0\\n  2 36  1  0  0  0\\n 36 37  1  0  0  0\\n 37 38  1  0  0  0\\n 34  3  1  0  0  0\\n 31  6  1  0  0  0\\n 31  9  1  0  0  0\\n 29 17  1  0  0  0\\n 27 21  1  0  0  0\\n 11 39  1  0  0  0\\n 11 40  1  0  0  0\\n 14 41  1  0  0  0\\n 33 42  1  0  0  0\\n 35 43  1  0  0  0\\n 36 44  1  0  0  0\\nM  END\\n>  <CHROM.0>\\n68.36627539,-68.47726902,-64.36064702,-149.73282441,-56.96252838,68.47202007\\n37.96050520,174.67954365\\n\\n>  <CHROM.1>\\n-11.78226919,41.34007745,-113.20300256,38.05700452,-82.10250852,168.79728552\\n66.42682842,-166.15786736,175.54668549,-179.69152065,-48.22570871,133.79925476\\n-4.21099692,-9.74170160,49.64253779,2.25455803,0.78609846,1.19581199\\n\\n>  <EmbedRMS>\\n0.03855896916268701\\n\\n>  <Name>\\n\\n>  <RI>\\n2.21312e+07\\n\\n>  <Rbt.Current_Directory>\\n/home/rribeiro/Projects/pygomodo/tether_example\\n\\n>  <Rbt.Executable>\\nrbdock ($Id: //depot/dev/client3/rdock/2021.1/src/exe/rbdock.cxx#4 $)\\n\\n>  <Rbt.Library>\\nlibRbt.so (2021.1, Build901 2021/07/19)\\n\\n>  <Rbt.Parameter_File>\\n/usr/local/opt/rDock//data/scripts/dock.prm\\n\\n>  <Rbt.Receptor>\\ndocking.prm\\n\\n>  <SCORE>\\n-32.6845\\n\\n>  <SCORE.INTER>\\n-18.4901\\n\\n>  <SCORE.INTER.CONST>\\n1\\n\\n>  <SCORE.INTER.POLAR>\\n-3.51781\\n\\n>  <SCORE.INTER.REPUL>\\n0.0309501\\n\\n>  <SCORE.INTER.ROT>\\n10\\n\\n>  <SCORE.INTER.VDW>\\n-22.0843\\n\\n>  <SCORE.INTER.norm>\\n-0.486582\\n\\n>  <SCORE.INTRA>\\n-4.72866\\n\\n>  <SCORE.INTRA.DIHEDRAL>\\n-8.55047\\n\\n>  <SCORE.INTRA.DIHEDRAL.0>\\n17.4867\\n\\n>  <SCORE.INTRA.POLAR>\\n0.151957\\n\\n>  <SCORE.INTRA.POLAR.0>\\n-0.151957\\n\\n>  <SCORE.INTRA.REPUL>\\n0\\n\\n>  <SCORE.INTRA.REPUL.0>\\n0\\n\\n>  <SCORE.INTRA.VDW>\\n-0.97008\\n\\n>  <SCORE.INTRA.VDW.0>\\n0.149568\\n\\n>  <SCORE.INTRA.norm>\\n-0.124438\\n\\n>  <SCORE.RESTR>\\n0\\n\\n>  <SCORE.RESTR.CAVITY>\\n0\\n\\n>  <SCORE.RESTR.norm>\\n0\\n\\n>  <SCORE.SYSTEM>\\n-9.46575\\n\\n>  <SCORE.SYSTEM.CONST>\\n0\\n\\n>  <SCORE.SYSTEM.DIHEDRAL>\\n7.69043\\n\\n>  <SCORE.SYSTEM.POLAR>\\n-3.27613\\n\\n>  <SCORE.SYSTEM.REPUL>\\n0.0765558\\n\\n>  <SCORE.SYSTEM.VDW>\\n-2.55489\\n\\n>  <SCORE.SYSTEM.norm>\\n-0.249099\\n\\n>  <SCORE.heavy>\\n38\\n\\n>  <SCORE.norm>\\n-0.860119\\n\\n>  <TETHERED ATOMS>\\n32,34,35,3,4,5,6,7,8,9,31,2,36,37,38,1,33\\n\\n$$$$\\n\\n  rDOCK(R)          3D\\nlibRbt.so/2021.1/901 2021/07/19\\n 44 48  0  0  0  0  0  0  0  0999 V2000\\n   -2.1296   -8.4331   48.7961 O   0  0  0  0  0  0\\n   -2.4398   -9.0932   47.8063 C   0  0  0  0  0  0\\n   -3.1310  -10.4524   47.9484 C   0  0  0  0  0  0\\n   -2.7867  -11.0605   49.2063 O   0  0  0  0  0  0\\n   -3.9995  -11.4181   49.9143 C   0  0  0  0  0  0\\n   -4.1784  -10.5861   51.0996 N   0  0  0  0  0  0\\n   -3.8334   -9.2791   51.2985 C   0  0  0  0  0  0\\n   -4.1912   -8.8467   52.4939 N   0  0  0  0  0  0\\n   -4.7630   -9.9333   53.1098 C   0  0  0  0  0  0\\n   -5.3306  -10.1325   54.3734 C   0  0  0  0  0  0\\n   -5.3994   -9.1404   55.3438 N   0  0  0  0  0  0\\n   -5.8620  -11.3440   54.6540 N   0  0  0  0  0  0\\n   -5.8121  -12.3302   53.7357 C   0  0  0  0  0  0\\n   -6.3356  -13.5812   54.0367 N   0  0  0  0  0  0\\n   -6.7224  -13.8010   55.4256 C   0  0  0  0  0  0\\n   -7.8412  -12.8292   55.8674 C   0  0  0  0  0  0\\n   -8.5378  -13.2381   57.1074 N   0  0  0  0  0  0\\n   -7.6040  -13.3346   58.2538 C   0  0  0  0  0  0\\n   -8.2473  -13.0720   59.6370 C   0  0  0  0  0  0\\n   -8.8184  -11.7169   59.6891 N   0  0  0  0  0  0\\n   -9.0194  -11.0481   60.8845 C   0  0  0  0  0  0\\n   -9.5299   -9.7381   60.9292 C   0  0  0  0  0  0\\n   -9.7369   -9.0643   62.1389 C   0  0  0  0  0  0\\n   -9.4379   -9.6978   63.3334 C   0  0  0  0  0  0\\n   -9.6356   -9.0575   64.4928 F   0  0  0  0  0  0\\n   -8.9379  -10.9890   63.3379 C   0  0  0  0  0  0\\n   -8.7333  -11.6531   62.1228 C   0  0  0  0  0  0\\n   -9.3326  -11.1795   58.4164 C   0  0  0  0  0  0\\n   -9.6549  -12.3161   57.4174 C   0  0  0  0  0  0\\n   -5.2920  -12.2300   52.4996 N   0  0  0  0  0  0\\n   -4.7777  -11.0165   52.2543 C   0  0  0  0  0  0\\n   -5.1499  -11.2867   48.9193 C   0  0  0  0  0  0\\n   -5.3656  -12.5328   48.2415 O   0  0  0  0  0  0\\n   -4.6393  -10.2264   47.9559 C   0  0  0  0  0  0\\n   -5.1898  -10.3768   46.6478 O   0  0  0  0  0  0\\n   -2.1953   -8.6549   46.5240 N   0  0  0  0  0  0\\n   -1.5147   -7.3894   46.2993 C   0  0  0  0  0  0\\n   -1.8872   -6.7630   44.9689 C   0  0  0  0  0  0\\n   -6.3356   -8.9872   55.7015 H   0  0  0  0  0  0\\n   -4.6392   -9.1988   56.0078 H   0  0  0  0  0  0\\n   -7.0684  -13.7453   53.3550 H   0  0  0  0  0  0\\n   -4.5122  -12.7702   47.8248 H   0  0  0  0  0  0\\n   -5.0871  -11.3138   46.3948 H   0  0  0  0  0  0\\n   -2.1625   -9.3502   45.7880 H   0  0  0  0  0  0\\n  1  2  2  0  0  0\\n  2  3  1  0  0  0\\n  3  4  1  0  0  0\\n  4  5  1  0  0  0\\n  5  6  1  0  0  0\\n  6  7  1  0  0  0\\n  7  8  2  0  0  0\\n  8  9  1  0  0  0\\n  9 10  2  0  0  0\\n 10 11  1  0  0  0\\n 10 12  1  0  0  0\\n 12 13  2  0  0  0\\n 13 14  1  0  0  0\\n 14 15  1  0  0  0\\n 15 16  1  0  0  0\\n 16 17  1  0  0  0\\n 17 18  1  0  0  0\\n 18 19  1  0  0  0\\n 19 20  1  0  0  0\\n 20 21  1  0  0  0\\n 21 22  2  0  0  0\\n 22 23  1  0  0  0\\n 23 24  2  0  0  0\\n 24 25  1  0  0  0\\n 24 26  1  0  0  0\\n 26 27  2  0  0  0\\n 20 28  1  0  0  0\\n 28 29  1  0  0  0\\n 13 30  1  0  0  0\\n 30 31  2  0  0  0\\n  5 32  1  0  0  0\\n 32 33  1  0  0  0\\n 32 34  1  0  0  0\\n 34 35  1  0  0  0\\n  2 36  1  0  0  0\\n 36 37  1  0  0  0\\n 37 38  1  0  0  0\\n 34  3  1  0  0  0\\n 31  6  1  0  0  0\\n 31  9  1  0  0  0\\n 29 17  1  0  0  0\\n 27 21  1  0  0  0\\n 11 39  1  0  0  0\\n 11 40  1  0  0  0\\n 14 41  1  0  0  0\\n 33 42  1  0  0  0\\n 35 43  1  0  0  0\\n 36 44  1  0  0  0\\nM  END\\n>  <CHROM.0>\\n67.61013332,-70.15874102,-60.78193256,7.06063156,-54.93654167,-70.48911874\\n-1.28310103,175.61665276\\n\\n>  <CHROM.1>\\n-26.81597766,33.42366682,126.16019517,-9.39651540,61.74996566,163.55772202\\n59.87653197,178.14236433,-56.45008614,66.46024447,1.77983346,-153.18875766\\n-3.63756168,-9.83725498,48.92823457,2.23882279,0.94289100,1.43840168\\n\\n>  <EmbedRMS>\\n0.03855896916268701\\n\\n>  <Name>\\n\\n>  <RI>\\n2.21312e+07\\n\\n>  <Rbt.Current_Directory>\\n/home/rribeiro/Projects/pygomodo/tether_example\\n\\n>  <Rbt.Executable>\\nrbdock ($Id: //depot/dev/client3/rdock/2021.1/src/exe/rbdock.cxx#4 $)\\n\\n>  <Rbt.Library>\\nlibRbt.so (2021.1, Build901 2021/07/19)\\n\\n>  <Rbt.Parameter_File>\\n/usr/local/opt/rDock//data/scripts/dock.prm\\n\\n>  <Rbt.Receptor>\\ndocking.prm\\n\\n>  <SCORE>\\n-32.1633\\n\\n>  <SCORE.INTER>\\n-19.7228\\n\\n>  <SCORE.INTER.CONST>\\n1\\n\\n>  <SCORE.INTER.POLAR>\\n-1.66571\\n\\n>  <SCORE.INTER.REPUL>\\n0.15552\\n\\n>  <SCORE.INTER.ROT>\\n10\\n\\n>  <SCORE.INTER.VDW>\\n-30.237\\n\\n>  <SCORE.INTER.norm>\\n-0.519022\\n\\n>  <SCORE.INTRA>\\n-2.71108\\n\\n>  <SCORE.INTRA.DIHEDRAL>\\n-9.70944\\n\\n>  <SCORE.INTRA.DIHEDRAL.0>\\n17.4867\\n\\n>  <SCORE.INTRA.POLAR>\\n0.151957\\n\\n>  <SCORE.INTRA.POLAR.0>\\n-0.151957\\n\\n>  <SCORE.INTRA.REPUL>\\n0\\n\\n>  <SCORE.INTRA.REPUL.0>\\n0\\n\\n>  <SCORE.INTRA.VDW>\\n1.62699\\n\\n>  <SCORE.INTRA.VDW.0>\\n0.149568\\n\\n>  <SCORE.INTRA.norm>\\n-0.0713442\\n\\n>  <SCORE.RESTR>\\n0\\n\\n>  <SCORE.RESTR.CAVITY>\\n0\\n\\n>  <SCORE.RESTR.norm>\\n0\\n\\n>  <SCORE.SYSTEM>\\n-9.72942\\n\\n>  <SCORE.SYSTEM.CONST>\\n0\\n\\n>  <SCORE.SYSTEM.DIHEDRAL>\\n4.69939\\n\\n>  <SCORE.SYSTEM.POLAR>\\n-3.24376\\n\\n>  <SCORE.SYSTEM.VDW>\\n-1.05032\\n\\n>  <SCORE.SYSTEM.norm>\\n-0.256037\\n\\n>  <SCORE.heavy>\\n38\\n\\n>  <SCORE.norm>\\n-0.846404\\n\\n>  <TETHERED ATOMS>\\n32,34,35,3,4,5,6,7,8,9,31,2,36,37,38,1,33\\n\\n$$$$\\n\\n  rDOCK(R)          3D\\nlibRbt.so/2021.1/901 2021/07/19\\n 44 48  0  0  0  0  0  0  0  0999 V2000\\n   -3.8694   -8.2210   47.6301 O   0  0  0  0  0  0\\n   -3.1186   -9.1511   47.3419 C   0  0  0  0  0  0\\n   -3.4768  -10.5959   47.7019 C   0  0  0  0  0  0\\n   -2.8029  -10.9932   48.9096 O   0  0  0  0  0  0\\n   -3.7748  -11.5026   49.8560 C   0  0  0  0  0  0\\n   -3.9170  -10.6028   50.9960 N   0  0  0  0  0  0\\n   -3.3580   -9.3732   51.2018 C   0  0  0  0  0  0\\n   -3.7500   -8.8331   52.3413 N   0  0  0  0  0  0\\n   -4.5732   -9.7707   52.9158 C   0  0  0  0  0  0\\n   -5.2944   -9.8101   54.1145 C   0  0  0  0  0  0\\n   -5.2771   -8.7821   55.0492 N   0  0  0  0  0  0\\n   -6.0670  -10.8918   54.3629 N   0  0  0  0  0  0\\n   -6.1068  -11.9084   53.4778 C   0  0  0  0  0  0\\n   -6.8811  -13.0295   53.7483 N   0  0  0  0  0  0\\n   -6.2008  -14.1397   54.4054 C   0  0  0  0  0  0\\n   -6.8464  -14.4783   55.7692 C   0  0  0  0  0  0\\n   -6.5473  -13.4973   56.8361 N   0  0  0  0  0  0\\n   -7.2493  -12.2120   56.6109 C   0  0  0  0  0  0\\n   -7.5750  -11.4177   57.8989 C   0  0  0  0  0  0\\n   -8.4451  -12.2081   58.7839 N   0  0  0  0  0  0\\n   -9.2609  -11.6174   59.7337 C   0  0  0  0  0  0\\n   -9.9309  -12.3715   60.7141 C   0  0  0  0  0  0\\n  -10.7521  -11.7725   61.6769 C   0  0  0  0  0  0\\n  -10.9138  -10.3972   61.6766 C   0  0  0  0  0  0\\n  -11.6974   -9.8200   62.5965 F   0  0  0  0  0  0\\n  -10.2698   -9.6144   60.7334 C   0  0  0  0  0  0\\n   -9.4522  -10.2235   59.7743 C   0  0  0  0  0  0\\n   -8.2695  -13.6708   58.7299 C   0  0  0  0  0  0\\n   -6.8769  -14.0479   58.1711 C   0  0  0  0  0  0\\n   -5.4534  -11.9565   52.3035 N   0  0  0  0  0  0\\n   -4.7007  -10.8681   52.0882 C   0  0  0  0  0  0\\n   -5.0806  -11.6986   49.0898 C   0  0  0  0  0  0\\n   -5.1452  -13.0261   48.5491 O   0  0  0  0  0  0\\n   -4.9750  -10.6650   47.9791 C   0  0  0  0  0  0\\n   -5.6982  -11.0528   46.8115 O   0  0  0  0  0  0\\n   -1.9271   -8.9561   46.6796 N   0  0  0  0  0  0\\n   -1.5997   -7.6502   46.1294 C   0  0  0  0  0  0\\n   -1.7151   -7.6166   44.6172 C   0  0  0  0  0  0\\n   -4.5519   -8.8837   55.7504 H   0  0  0  0  0  0\\n   -5.4050   -7.8737   54.6241 H   0  0  0  0  0  0\\n   -7.7063  -12.6863   54.2280 H   0  0  0  0  0  0\\n   -5.1702  -13.6341   49.3158 H   0  0  0  0  0  0\\n   -6.6488  -10.9889   47.0233 H   0  0  0  0  0  0\\n   -1.1646   -9.5895   46.8879 H   0  0  0  0  0  0\\n  1  2  2  0  0  0\\n  2  3  1  0  0  0\\n  3  4  1  0  0  0\\n  4  5  1  0  0  0\\n  5  6  1  0  0  0\\n  6  7  1  0  0  0\\n  7  8  2  0  0  0\\n  8  9  1  0  0  0\\n  9 10  2  0  0  0\\n 10 11  1  0  0  0\\n 10 12  1  0  0  0\\n 12 13  2  0  0  0\\n 13 14  1  0  0  0\\n 14 15  1  0  0  0\\n 15 16  1  0  0  0\\n 16 17  1  0  0  0\\n 17 18  1  0  0  0\\n 18 19  1  0  0  0\\n 19 20  1  0  0  0\\n 20 21  1  0  0  0\\n 21 22  2  0  0  0\\n 22 23  1  0  0  0\\n 23 24  2  0  0  0\\n 24 25  1  0  0  0\\n 24 26  1  0  0  0\\n 26 27  2  0  0  0\\n 20 28  1  0  0  0\\n 28 29  1  0  0  0\\n 13 30  1  0  0  0\\n 30 31  2  0  0  0\\n  5 32  1  0  0  0\\n 32 33  1  0  0  0\\n 32 34  1  0  0  0\\n 34 35  1  0  0  0\\n  2 36  1  0  0  0\\n 36 37  1  0  0  0\\n 37 38  1  0  0  0\\n 34  3  1  0  0  0\\n 31  6  1  0  0  0\\n 31  9  1  0  0  0\\n 29 17  1  0  0  0\\n 27 21  1  0  0  0\\n 11 39  1  0  0  0\\n 11 40  1  0  0  0\\n 14 41  1  0  0  0\\n 33 42  1  0  0  0\\n 35 43  1  0  0  0\\n 36 44  1  0  0  0\\nM  END\\n>  <CHROM.0>\\n68.59062876,60.86790636,57.38632215,7.39380624,-58.01442749,62.41740463,-177.36235017\\n62.84242989\\n\\n>  <CHROM.1>\\n-98.48693966,5.53341138,-90.52702328,-93.28678744,120.08878144,-73.90022801\\n71.00866200,-169.87559275,64.41967373,-174.19827881,-8.61314476,-106.37938109\\n-3.72865030,-10.03716159,48.76926882,2.17111250,0.96617602,1.44225305\\n\\n>  <EmbedRMS>\\n0.03855896916268701\\n\\n>  <Name>\\n\\n>  <RI>\\n2.21312e+07\\n\\n>  <Rbt.Current_Directory>\\n/home/rribeiro/Projects/pygomodo/tether_example\\n\\n>  <Rbt.Executable>\\nrbdock ($Id: //depot/dev/client3/rdock/2021.1/src/exe/rbdock.cxx#4 $)\\n\\n>  <Rbt.Library>\\nlibRbt.so (2021.1, Build901 2021/07/19)\\n\\n>  <Rbt.Parameter_File>\\n/usr/local/opt/rDock//data/scripts/dock.prm\\n\\n>  <Rbt.Receptor>\\ndocking.prm\\n\\n>  <SCORE>\\n-30.4834\\n\\n>  <SCORE.INTER>\\n-24.1439\\n\\n>  <SCORE.INTER.CONST>\\n1\\n\\n>  <SCORE.INTER.POLAR>\\n-1.80441\\n\\n>  <SCORE.INTER.REPUL>\\n0\\n\\n>  <SCORE.INTER.ROT>\\n10\\n\\n>  <SCORE.INTER.VDW>\\n-33.409\\n\\n>  <SCORE.INTER.norm>\\n-0.635367\\n\\n>  <SCORE.INTRA>\\n-2.86937\\n\\n>  <SCORE.INTRA.DIHEDRAL>\\n-6.59218\\n\\n>  <SCORE.INTRA.DIHEDRAL.0>\\n17.4867\\n\\n>  <SCORE.INTRA.POLAR>\\n0.151957\\n\\n>  <SCORE.INTRA.POLAR.0>\\n-0.151957\\n\\n>  <SCORE.INTRA.REPUL>\\n0\\n\\n>  <SCORE.INTRA.REPUL.0>\\n0\\n\\n>  <SCORE.INTRA.VDW>\\n-0.0899336\\n\\n>  <SCORE.INTRA.VDW.0>\\n0.149568\\n\\n>  <SCORE.INTRA.norm>\\n-0.0755098\\n\\n>  <SCORE.RESTR>\\n0\\n\\n>  <SCORE.RESTR.CAVITY>\\n0\\n\\n>  <SCORE.RESTR.norm>\\n0\\n\\n>  <SCORE.SYSTEM>\\n-3.47008\\n\\n>  <SCORE.SYSTEM.CONST>\\n0\\n\\n>  <SCORE.SYSTEM.DIHEDRAL>\\n4.01002\\n\\n>  <SCORE.SYSTEM.POLAR>\\n-1.55326\\n\\n>  <SCORE.SYSTEM.REPUL>\\n0.0471192\\n\\n>  <SCORE.SYSTEM.VDW>\\n-0.429613\\n\\n>  <SCORE.SYSTEM.norm>\\n-0.0913179\\n\\n>  <SCORE.heavy>\\n38\\n\\n>  <SCORE.norm>\\n-0.802195\\n\\n>  <TETHERED ATOMS>\\n32,34,35,3,4,5,6,7,8,9,31,2,36,37,38,1,33\\n\\n$$$$\\n\\n  rDOCK(R)          3D\\nlibRbt.so/2021.1/901 2021/07/19\\n 44 48  0  0  0  0  0  0  0  0999 V2000\\n   -1.8287  -11.2078   47.2846 O   0  0  0  0  0  0\\n   -2.8752  -10.7653   47.7547 C   0  0  0  0  0  0\\n   -3.8885  -11.6902   48.4352 C   0  0  0  0  0  0\\n   -3.5030  -11.9386   49.7991 O   0  0  0  0  0  0\\n   -4.6112  -11.6194   50.6766 C   0  0  0  0  0  0\\n   -4.3164  -10.4409   51.4849 N   0  0  0  0  0  0\\n   -3.5008   -9.3815   51.2035 C   0  0  0  0  0  0\\n   -3.5134   -8.4752   52.1638 N   0  0  0  0  0  0\\n   -4.3485   -8.9874   53.1267 C   0  0  0  0  0  0\\n   -4.7728   -8.5221   54.3764 C   0  0  0  0  0  0\\n   -4.3478   -7.3192   54.9270 N   0  0  0  0  0  0\\n   -5.6612   -9.2686   55.0710 N   0  0  0  0  0  0\\n   -6.0943  -10.4419   54.5669 C   0  0  0  0  0  0\\n   -6.9868  -11.2187   55.2947 N   0  0  0  0  0  0\\n   -6.8486  -11.1708   56.7458 C   0  0  0  0  0  0\\n   -7.4649   -9.8811   57.3358 C   0  0  0  0  0  0\\n   -7.2724   -9.7361   58.7959 N   0  0  0  0  0  0\\n   -7.1287   -8.3153   59.1912 C   0  0  0  0  0  0\\n   -7.6011   -7.9922   60.6293 C   0  0  0  0  0  0\\n   -9.0275   -8.3172   60.7869 N   0  0  0  0  0  0\\n   -9.8162   -7.7198   61.7553 C   0  0  0  0  0  0\\n   -9.3381   -6.6737   62.5652 C   0  0  0  0  0  0\\n  -10.1381   -6.0673   63.5412 C   0  0  0  0  0  0\\n  -11.4416   -6.4988   63.7207 C   0  0  0  0  0  0\\n  -12.2107   -5.9207   64.6522 F   0  0  0  0  0  0\\n  -11.9562   -7.5223   62.9429 C   0  0  0  0  0  0\\n  -11.1475   -8.1227   61.9710 C   0  0  0  0  0  0\\n   -9.5302   -9.4430   59.9788 C   0  0  0  0  0  0\\n   -8.3778  -10.3791   59.5435 C   0  0  0  0  0  0\\n   -5.7459  -10.9652   53.3781 N   0  0  0  0  0  0\\n   -4.8678  -10.1986   52.7157 C   0  0  0  0  0  0\\n   -5.8412  -11.4373   49.7908 C   0  0  0  0  0  0\\n   -6.5300  -12.6862   49.6340 O   0  0  0  0  0  0\\n   -5.2382  -10.9811   48.4711 C   0  0  0  0  0  0\\n   -6.0451  -11.3509   47.3536 O   0  0  0  0  0  0\\n   -3.1951   -9.4268   47.7061 N   0  0  0  0  0  0\\n   -2.1485   -8.4199   47.7836 C   0  0  0  0  0  0\\n   -1.7001   -7.9480   46.4134 C   0  0  0  0  0  0\\n   -3.3710   -7.1142   54.7487 H   0  0  0  0  0  0\\n   -5.0219   -6.5771   54.7964 H   0  0  0  0  0  0\\n   -7.9085  -10.9839   54.9425 H   0  0  0  0  0  0\\n   -7.3194  -12.4978   49.0867 H   0  0  0  0  0  0\\n   -5.5472  -11.1211   46.5463 H   0  0  0  0  0  0\\n   -4.0722   -9.1689   47.2701 H   0  0  0  0  0  0\\n  1  2  2  0  0  0\\n  2  3  1  0  0  0\\n  3  4  1  0  0  0\\n  4  5  1  0  0  0\\n  5  6  1  0  0  0\\n  6  7  1  0  0  0\\n  7  8  2  0  0  0\\n  8  9  1  0  0  0\\n  9 10  2  0  0  0\\n 10 11  1  0  0  0\\n 10 12  1  0  0  0\\n 12 13  2  0  0  0\\n 13 14  1  0  0  0\\n 14 15  1  0  0  0\\n 15 16  1  0  0  0\\n 16 17  1  0  0  0\\n 17 18  1  0  0  0\\n 18 19  1  0  0  0\\n 19 20  1  0  0  0\\n 20 21  1  0  0  0\\n 21 22  2  0  0  0\\n 22 23  1  0  0  0\\n 23 24  2  0  0  0\\n 24 25  1  0  0  0\\n 24 26  1  0  0  0\\n 26 27  2  0  0  0\\n 20 28  1  0  0  0\\n 28 29  1  0  0  0\\n 13 30  1  0  0  0\\n 30 31  2  0  0  0\\n  5 32  1  0  0  0\\n 32 33  1  0  0  0\\n 32 34  1  0  0  0\\n 34 35  1  0  0  0\\n  2 36  1  0  0  0\\n 36 37  1  0  0  0\\n 37 38  1  0  0  0\\n 34  3  1  0  0  0\\n 31  6  1  0  0  0\\n 31  9  1  0  0  0\\n 29 17  1  0  0  0\\n 27 21  1  0  0  0\\n 11 39  1  0  0  0\\n 11 40  1  0  0  0\\n 14 41  1  0  0  0\\n 33 42  1  0  0  0\\n 35 43  1  0  0  0\\n 36 44  1  0  0  0\\nM  END\\n>  <CHROM.0>\\n66.89208115,-71.57751142,170.98563224,-162.67935620,-165.23501558,63.47202398\\n-176.39600448,65.95925700\\n\\n>  <CHROM.1>\\n82.32285889,28.11604303,-38.25357381,-33.27816689,77.97434709,-176.09810161\\n147.07818217,6.18817505,178.06552524,-58.17441084,-33.06628730,95.32635062\\n-3.98939738,-10.44301998,49.42333900,2.24846154,0.78527171,1.22736215\\n\\n>  <EmbedRMS>\\n0.03855896916268701\\n\\n>  <Name>\\n\\n>  <RI>\\n2.21312e+07\\n\\n>  <Rbt.Current_Directory>\\n/home/rribeiro/Projects/pygomodo/tether_example\\n\\n>  <Rbt.Executable>\\nrbdock ($Id: //depot/dev/client3/rdock/2021.1/src/exe/rbdock.cxx#4 $)\\n\\n>  <Rbt.Library>\\nlibRbt.so (2021.1, Build901 2021/07/19)\\n\\n>  <Rbt.Parameter_File>\\n/usr/local/opt/rDock//data/scripts/dock.prm\\n\\n>  <Rbt.Receptor>\\ndocking.prm\\n\\n>  <SCORE>\\n-29.9754\\n\\n>  <SCORE.INTER>\\n-19.6533\\n\\n>  <SCORE.INTER.CONST>\\n1\\n\\n>  <SCORE.INTER.POLAR>\\n-1.5833\\n\\n>  <SCORE.INTER.REPUL>\\n0\\n\\n>  <SCORE.INTER.ROT>\\n10\\n\\n>  <SCORE.INTER.VDW>\\n-29.6701\\n\\n>  <SCORE.INTER.norm>\\n-0.517193\\n\\n>  <SCORE.INTRA>\\n-4.26894\\n\\n>  <SCORE.INTRA.DIHEDRAL>\\n-8.69877\\n\\n>  <SCORE.INTRA.DIHEDRAL.0>\\n17.4867\\n\\n>  <SCORE.INTRA.POLAR>\\n0.151957\\n\\n>  <SCORE.INTRA.POLAR.0>\\n-0.151957\\n\\n>  <SCORE.INTRA.REPUL>\\n0\\n\\n>  <SCORE.INTRA.REPUL.0>\\n0\\n\\n>  <SCORE.INTRA.VDW>\\n-0.436212\\n\\n>  <SCORE.INTRA.VDW.0>\\n0.149568\\n\\n>  <SCORE.INTRA.norm>\\n-0.112341\\n\\n>  <SCORE.RESTR>\\n0\\n\\n>  <SCORE.RESTR.CAVITY>\\n0\\n\\n>  <SCORE.RESTR.norm>\\n0\\n\\n>  <SCORE.SYSTEM>\\n-6.05309\\n\\n>  <SCORE.SYSTEM.CONST>\\n0\\n\\n>  <SCORE.SYSTEM.DIHEDRAL>\\n2.26075\\n\\n>  <SCORE.SYSTEM.POLAR>\\n-2.30234\\n\\n>  <SCORE.SYSTEM.REPUL>\\n0.428102\\n\\n>  <SCORE.SYSTEM.VDW>\\n-1.49602\\n\\n>  <SCORE.SYSTEM.norm>\\n-0.159292\\n\\n>  <SCORE.heavy>\\n38\\n\\n>  <SCORE.norm>\\n-0.788825\\n\\n>  <TETHERED ATOMS>\\n32,34,35,3,4,5,6,7,8,9,31,2,36,37,38,1,33\\n\\n$$$$\\n\\n  rDOCK(R)          3D\\nlibRbt.so/2021.1/901 2021/07/19\\n 44 48  0  0  0  0  0  0  0  0999 V2000\\n   -5.2136   -9.3446   47.2469 O   0  0  0  0  0  0\\n   -4.1432   -9.2352   47.8419 C   0  0  0  0  0  0\\n   -3.5800  -10.3914   48.6734 C   0  0  0  0  0  0\\n   -2.8426   -9.8853   49.8007 O   0  0  0  0  0  0\\n   -3.3491  -10.4903   51.0162 C   0  0  0  0  0  0\\n   -4.0379   -9.5052   51.8436 N   0  0  0  0  0  0\\n   -4.0535   -8.1434   51.7341 C   0  0  0  0  0  0\\n   -4.8263   -7.5800   52.6446 N   0  0  0  0  0  0\\n   -5.3058   -8.6225   53.3999 C   0  0  0  0  0  0\\n   -6.1591   -8.6936   54.5068 C   0  0  0  0  0  0\\n   -6.7169   -7.5747   55.1131 N   0  0  0  0  0  0\\n   -6.4769   -9.9144   54.9942 N   0  0  0  0  0  0\\n   -5.9529  -11.0217   54.4306 C   0  0  0  0  0  0\\n   -6.2609  -12.2727   54.9500 N   0  0  0  0  0  0\\n   -7.5528  -12.3941   55.6159 C   0  0  0  0  0  0\\n   -7.5045  -13.4186   56.7733 C   0  0  0  0  0  0\\n   -8.7182  -13.4269   57.6199 N   0  0  0  0  0  0\\n   -8.6571  -14.4857   58.6547 C   0  0  0  0  0  0\\n   -9.4523  -14.1758   59.9461 C   0  0  0  0  0  0\\n   -8.9405  -12.9524   60.5836 N   0  0  0  0  0  0\\n   -9.1117  -12.6988   61.9338 C   0  0  0  0  0  0\\n   -9.5327  -13.6960   62.8321 C   0  0  0  0  0  0\\n   -9.7011  -13.4396   64.1982 C   0  0  0  0  0  0\\n   -9.4445  -12.1714   64.6918 C   0  0  0  0  0  0\\n   -9.6030  -11.9221   65.9980 F   0  0  0  0  0  0\\n   -9.0233  -11.1600   63.8452 C   0  0  0  0  0  0\\n   -8.8595  -11.4267   62.4808 C   0  0  0  0  0  0\\n   -8.3941  -11.9271   59.6762 C   0  0  0  0  0  0\\n   -8.9421  -12.1003   58.2397 C   0  0  0  0  0  0\\n   -5.1308  -11.0506   53.3668 N   0  0  0  0  0  0\\n   -4.8397   -9.8250   52.9078 C   0  0  0  0  0  0\\n   -4.2537  -11.6453   50.5940 C   0  0  0  0  0  0\\n   -3.4954  -12.8592   50.4928 O   0  0  0  0  0  0\\n   -4.7491  -11.1997   49.2267 C   0  0  0  0  0  0\\n   -5.0588  -12.3053   48.3791 O   0  0  0  0  0  0\\n   -3.3892   -8.0839   47.7934 N   0  0  0  0  0  0\\n   -2.3147   -7.9519   46.8222 C   0  0  0  0  0  0\\n   -0.9434   -8.0246   47.4666 C   0  0  0  0  0  0\\n   -7.1455   -7.7712   56.0107 H   0  0  0  0  0  0\\n   -6.1233   -6.7599   55.0366 H   0  0  0  0  0  0\\n   -6.1022  -12.9318   54.1957 H   0  0  0  0  0  0\\n   -3.1298  -13.0299   51.3847 H   0  0  0  0  0  0\\n   -5.1826  -11.9546   47.4768 H   0  0  0  0  0  0\\n   -3.8010   -7.2366   48.1657 H   0  0  0  0  0  0\\n  1  2  2  0  0  0\\n  2  3  1  0  0  0\\n  3  4  1  0  0  0\\n  4  5  1  0  0  0\\n  5  6  1  0  0  0\\n  6  7  1  0  0  0\\n  7  8  2  0  0  0\\n  8  9  1  0  0  0\\n  9 10  2  0  0  0\\n 10 11  1  0  0  0\\n 10 12  1  0  0  0\\n 12 13  2  0  0  0\\n 13 14  1  0  0  0\\n 14 15  1  0  0  0\\n 15 16  1  0  0  0\\n 16 17  1  0  0  0\\n 17 18  1  0  0  0\\n 18 19  1  0  0  0\\n 19 20  1  0  0  0\\n 20 21  1  0  0  0\\n 21 22  2  0  0  0\\n 22 23  1  0  0  0\\n 23 24  2  0  0  0\\n 24 25  1  0  0  0\\n 24 26  1  0  0  0\\n 26 27  2  0  0  0\\n 20 28  1  0  0  0\\n 28 29  1  0  0  0\\n 13 30  1  0  0  0\\n 30 31  2  0  0  0\\n  5 32  1  0  0  0\\n 32 33  1  0  0  0\\n 32 34  1  0  0  0\\n 34 35  1  0  0  0\\n  2 36  1  0  0  0\\n 36 37  1  0  0  0\\n 37 38  1  0  0  0\\n 34  3  1  0  0  0\\n 31  6  1  0  0  0\\n 31  9  1  0  0  0\\n 29 17  1  0  0  0\\n 27 21  1  0  0  0\\n 11 39  1  0  0  0\\n 11 40  1  0  0  0\\n 14 41  1  0  0  0\\n 33 42  1  0  0  0\\n 35 43  1  0  0  0\\n 36 44  1  0  0  0\\nM  END\\n>  <CHROM.0>\\n-37.36679252,-71.46323538,-59.02286233,-167.65484215,-173.26970364,58.84417307\\n-17.71905629,175.01329550\\n\\n>  <CHROM.1>\\n-147.44525143,-12.23491552,-167.62549069,28.12977813,-147.92220767,170.75311587\\n176.19288018,13.35191424,60.85552769,-52.93824283,-94.63490699,-108.12229989\\n-3.87730787,-9.74907864,49.78852749,2.52722338,1.19672244,0.76155698\\n\\n>  <EmbedRMS>\\n0.03855896916268701\\n\\n>  <Name>\\n\\n>  <RI>\\n2.21312e+07\\n\\n>  <Rbt.Current_Directory>\\n/home/rribeiro/Projects/pygomodo/tether_example\\n\\n>  <Rbt.Executable>\\nrbdock ($Id: //depot/dev/client3/rdock/2021.1/src/exe/rbdock.cxx#4 $)\\n\\n>  <Rbt.Library>\\nlibRbt.so (2021.1, Build901 2021/07/19)\\n\\n>  <Rbt.Parameter_File>\\n/usr/local/opt/rDock//data/scripts/dock.prm\\n\\n>  <Rbt.Receptor>\\ndocking.prm\\n\\n>  <SCORE>\\n-28.9576\\n\\n>  <SCORE.INTER>\\n-20.4432\\n\\n>  <SCORE.INTER.CONST>\\n1\\n\\n>  <SCORE.INTER.POLAR>\\n-2.3097\\n\\n>  <SCORE.INTER.REPUL>\\n0\\n\\n>  <SCORE.INTER.ROT>\\n10\\n\\n>  <SCORE.INTER.VDW>\\n-27.9902\\n\\n>  <SCORE.INTER.norm>\\n-0.537979\\n\\n>  <SCORE.INTRA>\\n-3.6083\\n\\n>  <SCORE.INTRA.DIHEDRAL>\\n-7.84752\\n\\n>  <SCORE.INTRA.DIHEDRAL.0>\\n17.4867\\n\\n>  <SCORE.INTRA.POLAR>\\n0.151957\\n\\n>  <SCORE.INTRA.POLAR.0>\\n-0.151957\\n\\n>  <SCORE.INTRA.REPUL>\\n0\\n\\n>  <SCORE.INTRA.REPUL.0>\\n0\\n\\n>  <SCORE.INTRA.VDW>\\n-0.201197\\n\\n>  <SCORE.INTRA.VDW.0>\\n0.149568\\n\\n>  <SCORE.INTRA.norm>\\n-0.0949554\\n\\n>  <SCORE.RESTR>\\n0\\n\\n>  <SCORE.RESTR.CAVITY>\\n0\\n\\n>  <SCORE.RESTR.norm>\\n0\\n\\n>  <SCORE.SYSTEM>\\n-4.90606\\n\\n>  <SCORE.SYSTEM.CONST>\\n0\\n\\n>  <SCORE.SYSTEM.DIHEDRAL>\\n3.73797\\n\\n>  <SCORE.SYSTEM.POLAR>\\n-2.12668\\n\\n>  <SCORE.SYSTEM.REPUL>\\n0.197154\\n\\n>  <SCORE.SYSTEM.VDW>\\n-0.530103\\n\\n>  <SCORE.SYSTEM.norm>\\n-0.129107\\n\\n>  <SCORE.heavy>\\n38\\n\\n>  <SCORE.norm>\\n-0.762042\\n\\n>  <TETHERED ATOMS>\\n32,34,35,3,4,5,6,7,8,9,31,2,36,37,38,1,33\\n\\n$$$$\\n\\n  rDOCK(R)          3D\\nlibRbt.so/2021.1/901 2021/07/19\\n 44 48  0  0  0  0  0  0  0  0999 V2000\\n   -3.9687   -7.7480   47.8380 O   0  0  0  0  0  0\\n   -3.4187   -8.7849   47.4717 C   0  0  0  0  0  0\\n   -3.8661  -10.1480   48.0076 C   0  0  0  0  0  0\\n   -3.2457  -10.4150   49.2782 O   0  0  0  0  0  0\\n   -4.2679  -10.7421   50.2520 C   0  0  0  0  0  0\\n   -4.3878   -9.6919   51.2580 N   0  0  0  0  0  0\\n   -4.0704   -8.3662   51.1658 C   0  0  0  0  0  0\\n   -4.3554   -7.7083   52.2748 N   0  0  0  0  0  0\\n   -4.8476   -8.6582   53.1365 C   0  0  0  0  0  0\\n   -5.3172   -8.6088   54.4539 C   0  0  0  0  0  0\\n   -5.3475   -7.4432   55.2097 N   0  0  0  0  0  0\\n   -5.7892   -9.7477   55.0097 N   0  0  0  0  0  0\\n   -5.7741  -10.8973   54.3051 C   0  0  0  0  0  0\\n   -6.2355  -12.0707   54.8881 N   0  0  0  0  0  0\\n   -6.8092  -11.9450   56.2231 C   0  0  0  0  0  0\\n   -8.3124  -11.5861   56.1671 C   0  0  0  0  0  0\\n   -8.7377  -10.6154   57.1999 N   0  0  0  0  0  0\\n   -8.2796  -11.0168   58.5507 C   0  0  0  0  0  0\\n   -8.0491   -9.8421   59.5320 C   0  0  0  0  0  0\\n   -7.0217   -8.9286   59.0077 N   0  0  0  0  0  0\\n   -6.2863   -8.0957   59.8336 C   0  0  0  0  0  0\\n   -6.3741   -8.1692   61.2357 C   0  0  0  0  0  0\\n   -5.6264   -7.3295   62.0700 C   0  0  0  0  0  0\\n   -4.7684   -6.3980   61.5098 C   0  0  0  0  0  0\\n   -4.0505   -5.5938   62.3042 F   0  0  0  0  0  0\\n   -4.6460   -6.2935   60.1346 C   0  0  0  0  0  0\\n   -5.3992   -7.1368   59.3095 C   0  0  0  0  0  0\\n   -6.9415   -8.8152   57.5401 C   0  0  0  0  0  0\\n   -8.2669   -9.2500   56.8710 C   0  0  0  0  0  0\\n   -5.3469  -11.0390   53.0379 N   0  0  0  0  0  0\\n   -4.8895   -9.8913   52.5174 C   0  0  0  0  0  0\\n   -5.5632  -10.9702   49.4768 C   0  0  0  0  0  0\\n   -5.6885  -12.3528   49.1143 O   0  0  0  0  0  0\\n   -5.3722  -10.1012   48.2433 C   0  0  0  0  0  0\\n   -6.0868  -10.6032   47.1145 O   0  0  0  0  0  0\\n   -2.3840   -8.7870   46.5631 N   0  0  0  0  0  0\\n   -1.3627   -7.7528   46.6131 C   0  0  0  0  0  0\\n   -0.3982   -7.9508   47.7672 C   0  0  0  0  0  0\\n   -4.7416   -7.4708   56.0221 H   0  0  0  0  0  0\\n   -5.3358   -6.6117   54.6346 H   0  0  0  0  0  0\\n   -6.8413  -12.5022   54.1985 H   0  0  0  0  0  0\\n   -4.8828  -12.5777   48.6060 H   0  0  0  0  0  0\\n   -5.7534  -11.5028   46.9356 H   0  0  0  0  0  0\\n   -2.1485   -9.6676   46.1213 H   0  0  0  0  0  0\\n  1  2  2  0  0  0\\n  2  3  1  0  0  0\\n  3  4  1  0  0  0\\n  4  5  1  0  0  0\\n  5  6  1  0  0  0\\n  6  7  1  0  0  0\\n  7  8  2  0  0  0\\n  8  9  1  0  0  0\\n  9 10  2  0  0  0\\n 10 11  1  0  0  0\\n 10 12  1  0  0  0\\n 12 13  2  0  0  0\\n 13 14  1  0  0  0\\n 14 15  1  0  0  0\\n 15 16  1  0  0  0\\n 16 17  1  0  0  0\\n 17 18  1  0  0  0\\n 18 19  1  0  0  0\\n 19 20  1  0  0  0\\n 20 21  1  0  0  0\\n 21 22  2  0  0  0\\n 22 23  1  0  0  0\\n 23 24  2  0  0  0\\n 24 25  1  0  0  0\\n 24 26  1  0  0  0\\n 26 27  2  0  0  0\\n 20 28  1  0  0  0\\n 28 29  1  0  0  0\\n 13 30  1  0  0  0\\n 30 31  2  0  0  0\\n  5 32  1  0  0  0\\n 32 33  1  0  0  0\\n 32 34  1  0  0  0\\n 34 35  1  0  0  0\\n  2 36  1  0  0  0\\n 36 37  1  0  0  0\\n 37 38  1  0  0  0\\n 34  3  1  0  0  0\\n 31  6  1  0  0  0\\n 31  9  1  0  0  0\\n 29 17  1  0  0  0\\n 27 21  1  0  0  0\\n 11 39  1  0  0  0\\n 11 40  1  0  0  0\\n 14 41  1  0  0  0\\n 33 42  1  0  0  0\\n 35 43  1  0  0  0\\n 36 44  1  0  0  0\\nM  END\\n>  <CHROM.0>\\n61.31842549,56.87013401,168.98447662,27.04777663,-54.98896920,63.37565175\\n31.26958683,63.71293798\\n\\n>  <CHROM.1>\\n-83.33269099,24.98634076,-115.78875324,4.49808597,86.45490860,-140.83639353\\n-49.92571724,6.79661848,-56.44704330,55.68317414,39.33803881,74.35549247\\n-3.99671482,-9.46835924,49.21326740,2.32751405,0.75257301,1.27681796\\n\\n>  <EmbedRMS>\\n0.03855896916268701\\n\\n>  <Name>\\n\\n>  <RI>\\n2.21312e+07\\n\\n>  <Rbt.Current_Directory>\\n/home/rribeiro/Projects/pygomodo/tether_example\\n\\n>  <Rbt.Executable>\\nrbdock ($Id: //depot/dev/client3/rdock/2021.1/src/exe/rbdock.cxx#4 $)\\n\\n>  <Rbt.Library>\\nlibRbt.so (2021.1, Build901 2021/07/19)\\n\\n>  <Rbt.Parameter_File>\\n/usr/local/opt/rDock//data/scripts/dock.prm\\n\\n>  <Rbt.Receptor>\\ndocking.prm\\n\\n>  <SCORE>\\n-26.9372\\n\\n>  <SCORE.INTER>\\n-23.4953\\n\\n>  <SCORE.INTER.CONST>\\n1\\n\\n>  <SCORE.INTER.POLAR>\\n-3.78821\\n\\n>  <SCORE.INTER.REPUL>\\n0\\n\\n>  <SCORE.INTER.ROT>\\n10\\n\\n>  <SCORE.INTER.VDW>\\n-26.0154\\n\\n>  <SCORE.INTER.norm>\\n-0.618297\\n\\n>  <SCORE.INTRA>\\n-1.36674\\n\\n>  <SCORE.INTRA.DIHEDRAL>\\n-5.69265\\n\\n>  <SCORE.INTRA.DIHEDRAL.0>\\n17.4867\\n\\n>  <SCORE.INTRA.POLAR>\\n0.151957\\n\\n>  <SCORE.INTRA.POLAR.0>\\n-0.151957\\n\\n>  <SCORE.INTRA.REPUL>\\n0\\n\\n>  <SCORE.INTRA.REPUL.0>\\n0\\n\\n>  <SCORE.INTRA.VDW>\\n0.962937\\n\\n>  <SCORE.INTRA.VDW.0>\\n0.149568\\n\\n>  <SCORE.INTRA.norm>\\n-0.0359668\\n\\n>  <SCORE.RESTR>\\n0\\n\\n>  <SCORE.RESTR.CAVITY>\\n0\\n\\n>  <SCORE.RESTR.norm>\\n0\\n\\n>  <SCORE.SYSTEM>\\n-2.07521\\n\\n>  <SCORE.SYSTEM.CONST>\\n0\\n\\n>  <SCORE.SYSTEM.DIHEDRAL>\\n6.28015\\n\\n>  <SCORE.SYSTEM.POLAR>\\n-1.49804\\n\\n>  <SCORE.SYSTEM.REPUL>\\n0.414126\\n\\n>  <SCORE.SYSTEM.VDW>\\n-2.19259\\n\\n>  <SCORE.SYSTEM.norm>\\n-0.0546108\\n\\n>  <SCORE.heavy>\\n38\\n\\n>  <SCORE.norm>\\n-0.708874\\n\\n>  <TETHERED ATOMS>\\n32,34,35,3,4,5,6,7,8,9,31,2,36,37,38,1,33\\n\\n$$$$\\n\\n  rDOCK(R)          3D\\nlibRbt.so/2021.1/901 2021/07/19\\n 44 48  0  0  0  0  0  0  0  0999 V2000\\n   -2.5756   -8.6739   49.1885 O   0  0  0  0  0  0\\n   -2.7417   -9.7553   48.6275 C   0  0  0  0  0  0\\n   -3.1737  -10.9955   49.4153 C   0  0  0  0  0  0\\n   -2.8947  -10.8216   50.8162 O   0  0  0  0  0  0\\n   -4.1021  -11.0649   51.5798 C   0  0  0  0  0  0\\n   -4.5965   -9.8323   52.1844 N   0  0  0  0  0  0\\n   -4.3131   -8.5358   51.8595 C   0  0  0  0  0  0\\n   -4.9841   -7.6779   52.6062 N   0  0  0  0  0  0\\n   -5.7090   -8.4541   53.4774 C   0  0  0  0  0  0\\n   -6.6038   -8.1573   54.5117 C   0  0  0  0  0  0\\n   -6.9322   -6.8606   54.8876 N   0  0  0  0  0  0\\n   -7.1980   -9.1846   55.1601 N   0  0  0  0  0  0\\n   -6.9020  -10.4559   54.8217 C   0  0  0  0  0  0\\n   -7.4945  -11.5088   55.5073 N   0  0  0  0  0  0\\n   -8.8709  -11.3013   55.9427 C   0  0  0  0  0  0\\n   -9.0757  -11.7330   57.4134 C   0  0  0  0  0  0\\n   -8.2026  -11.0242   58.3752 N   0  0  0  0  0  0\\n   -8.2851   -9.5540   58.2094 C   0  0  0  0  0  0\\n   -8.0095   -8.7406   59.4972 C   0  0  0  0  0  0\\n   -8.9842   -9.0884   60.5431 N   0  0  0  0  0  0\\n   -9.2857   -8.2272   61.5844 C   0  0  0  0  0  0\\n   -8.8107   -6.9036   61.6184 C   0  0  0  0  0  0\\n   -9.1200   -6.0322   62.6697 C   0  0  0  0  0  0\\n   -9.9199   -6.4740   63.7103 C   0  0  0  0  0  0\\n  -10.2192   -5.6434   64.7172 F   0  0  0  0  0  0\\n  -10.4139   -7.7674   63.7163 C   0  0  0  0  0  0\\n  -10.0975   -8.6310   62.6610 C   0  0  0  0  0  0\\n   -9.4895  -10.4731   60.5254 C   0  0  0  0  0  0\\n   -8.5216  -11.4133   59.7684 C   0  0  0  0  0  0\\n   -6.0610  -10.8352   53.8433 N   0  0  0  0  0  0\\n   -5.4929   -9.7930   53.2201 C   0  0  0  0  0  0\\n   -5.1097  -11.7025   50.6265 C   0  0  0  0  0  0\\n   -4.9892  -13.1319   50.6592 O   0  0  0  0  0  0\\n   -4.6841  -11.1531   49.2736 C   0  0  0  0  0  0\\n   -5.0121  -12.0398   48.2045 O   0  0  0  0  0  0\\n   -2.5593   -9.9163   47.2722 N   0  0  0  0  0  0\\n   -2.7056   -8.7824   46.3732 C   0  0  0  0  0  0\\n   -1.4670   -7.9071   46.3435 C   0  0  0  0  0  0\\n   -7.6401   -6.8154   55.6120 H   0  0  0  0  0  0\\n   -6.1175   -6.2690   54.9799 H   0  0  0  0  0  0\\n   -7.3442  -12.3315   54.9335 H   0  0  0  0  0  0\\n   -5.6640  -13.4788   50.0408 H   0  0  0  0  0  0\\n   -4.5993  -12.9014   48.4039 H   0  0  0  0  0  0\\n   -1.9942  -10.6983   46.9637 H   0  0  0  0  0  0\\n  1  2  2  0  0  0\\n  2  3  1  0  0  0\\n  3  4  1  0  0  0\\n  4  5  1  0  0  0\\n  5  6  1  0  0  0\\n  6  7  1  0  0  0\\n  7  8  2  0  0  0\\n  8  9  1  0  0  0\\n  9 10  2  0  0  0\\n 10 11  1  0  0  0\\n 10 12  1  0  0  0\\n 12 13  2  0  0  0\\n 13 14  1  0  0  0\\n 14 15  1  0  0  0\\n 15 16  1  0  0  0\\n 16 17  1  0  0  0\\n 17 18  1  0  0  0\\n 18 19  1  0  0  0\\n 19 20  1  0  0  0\\n 20 21  1  0  0  0\\n 21 22  2  0  0  0\\n 22 23  1  0  0  0\\n 23 24  2  0  0  0\\n 24 25  1  0  0  0\\n 24 26  1  0  0  0\\n 26 27  2  0  0  0\\n 20 28  1  0  0  0\\n 28 29  1  0  0  0\\n 13 30  1  0  0  0\\n 30 31  2  0  0  0\\n  5 32  1  0  0  0\\n 32 33  1  0  0  0\\n 32 34  1  0  0  0\\n 34 35  1  0  0  0\\n  2 36  1  0  0  0\\n 36 37  1  0  0  0\\n 37 38  1  0  0  0\\n 34  3  1  0  0  0\\n 31  6  1  0  0  0\\n 31  9  1  0  0  0\\n 29 17  1  0  0  0\\n 27 21  1  0  0  0\\n 11 39  1  0  0  0\\n 11 40  1  0  0  0\\n 14 41  1  0  0  0\\n 33 42  1  0  0  0\\n 35 43  1  0  0  0\\n 36 44  1  0  0  0\\nM  END\\n>  <CHROM.0>\\n-178.31653372,63.62860483,-167.42036014,53.17745057,-153.14030027,-69.41954328\\n-146.68513204,69.81767327\\n\\n>  <CHROM.1>\\n-19.67592506,18.74414399,176.19019097,35.20487416,-133.54118621,58.42512510\\n51.69707512,8.21511887,179.29451935,59.29011812,-25.49211418,80.53416557\\n-3.90944016,-10.04668756,50.02016759,2.67922758,1.05734413,0.62543458\\n\\n>  <EmbedRMS>\\n0.03855896916268701\\n\\n>  <Name>\\n\\n>  <RI>\\n2.21312e+07\\n\\n>  <Rbt.Current_Directory>\\n/home/rribeiro/Projects/pygomodo/tether_example\\n\\n>  <Rbt.Executable>\\nrbdock ($Id: //depot/dev/client3/rdock/2021.1/src/exe/rbdock.cxx#4 $)\\n\\n>  <Rbt.Library>\\nlibRbt.so (2021.1, Build901 2021/07/19)\\n\\n>  <Rbt.Parameter_File>\\n/usr/local/opt/rDock//data/scripts/dock.prm\\n\\n>  <Rbt.Receptor>\\ndocking.prm\\n\\n>  <SCORE>\\n-20.3808\\n\\n>  <SCORE.INTER>\\n-17.5289\\n\\n>  <SCORE.INTER.CONST>\\n1\\n\\n>  <SCORE.INTER.POLAR>\\n-2.51406\\n\\n>  <SCORE.INTER.REPUL>\\n0.0013468\\n\\n>  <SCORE.INTER.ROT>\\n10\\n\\n>  <SCORE.INTER.VDW>\\n-24.3879\\n\\n>  <SCORE.INTER.norm>\\n-0.461288\\n\\n>  <SCORE.INTRA>\\n-4.33537\\n\\n>  <SCORE.INTRA.DIHEDRAL>\\n-9.32474\\n\\n>  <SCORE.INTRA.DIHEDRAL.0>\\n17.4867\\n\\n>  <SCORE.INTRA.POLAR>\\n0.151957\\n\\n>  <SCORE.INTRA.POLAR.0>\\n-0.151957\\n\\n>  <SCORE.INTRA.REPUL>\\n0\\n\\n>  <SCORE.INTRA.REPUL.0>\\n0\\n\\n>  <SCORE.INTRA.VDW>\\n-0.189657\\n\\n>  <SCORE.INTRA.VDW.0>\\n0.149568\\n\\n>  <SCORE.INTRA.norm>\\n-0.114089\\n\\n>  <SCORE.RESTR>\\n0\\n\\n>  <SCORE.RESTR.CAVITY>\\n0\\n\\n>  <SCORE.RESTR.norm>\\n0\\n\\n>  <SCORE.SYSTEM>\\n1.48351\\n\\n>  <SCORE.SYSTEM.CONST>\\n0\\n\\n>  <SCORE.SYSTEM.DIHEDRAL>\\n7.24094\\n\\n>  <SCORE.SYSTEM.POLAR>\\n-0.378476\\n\\n>  <SCORE.SYSTEM.REPUL>\\n0.233781\\n\\n>  <SCORE.SYSTEM.VDW>\\n-2.01905\\n\\n>  <SCORE.SYSTEM.norm>\\n0.0390398\\n\\n>  <SCORE.heavy>\\n38\\n\\n>  <SCORE.norm>\\n-0.536337\\n\\n>  <TETHERED ATOMS>\\n32,34,35,3,4,5,6,7,8,9,31,2,36,37,38,1,33\\n\\n$$$$\\n'"
      ]
     },
     "execution_count": 88,
     "metadata": {},
     "output_type": "execute_result"
    }
   ],
   "source": [
    "cont.replace('\\nlibRbt.so/2013.1/901 2013/11/27','')"
   ]
  },
  {
   "cell_type": "code",
   "execution_count": null,
   "id": "97c167db",
   "metadata": {},
   "outputs": [],
   "source": []
  }
 ],
 "metadata": {
  "kernelspec": {
   "display_name": "compbio",
   "language": "python",
   "name": "compbio"
  },
  "language_info": {
   "codemirror_mode": {
    "name": "ipython",
    "version": 3
   },
   "file_extension": ".py",
   "mimetype": "text/x-python",
   "name": "python",
   "nbconvert_exporter": "python",
   "pygments_lexer": "ipython3",
   "version": "3.9.13"
  }
 },
 "nbformat": 4,
 "nbformat_minor": 5
}
