{
 "cells": [
  {
   "cell_type": "code",
   "execution_count": 31,
   "id": "ab4971f1",
   "metadata": {},
   "outputs": [],
   "source": [
    "from Bio.PDB import PDBParser\n",
    "import os"
   ]
  },
  {
   "cell_type": "code",
   "execution_count": 35,
   "id": "7d532b8d",
   "metadata": {},
   "outputs": [],
   "source": [
    "rui = None"
   ]
  },
  {
   "cell_type": "code",
   "execution_count": 38,
   "id": "a6dc1d7f",
   "metadata": {},
   "outputs": [
    {
     "name": "stdout",
     "output_type": "stream",
     "text": [
      "none\n"
     ]
    }
   ],
   "source": [
    "if rui: print(' not none')\n",
    "else: print('none')"
   ]
  },
  {
   "cell_type": "code",
   "execution_count": null,
   "id": "4e1a04cd",
   "metadata": {},
   "outputs": [],
   "source": [
    "os.path.join()"
   ]
  },
  {
   "cell_type": "code",
   "execution_count": 27,
   "id": "0c0b1256",
   "metadata": {},
   "outputs": [],
   "source": [
    "refe = 'src/autogrids/reference_files/GPCr_Ref.pdb'\n",
    "mobi = 'example/2YDO.pdb'\n",
    "r_chain = 'A'\n",
    "m_chain = 'A'\n",
    "output_directory='/home/rribeiro/Projects/pygomodo/rui.pdb'\n",
    "\n"
   ]
  },
  {
   "cell_type": "code",
   "execution_count": 41,
   "id": "5155ad9b",
   "metadata": {},
   "outputs": [
    {
     "data": {
      "text/plain": [
       "('GPCr_Ref', '.pdb')"
      ]
     },
     "execution_count": 41,
     "metadata": {},
     "output_type": "execute_result"
    }
   ],
   "source": [
    "mm = '2YDO.pdb'\n",
    "os.path.splitext(os.path.basename(refe))\n"
   ]
  },
  {
   "cell_type": "code",
   "execution_count": 21,
   "id": "04979c2c",
   "metadata": {},
   "outputs": [
    {
     "name": "stderr",
     "output_type": "stream",
     "text": [
      "/home/rribeiro/.conda/envs/compbio/lib/python3.9/site-packages/Bio/PDB/PDBParser.py:395: PDBConstructionWarning: Ignoring unrecognized record 'END' at line 12784\n",
      "  warnings.warn(\n",
      "/home/rribeiro/.conda/envs/compbio/lib/python3.9/site-packages/Bio/PDB/PDBParser.py:395: PDBConstructionWarning: Ignoring unrecognized record 'END' at line 2412\n",
      "  warnings.warn(\n"
     ]
    }
   ],
   "source": [
    "parser = PDBParser()\n",
    "s_ref = parser.get_structure('ref',refe)\n",
    "s_mobi = parser.get_structure('mobi',mobi)\n"
   ]
  },
  {
   "cell_type": "code",
   "execution_count": 30,
   "id": "a06fec7d",
   "metadata": {},
   "outputs": [
    {
     "name": "stderr",
     "output_type": "stream",
     "text": [
      "/home/rribeiro/.conda/envs/compbio/lib/python3.9/site-packages/Bio/PDB/PDBParser.py:395: PDBConstructionWarning: Ignoring unrecognized record 'END' at line 12783\n",
      "  warnings.warn(\n",
      "/home/rribeiro/.conda/envs/compbio/lib/python3.9/site-packages/Bio/PDB/PDBParser.py:395: PDBConstructionWarning: Ignoring unrecognized record 'END' at line 2412\n",
      "  warnings.warn(\n"
     ]
    },
    {
     "name": "stdout",
     "output_type": "stream",
     "text": [
      "RMSD between structures: 6.37\n"
     ]
    }
   ],
   "source": [
    "align3D(refe,r_chain, mobi, m_chain, output_directory)"
   ]
  },
  {
   "cell_type": "code",
   "execution_count": 29,
   "id": "9c950075",
   "metadata": {},
   "outputs": [],
   "source": [
    "def align3D(refe,r_chain, mobi, m_chain, output_directory):\n",
    "    from Bio.PDB import FastMMCIFParser, MMCIFIO, PDBParser, PDBIO, Superimposer\n",
    "    from Bio.PDB.Polypeptide import is_aa\n",
    "\n",
    "    from Bio import pairwise2\n",
    "    from Bio.Align import substitution_matrices\n",
    "    from Bio.Data.SCOPData import protein_letters_3to1 as aa3to1\n",
    "\n",
    "\n",
    "    def align_sequences(structA, structB):\n",
    "        \"\"\"\n",
    "        Performs a global pairwise alignment between two sequences\n",
    "        using the BLOSUM62 matrix and the Needleman-Wunsch algorithm\n",
    "        as implemented in Biopython. Returns the alignment, the sequence\n",
    "        identity and the residue mapping between both original sequences.\n",
    "        \"\"\"\n",
    "\n",
    "        def _get_pdb_sequence(structure):\n",
    "            \"\"\"\n",
    "            Retrieves the AA sequence from a PDB structure.\n",
    "            \"\"\"\n",
    "\n",
    "            _aainfo = lambda r: (r.id[1], aa3to1.get(r.resname, \"X\"))\n",
    "            seq = [_aainfo(r) for r in structure.get_residues() if is_aa(r)]\n",
    "            return seq\n",
    "\n",
    "        resseq_A = _get_pdb_sequence(structA)\n",
    "        resseq_B = _get_pdb_sequence(structB)\n",
    "\n",
    "        sequence_A = \"\".join([i[1] for i in resseq_A])\n",
    "        sequence_B = \"\".join([i[1] for i in resseq_B])\n",
    "        alns = pairwise2.align.globalds(\n",
    "            sequence_A,\n",
    "            sequence_B,\n",
    "            substitution_matrices.load(\"BLOSUM62\"),\n",
    "            one_alignment_only=True,\n",
    "            open=-10.0,\n",
    "            extend=-0.5,\n",
    "            penalize_end_gaps=(False, False),\n",
    "        )\n",
    "\n",
    "        best_aln = alns[0]\n",
    "        aligned_A, aligned_B, score, begin, end = best_aln\n",
    "\n",
    "        # Equivalent residue numbering\n",
    "        # Relative to reference\n",
    "        mapping = {}\n",
    "        aa_i_A, aa_i_B = 0, 0\n",
    "        for aln_i, (aa_aln_A, aa_aln_B) in enumerate(zip(aligned_A, aligned_B)):\n",
    "            if aa_aln_A == \"-\":\n",
    "                if aa_aln_B != \"-\":\n",
    "                    aa_i_B += 1\n",
    "            elif aa_aln_B == \"-\":\n",
    "                if aa_aln_A != \"-\":\n",
    "                    aa_i_A += 1\n",
    "            else:\n",
    "                assert resseq_A[aa_i_A][1] == aa_aln_A\n",
    "                assert resseq_B[aa_i_B][1] == aa_aln_B\n",
    "                mapping[resseq_A[aa_i_A][0]] = resseq_B[aa_i_B][0]\n",
    "                aa_i_A += 1\n",
    "                aa_i_B += 1\n",
    "\n",
    "        return mapping\n",
    "   \n",
    "\n",
    "    def parse_structure(filepath):\n",
    "        \"\"\"Parse a PDB/cif structure.\"\"\"\n",
    "        parser = PDBParser()\n",
    "        \n",
    "        return parser.get_structure(filepath, str(filepath))\n",
    "   \n",
    "    \n",
    "    # Parse structures & take only the necessary chain\n",
    "    s_reference = parse_structure(refe)\n",
    "    try:\n",
    "        reference = s_reference[0][r_chain]\n",
    "    except KeyError:\n",
    "        raise Exception(f\"Chain {r_chain} not found in reference.\")\n",
    "\n",
    "    s_mobile = parse_structure(mobi)\n",
    "    try:\n",
    "        mobile = s_mobile[0][m_chain]\n",
    "    except KeyError:\n",
    "        raise Exception(f\"Chain {m_chain} not found in mobile.\")\n",
    "\n",
    "    # Align sequences to get mapping between residues\n",
    "    mapping = align_sequences(reference, mobile)\n",
    "\n",
    "    refe_ca_list, mobi_ca_list = [], []\n",
    "    for refe_res in mapping:\n",
    "        refe_ca_list.append(reference[refe_res][\"CA\"])\n",
    "        mobi_ca_list.append(mobile[mapping[refe_res]][\"CA\"])\n",
    "\n",
    "    # Superimpose matching residues\n",
    "    si = Superimposer()\n",
    "    si.set_atoms(refe_ca_list, mobi_ca_list)\n",
    "    si.apply(mobile.get_atoms())\n",
    "    \n",
    "    rot,tran = si.rotran\n",
    "    rms = si.rms\n",
    "    \n",
    "    \n",
    "    print(f\"RMSD between structures: {si.rms:4.2f}\")\n",
    "\n",
    "    # Write aligned mobile\n",
    "    io = PDBIO()\n",
    "    io.set_structure(mobile)\n",
    "    io.save(output_directory)\n",
    "    \n",
    "    \n",
    "    from Bio.PDB.vectors            import Vector\n",
    "    \n",
    "    \n",
    "    ref_grids_dic = {}\n",
    "    for line in grids_file_ref:\n",
    "\n",
    "        toks = line.split()\n",
    "        chain_id = toks[0]\n",
    "        coor = Vector(toks[2],toks[3],toks[4])\n",
    "        ref_grids_dic.update({chain_id : coor})\n",
    "\n",
    "    targ_grids_dic = {}\n",
    "    \n",
    "    \n"
   ]
  },
  {
   "cell_type": "code",
   "execution_count": null,
   "id": "ec78819e",
   "metadata": {},
   "outputs": [],
   "source": []
  }
 ],
 "metadata": {
  "kernelspec": {
   "display_name": "compbio",
   "language": "python",
   "name": "compbio"
  },
  "language_info": {
   "codemirror_mode": {
    "name": "ipython",
    "version": 3
   },
   "file_extension": ".py",
   "mimetype": "text/x-python",
   "name": "python",
   "nbconvert_exporter": "python",
   "pygments_lexer": "ipython3",
   "version": "3.9.13"
  }
 },
 "nbformat": 4,
 "nbformat_minor": 5
}
