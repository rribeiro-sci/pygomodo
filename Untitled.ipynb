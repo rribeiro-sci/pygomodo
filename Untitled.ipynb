{
 "cells": [
  {
   "cell_type": "code",
   "execution_count": null,
   "id": "65f6d8cb",
   "metadata": {},
   "outputs": [],
   "source": [
    "%load_ext autoreload\n",
    "%autoreload 2"
   ]
  },
  {
   "cell_type": "code",
   "execution_count": 1,
   "id": "d1b8ace7",
   "metadata": {},
   "outputs": [
    {
     "name": "stdout",
     "output_type": "stream",
     "text": [
      "Warning: HH-suite unknown\n"
     ]
    }
   ],
   "source": [
    "from src.gomodo import docking\n",
    "import os"
   ]
  },
  {
   "cell_type": "code",
   "execution_count": 2,
   "id": "87249235",
   "metadata": {},
   "outputs": [
    {
     "name": "stdout",
     "output_type": "stream",
     "text": [
      "/Users/ruiribeiro/Tmp/pygomodo/example\n"
     ]
    }
   ],
   "source": [
    "cd example/"
   ]
  },
  {
   "cell_type": "code",
   "execution_count": 3,
   "id": "055e2bcc",
   "metadata": {},
   "outputs": [],
   "source": [
    "receptor=['2YDO.pdb']\n",
    "#ligands=['118734340.pdb', '118734345.pdb','118734349.pdb','118734357.pdb','118734362.pdb']\n",
    "ligands=['118734340.pdb', '118734345.pdb']"
   ]
  },
  {
   "cell_type": "code",
   "execution_count": 4,
   "id": "56318cd8",
   "metadata": {},
   "outputs": [],
   "source": [
    "t = docking.vina(receptors=receptor, ligands=ligands, cpus=4, dirpath=os.getcwd())"
   ]
  },
  {
   "cell_type": "code",
   "execution_count": 5,
   "id": "7baa6087",
   "metadata": {},
   "outputs": [
    {
     "name": "stdout",
     "output_type": "stream",
     "text": [
      "Calculating grid...\n",
      "\n"
     ]
    },
    {
     "name": "stderr",
     "output_type": "stream",
     "text": [
      "/opt/homebrew/Caskroom/miniconda/base/lib/python3.8/site-packages/Bio/SubsMat/__init__.py:126: BiopythonDeprecationWarning: Bio.SubsMat has been deprecated, and we intend to remove it in a future release of Biopython. As an alternative, please consider using Bio.Align.substitution_matrices as a replacement, and contact the Biopython developers if you still need the Bio.SubsMat module.\n",
      "  warnings.warn(\n",
      "/opt/homebrew/Caskroom/miniconda/base/lib/python3.8/site-packages/Bio/PDB/PDBParser.py:395: PDBConstructionWarning: Ignoring unrecognized record 'END' at line 2412\n",
      "  warnings.warn(\n"
     ]
    },
    {
     "name": "stdout",
     "output_type": "stream",
     "text": [
      "###############################################################\n",
      "                                                               \n",
      "Target chain 'A' Summary :                     \n",
      "                                                               \n",
      "reference chain used : 'A'\n",
      "calculated rmsd : 6.773901472296958\n",
      "calculated score alignment : 158.0\n",
      "grid center coordinates :  <Vector -28.72, 9.55, -25.43>\n",
      "                                                               \n",
      "###############################################################\n",
      "                                                               \n"
     ]
    },
    {
     "name": "stderr",
     "output_type": "stream",
     "text": [
      "/opt/homebrew/Caskroom/miniconda/base/lib/python3.8/site-packages/Bio/PDB/PDBParser.py:395: PDBConstructionWarning: Ignoring unrecognized record 'END' at line 12784\n",
      "  warnings.warn(\n"
     ]
    },
    {
     "data": {
      "text/plain": [
       "{'A': <Vector -28.72, 9.55, -25.43>}"
      ]
     },
     "execution_count": 5,
     "metadata": {},
     "output_type": "execute_result"
    }
   ],
   "source": [
    "grid = t.grid(receptor=receptor[0])\n",
    "grid"
   ]
  },
  {
   "cell_type": "code",
   "execution_count": 6,
   "id": "373930ee",
   "metadata": {},
   "outputs": [
    {
     "name": "stdout",
     "output_type": "stream",
     "text": [
      "Vina is running...\n",
      "\n",
      "\tDocking 118734340 \n",
      "\n",
      "\tDocking 118734345 \n",
      "\n",
      "\n",
      "Done!\n"
     ]
    }
   ],
   "source": [
    "vina = t.run(size_x=30, \n",
    "      size_y=30,\n",
    "      size_z=30, \n",
    "      center_x=-28.01,\n",
    "      center_y=12.08,\n",
    "      center_z=-28.06,\n",
    "      exhaustiveness=8,\n",
    "      energy_range=4,\n",
    "      num_modes=100)"
   ]
  },
  {
   "cell_type": "code",
   "execution_count": 7,
   "id": "338ed02c",
   "metadata": {},
   "outputs": [
    {
     "data": {
      "text/plain": [
       "{'2YDO_118734340_vina_out': [{'mode': 1,\n",
       "   'affinity (kcal\\\\/mol)': '-10.3',\n",
       "   'rmsd l.b.': '0.000',\n",
       "   'rmsd u.b.': '0.000'},\n",
       "  {'mode': 2,\n",
       "   'affinity (kcal\\\\/mol)': '-8.6',\n",
       "   'rmsd l.b.': '2.076',\n",
       "   'rmsd u.b.': '3.490'},\n",
       "  {'mode': 3,\n",
       "   'affinity (kcal\\\\/mol)': '-8.3',\n",
       "   'rmsd l.b.': '1.985',\n",
       "   'rmsd u.b.': '3.331'},\n",
       "  {'mode': 4,\n",
       "   'affinity (kcal\\\\/mol)': '-7.7',\n",
       "   'rmsd l.b.': '1.565',\n",
       "   'rmsd u.b.': '2.123'},\n",
       "  {'mode': 5,\n",
       "   'affinity (kcal\\\\/mol)': '-6.8',\n",
       "   'rmsd l.b.': '19.460',\n",
       "   'rmsd u.b.': '20.906'},\n",
       "  {'mode': 6,\n",
       "   'affinity (kcal\\\\/mol)': '-6.7',\n",
       "   'rmsd l.b.': '19.483',\n",
       "   'rmsd u.b.': '22.975'}],\n",
       " '2YDO_118734345_vina_out': [{'mode': 1,\n",
       "   'affinity (kcal\\\\/mol)': '-10.3',\n",
       "   'rmsd l.b.': '0.000',\n",
       "   'rmsd u.b.': '0.000'},\n",
       "  {'mode': 2,\n",
       "   'affinity (kcal\\\\/mol)': '-9.6',\n",
       "   'rmsd l.b.': '1.315',\n",
       "   'rmsd u.b.': '1.630'},\n",
       "  {'mode': 3,\n",
       "   'affinity (kcal\\\\/mol)': '-8.5',\n",
       "   'rmsd l.b.': '2.037',\n",
       "   'rmsd u.b.': '3.359'},\n",
       "  {'mode': 4,\n",
       "   'affinity (kcal\\\\/mol)': '-7.1',\n",
       "   'rmsd l.b.': '5.313',\n",
       "   'rmsd u.b.': '12.510'},\n",
       "  {'mode': 5,\n",
       "   'affinity (kcal\\\\/mol)': '-7.0',\n",
       "   'rmsd l.b.': '5.674',\n",
       "   'rmsd u.b.': '12.625'},\n",
       "  {'mode': 6,\n",
       "   'affinity (kcal\\\\/mol)': '-6.8',\n",
       "   'rmsd l.b.': '19.726',\n",
       "   'rmsd u.b.': '22.882'},\n",
       "  {'mode': 7,\n",
       "   'affinity (kcal\\\\/mol)': '-6.5',\n",
       "   'rmsd l.b.': '19.774',\n",
       "   'rmsd u.b.': '22.160'}]}"
      ]
     },
     "execution_count": 7,
     "metadata": {},
     "output_type": "execute_result"
    }
   ],
   "source": [
    "vina"
   ]
  },
  {
   "cell_type": "code",
   "execution_count": null,
   "id": "39cc9308",
   "metadata": {},
   "outputs": [],
   "source": []
  }
 ],
 "metadata": {
  "kernelspec": {
   "display_name": "base",
   "language": "python",
   "name": "base"
  },
  "language_info": {
   "codemirror_mode": {
    "name": "ipython",
    "version": 3
   },
   "file_extension": ".py",
   "mimetype": "text/x-python",
   "name": "python",
   "nbconvert_exporter": "python",
   "pygments_lexer": "ipython3",
   "version": "3.8.11"
  }
 },
 "nbformat": 4,
 "nbformat_minor": 5
}
