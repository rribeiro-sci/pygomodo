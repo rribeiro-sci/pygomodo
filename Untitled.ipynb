{
 "cells": [
  {
   "cell_type": "code",
   "execution_count": 1,
   "id": "d1b8ace7",
   "metadata": {},
   "outputs": [
    {
     "name": "stdout",
     "output_type": "stream",
     "text": [
      "Warning: HH-suite unknown\n"
     ]
    }
   ],
   "source": [
    "from src.gomodo import docking\n",
    "import os"
   ]
  },
  {
   "cell_type": "code",
   "execution_count": 2,
   "id": "87249235",
   "metadata": {},
   "outputs": [
    {
     "name": "stdout",
     "output_type": "stream",
     "text": [
      "/home/rribeiro/Projects/pygomodo/example\n"
     ]
    }
   ],
   "source": [
    "cd example/"
   ]
  },
  {
   "cell_type": "code",
   "execution_count": 3,
   "id": "055e2bcc",
   "metadata": {},
   "outputs": [],
   "source": [
    "receptor=['2YDO.pdb']\n",
    "ligands=['118734340.pdb', '118734345.pdb','118734349.pdb','118734357.pdb','118734362.pdb']"
   ]
  },
  {
   "cell_type": "code",
   "execution_count": 4,
   "id": "56318cd8",
   "metadata": {},
   "outputs": [],
   "source": [
    "t = docking.vina(receptors=receptor, ligands=ligands, cpus=4, dirpath=os.getcwd())"
   ]
  },
  {
   "cell_type": "code",
   "execution_count": 5,
   "id": "7baa6087",
   "metadata": {},
   "outputs": [
    {
     "name": "stdout",
     "output_type": "stream",
     "text": [
      "Calculating grid...\n",
      "\n"
     ]
    },
    {
     "name": "stderr",
     "output_type": "stream",
     "text": [
      "/home/rribeiro/.conda/envs/compbio/lib/python3.9/site-packages/Bio/SubsMat/__init__.py:126: BiopythonDeprecationWarning: Bio.SubsMat has been deprecated, and we intend to remove it in a future release of Biopython. As an alternative, please consider using Bio.Align.substitution_matrices as a replacement, and contact the Biopython developers if you still need the Bio.SubsMat module.\n",
      "  warnings.warn(\n",
      "/home/rribeiro/.conda/envs/compbio/lib/python3.9/site-packages/Bio/PDB/PDBParser.py:395: PDBConstructionWarning: Ignoring unrecognized record 'END' at line 2412\n",
      "  warnings.warn(\n",
      "/home/rribeiro/.conda/envs/compbio/lib/python3.9/site-packages/Bio/PDB/PDBParser.py:395: PDBConstructionWarning: Ignoring unrecognized record 'END' at line 13318\n",
      "  warnings.warn(\n"
     ]
    },
    {
     "name": "stdout",
     "output_type": "stream",
     "text": [
      "###############################################################\n",
      "                                                               \n",
      "Target chain 'A' Summary :                     \n",
      "                                                               \n",
      "reference chain used : 'A'\n",
      "calculated rmsd : 6.771349881894552\n",
      "calculated score alignment : 158.0\n",
      "grid center coordinates :  <Vector -28.01, 12.08, -28.06>\n",
      "                                                               \n",
      "###############################################################\n",
      "                                                               \n"
     ]
    },
    {
     "data": {
      "text/plain": [
       "{'A': <Vector -28.01, 12.08, -28.06>}"
      ]
     },
     "execution_count": 5,
     "metadata": {},
     "output_type": "execute_result"
    }
   ],
   "source": [
    "t.grid(receptor=receptor[0])"
   ]
  },
  {
   "cell_type": "code",
   "execution_count": 6,
   "id": "373930ee",
   "metadata": {},
   "outputs": [
    {
     "name": "stdout",
     "output_type": "stream",
     "text": [
      "Vina is running...\n",
      "\n",
      "/home/rribeiro/Projects/pygomodo/src/opt/vina1.1.2/bin/vina --receptor /home/rribeiro/Projects/pygomodo/example/2YDO.pdbqt --ligand /home/rribeiro/Projects/pygomodo/example/2YDO.pdbqt --center_x -28.01 --center_y 12.08 --center_z -28.06 --size_x 30 --size_y 30 --size_z 30 --exhaustiveness 8 --energy_range 4 --num_modes 100 --cpu 4 --out /home/rribeiro/Projects/pygomodo/example/2YDO_118734340_vina_out.pdbqt --log /home/rribeiro/Projects/pygomodo/example/2YDO_118734340_vina_out.log\n",
      "/home/rribeiro/Projects/pygomodo/src/opt/vina1.1.2/bin/vina --receptor /home/rribeiro/Projects/pygomodo/example/2YDO.pdbqt --ligand /home/rribeiro/Projects/pygomodo/example/2YDO.pdbqt --center_x -28.01 --center_y 12.08 --center_z -28.06 --size_x 30 --size_y 30 --size_z 30 --exhaustiveness 8 --energy_range 4 --num_modes 100 --cpu 4 --out /home/rribeiro/Projects/pygomodo/example/2YDO_118734345_vina_out.pdbqt --log /home/rribeiro/Projects/pygomodo/example/2YDO_118734345_vina_out.log\n",
      "/home/rribeiro/Projects/pygomodo/src/opt/vina1.1.2/bin/vina --receptor /home/rribeiro/Projects/pygomodo/example/2YDO.pdbqt --ligand /home/rribeiro/Projects/pygomodo/example/2YDO.pdbqt --center_x -28.01 --center_y 12.08 --center_z -28.06 --size_x 30 --size_y 30 --size_z 30 --exhaustiveness 8 --energy_range 4 --num_modes 100 --cpu 4 --out /home/rribeiro/Projects/pygomodo/example/2YDO_118734349_vina_out.pdbqt --log /home/rribeiro/Projects/pygomodo/example/2YDO_118734349_vina_out.log\n",
      "/home/rribeiro/Projects/pygomodo/src/opt/vina1.1.2/bin/vina --receptor /home/rribeiro/Projects/pygomodo/example/2YDO.pdbqt --ligand /home/rribeiro/Projects/pygomodo/example/2YDO.pdbqt --center_x -28.01 --center_y 12.08 --center_z -28.06 --size_x 30 --size_y 30 --size_z 30 --exhaustiveness 8 --energy_range 4 --num_modes 100 --cpu 4 --out /home/rribeiro/Projects/pygomodo/example/2YDO_118734357_vina_out.pdbqt --log /home/rribeiro/Projects/pygomodo/example/2YDO_118734357_vina_out.log\n",
      "/home/rribeiro/Projects/pygomodo/src/opt/vina1.1.2/bin/vina --receptor /home/rribeiro/Projects/pygomodo/example/2YDO.pdbqt --ligand /home/rribeiro/Projects/pygomodo/example/2YDO.pdbqt --center_x -28.01 --center_y 12.08 --center_z -28.06 --size_x 30 --size_y 30 --size_z 30 --exhaustiveness 8 --energy_range 4 --num_modes 100 --cpu 4 --out /home/rribeiro/Projects/pygomodo/example/2YDO_118734362_vina_out.pdbqt --log /home/rribeiro/Projects/pygomodo/example/2YDO_118734362_vina_out.log\n"
     ]
    },
    {
     "ename": "TypeError",
     "evalue": "__init__() got an unexpected keyword argument 'collumns'",
     "output_type": "error",
     "traceback": [
      "\u001b[0;31m---------------------------------------------------------------------------\u001b[0m",
      "\u001b[0;31mTypeError\u001b[0m                                 Traceback (most recent call last)",
      "\u001b[0;32m<ipython-input-6-6a4a0a41a20b>\u001b[0m in \u001b[0;36m<module>\u001b[0;34m\u001b[0m\n\u001b[0;32m----> 1\u001b[0;31m t.run(size_x=30, \n\u001b[0m\u001b[1;32m      2\u001b[0m       \u001b[0msize_y\u001b[0m\u001b[0;34m=\u001b[0m\u001b[0;36m30\u001b[0m\u001b[0;34m,\u001b[0m\u001b[0;34m\u001b[0m\u001b[0;34m\u001b[0m\u001b[0m\n\u001b[1;32m      3\u001b[0m       \u001b[0msize_z\u001b[0m\u001b[0;34m=\u001b[0m\u001b[0;36m30\u001b[0m\u001b[0;34m,\u001b[0m\u001b[0;34m\u001b[0m\u001b[0;34m\u001b[0m\u001b[0m\n\u001b[1;32m      4\u001b[0m       \u001b[0mcenter_x\u001b[0m\u001b[0;34m=\u001b[0m\u001b[0;34m-\u001b[0m\u001b[0;36m28.01\u001b[0m\u001b[0;34m,\u001b[0m\u001b[0;34m\u001b[0m\u001b[0;34m\u001b[0m\u001b[0m\n\u001b[1;32m      5\u001b[0m       \u001b[0mcenter_y\u001b[0m\u001b[0;34m=\u001b[0m\u001b[0;36m12.08\u001b[0m\u001b[0;34m,\u001b[0m\u001b[0;34m\u001b[0m\u001b[0;34m\u001b[0m\u001b[0m\n",
      "\u001b[0;32m~/Projects/pygomodo/src/gomodo.py\u001b[0m in \u001b[0;36mrun\u001b[0;34m(self, **kwargs)\u001b[0m\n\u001b[1;32m    876\u001b[0m                     \u001b[0mmode\u001b[0m \u001b[0;34m=\u001b[0m \u001b[0mline\u001b[0m\u001b[0;34m.\u001b[0m\u001b[0mstrip\u001b[0m\u001b[0;34m(\u001b[0m\u001b[0;34m)\u001b[0m\u001b[0;34m.\u001b[0m\u001b[0msplit\u001b[0m\u001b[0;34m(\u001b[0m\u001b[0;34m)\u001b[0m\u001b[0;34m\u001b[0m\u001b[0;34m\u001b[0m\u001b[0m\n\u001b[1;32m    877\u001b[0m                     \u001b[0mvina_log\u001b[0m\u001b[0;34m.\u001b[0m\u001b[0mdata\u001b[0m\u001b[0;34m.\u001b[0m\u001b[0mappend\u001b[0m\u001b[0;34m(\u001b[0m\u001b[0mmode\u001b[0m\u001b[0;34m)\u001b[0m\u001b[0;34m\u001b[0m\u001b[0;34m\u001b[0m\u001b[0m\n\u001b[0;32m--> 878\u001b[0;31m                 \u001b[0mvina_log_df\u001b[0m \u001b[0;34m=\u001b[0m \u001b[0mpd\u001b[0m\u001b[0;34m.\u001b[0m\u001b[0mDataFrame\u001b[0m\u001b[0;34m(\u001b[0m\u001b[0mvina_log_data\u001b[0m\u001b[0;34m,\u001b[0m \u001b[0mcollumns\u001b[0m\u001b[0;34m=\u001b[0m\u001b[0;34m[\u001b[0m\u001b[0;34m'mode'\u001b[0m\u001b[0;34m,\u001b[0m \u001b[0;34m'affinity (kcal/mol)'\u001b[0m\u001b[0;34m,\u001b[0m \u001b[0;34m'rmsd l.b.'\u001b[0m\u001b[0;34m,\u001b[0m\u001b[0;34m'rmsd u.b.'\u001b[0m\u001b[0;34m]\u001b[0m\u001b[0;34m)\u001b[0m\u001b[0;34m\u001b[0m\u001b[0;34m\u001b[0m\u001b[0m\n\u001b[0m\u001b[1;32m    879\u001b[0m                 \u001b[0mvina_log_df\u001b[0m\u001b[0;34m[\u001b[0m\u001b[0;34m'mode'\u001b[0m\u001b[0;34m]\u001b[0m \u001b[0;34m=\u001b[0m \u001b[0mpd\u001b[0m\u001b[0;34m.\u001b[0m\u001b[0mto_numeric\u001b[0m\u001b[0;34m(\u001b[0m\u001b[0mvina_log_df\u001b[0m\u001b[0;34m[\u001b[0m\u001b[0;34m'mode'\u001b[0m\u001b[0;34m]\u001b[0m\u001b[0;34m)\u001b[0m\u001b[0;34m\u001b[0m\u001b[0;34m\u001b[0m\u001b[0m\n\u001b[1;32m    880\u001b[0m \u001b[0;34m\u001b[0m\u001b[0m\n",
      "\u001b[0;31mTypeError\u001b[0m: __init__() got an unexpected keyword argument 'collumns'"
     ]
    }
   ],
   "source": [
    "t.run(size_x=30, \n",
    "      size_y=30,\n",
    "      size_z=30, \n",
    "      center_x=-28.01,\n",
    "      center_y=12.08,\n",
    "      center_z=-28.06,\n",
    "      exhaustiveness=8,\n",
    "      energy_range=4,\n",
    "      num_modes=100)"
   ]
  },
  {
   "cell_type": "code",
   "execution_count": 7,
   "id": "ce21dda1",
   "metadata": {},
   "outputs": [
    {
     "name": "stdout",
     "output_type": "stream",
     "text": [
      "#################################################################\r\n",
      "# If you used AutoDock Vina in your work, please cite:          #\r\n",
      "#                                                               #\r\n",
      "# O. Trott, A. J. Olson,                                        #\r\n",
      "# AutoDock Vina: improving the speed and accuracy of docking    #\r\n",
      "# with a new scoring function, efficient optimization and       #\r\n",
      "# multithreading, Journal of Computational Chemistry 31 (2010)  #\r\n",
      "# 455-461                                                       #\r\n",
      "#                                                               #\r\n",
      "# DOI 10.1002/jcc.21334                                         #\r\n",
      "#                                                               #\r\n",
      "# Please see http://vina.scripps.edu for more information.      #\r\n",
      "#################################################################\r\n",
      "\r\n",
      "Reading input ... \r\n",
      "\r\n",
      "Parse error on line 899 in file \"/home/rribeiro/Projects/pygomodo/example/2YDO.pdbqt\": Unknown or inappropriate tag\r\n"
     ]
    }
   ],
   "source": [
    "!/home/rribeiro/Projects/pygomodo/src/opt/vina1.1.2/bin/vina --receptor /home/rribeiro/Projects/pygomodo/example/2YDO.pdbqt --ligand /home/rribeiro/Projects/pygomodo/example/2YDO.pdbqt --center_x -28.01 --center_y 12.08 --center_z -28.06 --size_x 30 --size_y 30 --size_z 30 --exhaustiveness 8 --energy_range 4 --num_modes 100 --cpu 4 --out /home/rribeiro/Projects/pygomodo/example/2YDO_118734357_vina_out.pdbqt --log /home/rribeiro/Projects/pygomodo/example/2YDO_118734357_vina_out.log"
   ]
  },
  {
   "cell_type": "code",
   "execution_count": null,
   "id": "a5f0d874",
   "metadata": {},
   "outputs": [],
   "source": []
  }
 ],
 "metadata": {
  "kernelspec": {
   "display_name": "compbio",
   "language": "python",
   "name": "compbio"
  },
  "language_info": {
   "codemirror_mode": {
    "name": "ipython",
    "version": 3
   },
   "file_extension": ".py",
   "mimetype": "text/x-python",
   "name": "python",
   "nbconvert_exporter": "python",
   "pygments_lexer": "ipython3",
   "version": "3.9.9"
  }
 },
 "nbformat": 4,
 "nbformat_minor": 5
}
