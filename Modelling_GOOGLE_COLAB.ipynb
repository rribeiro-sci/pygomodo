{
 "cells": [
  {
   "cell_type": "markdown",
   "id": "e279b2a0",
   "metadata": {},
   "source": [
    "<div style=\"padding-bottom:50px\">\n",
    " <img src=\"https://res.cloudinary.com/djz27k5hg/image/upload/v1657885120/logos/univr_logo_rspn8o.jpg\"  width=250 align='left' style=\"margin-top:30px\"/>\n",
    "<img src=\"https://res.cloudinary.com/djz27k5hg/image/upload/v1637335206/logos/Logo_des_Forschungszentrums_J_C3_BClich_seit_2018_hcliq4.svg\"  width=250 align='left' style=\"margin-top:30px; margin-left:50px\"/>\n",
    "<img src=\"https://res.cloudinary.com/djz27k5hg/image/upload/v1637657234/logos/HBP_horizontal_logo_qtcyzn.png\" width=\"300\" align='left' style=\"margin-left:50px\">\n",
    "</div> \n",
    "\n",
    "<br><br><br><br>\n",
    "\n",
    "# GOMoDo\n",
    "### GPCR Online Modeling and Docking\n",
    "<br><br>\n",
    "\n",
    "\n",
    "This notebook was desinged to be run in Google colab. If you'd like to open this notebook in colab, you can use the following link.\n",
    "\n",
    "<div style='padding:15px'>\n",
    "<a href=\"https://colab.research.google.com/github/rribeiro-sci/SSBtoolkit/blob/main/SSBtoolkit-Tutorial1.ipynb\" target=\"_blank\">\n",
    "<img alt=\"Colab\" src=\"https://res.cloudinary.com/djz27k5hg/image/upload/v1637335713/badges/colab-badge_hh0uyl.svg\" height=\"25\" style=\"margin:20px\">\n",
    "</a>\n",
    "\n",
    "</div>  \n",
    "\n",
    "## Setup\n",
    "\n",
    "To run the GOMoDo within Google Colab, you'll need to run the following installation commands. \n",
    "\n",
    "## Colab Tips\n",
    "\n",
    "Get Notified of completed cell executions 🔔\n",
    "\n",
    "Colab can notify you of completed executions even if you switch to another tab, window, or application. You can enable it via Tools → Settings → Site → Show desktop notifications (and allow browser notifications once prompted) to check it out.\n",
    "\n",
    "<img src=\"https://miro.medium.com/max/1400/1*i5apguaDKcITqss1h_ZA3g.jpeg\" width=\"480\" height=\"320\">"
   ]
  },
  {
   "cell_type": "markdown",
   "id": "fee63f50",
   "metadata": {},
   "source": [
    "## Install Dependencies"
   ]
  },
  {
   "cell_type": "code",
   "execution_count": null,
   "id": "4ffb028d",
   "metadata": {},
   "outputs": [],
   "source": [
    "#@title Set Modeller key\n",
    "MODELLER_KEY = 'MODELIRANJE' #@param {type:\"string\"}\n"
   ]
  },
  {
   "cell_type": "code",
   "execution_count": null,
   "id": "128e510b",
   "metadata": {},
   "outputs": [],
   "source": [
    "#@title Install Modeller \n",
    "#Download Modeller\n",
    "!wget https://salilab.org/modeller/10.2/modeller_10.2-1_amd64.deb\n",
    "\n",
    "#Install Modeller\n",
    "!dpkg -i modeller_10.2-1_amd64.deb \n",
    "\n",
    "#read input file\n",
    "fin = open(\"/usr/lib/modeller10.2/modlib/modeller/config.py\", \"rt\")\n",
    "#read file contents to string\n",
    "data = fin.read()\n",
    "#replace all occurrences of the required string\n",
    "data = data.replace('xxx', MODELLER_KEY)\n",
    "#close the input file\n",
    "fin.close()\n",
    "#open the input file in write mode\n",
    "fin = open(\"/usr/lib/modeller10.2/modlib/modeller/config.py\", \"wt\")\n",
    "#overrite the input file with the resulting data\n",
    "fin.write(data)\n",
    "#close the file\n",
    "fin.close()\n",
    "\n",
    "!cp -r /usr/lib/modeller10.2/modlib/modeller /usr/local/lib/python3.7/dist-packages/\n",
    "!ln -s /usr/lib/modeller10.2/lib/x86_64-intel8/python3.3/_modeller.so* /usr/local/lib/python3.7/dist-packages/_modeller.so\n",
    "\n"
   ]
  },
  {
   "cell_type": "code",
   "execution_count": null,
   "id": "434ea36a",
   "metadata": {},
   "outputs": [],
   "source": [
    "#@title Install HH-suite\n",
    "## Install HH-SUITE\n",
    "import os\n",
    "import multiprocessing as mp\n",
    "cpu = mp.cpu_count()\n",
    "homedir=os.getcwd()\n",
    "\n",
    "!git clone https://github.com/soedinglab/hh-suite.git\n",
    "!mkdir -p hh-suite/build\n",
    "os.chdir('hh-suite/build')\n",
    "!cmake -DCMAKE_INSTALL_PREFIX=. ..\n",
    "!make -j $cpu\n",
    "!make install\n",
    "\n",
    "os.chdir(homedir)\n",
    "os.environ['HHSUITEPATH']=os.path.join(homedir, 'hh-suite/build/bin/' )\n",
    "os.environ['HHSUITESCRIPTS']=os.path.join(homedir, 'hh-suite/scripts/' )\n",
    "##Install PDBX\n",
    "!git clone https://github.com/soedinglab/pdbx.git\n",
    "os.chdir('pdbx')\n",
    "!mkdir build\n",
    "os.chdir('build')\n",
    "!cmake -DUserInstallOption=ON ../\n",
    "!make install\n",
    "os.chdir(homedir)\n"
   ]
  },
  {
   "cell_type": "code",
   "execution_count": null,
   "id": "85bfe75e",
   "metadata": {},
   "outputs": [],
   "source": [
    "#@title Install pyGOMoDo\n",
    "\n",
    "# download SSB source code and install dependencies\n",
    "!git clone https://github.com/rribeiro-sci/pygomodo.git --quiet\n",
    "!pip install -r pygomodo/requirements.txt\n",
    "\n",
    "## unzip databases\n",
    "os.chdir('pygomodo/src/databases')\n",
    "!tar -xvf ProcessedPdbs_wo_isoforms.tar.xz\n",
    "!tar -xvf pyGOMODO_db.tar.xz\n",
    "!tar -xvf costum_db.tar.xz\n",
    "\n",
    "!chmod -R 777 ProcessedPdbs_wo_isoforms/\n",
    "!chmod -R 777 pyGOMODO_db/\n",
    "!chmod -R 777 costum_db/\n",
    "os.chdir(homedir)\n",
    "\n",
    "#test bioservices\n",
    "from bioservices import UniProt\n",
    "u = UniProt(verbose=False)\n",
    "\n",
    "#Set Interatictive tabe (for Google COLAB)\n",
    "%load_ext google.colab.data_table\n",
    "\n",
    "#Import pygomodo\n",
    "from pygomodo.src.gomodo import *"
   ]
  },
  {
   "cell_type": "markdown",
   "id": "8204eae0",
   "metadata": {},
   "source": [
    "## Modelling with pyGOMoDo"
   ]
  },
  {
   "cell_type": "code",
   "execution_count": null,
   "id": "e77b9b47",
   "metadata": {},
   "outputs": [],
   "source": [
    "#@markdown ##### Insert UniProt ID or Fasta:\n",
    "uniprotid = \"P21918\" #@param {type:\"string\"}\n",
    "fasta = \"\" #@param {type:\"string\"}\n",
    "\n",
    "#@markdown ##### Insert Job Name:\n",
    "jobname = \"dopamine5\"#@param {type:\"string\"}\n",
    "\n",
    "#Initialize GOMODO instance giving a jobname (this will be the name of the results directory)\n",
    "m = gomodo(jobname=jobname)"
   ]
  },
  {
   "cell_type": "code",
   "execution_count": null,
   "id": "e7ea6c0a",
   "metadata": {},
   "outputs": [],
   "source": [
    "#@title Create HHM profile\n",
    "\n",
    "#@markdown HHBlits parameters:\n",
    "#Loop = \"No\" #@param [\"Yes\", \"No\"]\n",
    "rounds = 2 #@param [1,2,3,4] {type:\"raw\"}\n",
    "\n",
    "HHMprofile = m.createHHMprofile(uniprotID=uniprotid, unisequence=fasta, ncpus=cpu, rounds=rounds)\n",
    "HHMprofile"
   ]
  },
  {
   "cell_type": "code",
   "execution_count": null,
   "id": "67fe3c3a",
   "metadata": {},
   "outputs": [],
   "source": [
    "#@title Search for homologous structures\n",
    "\n",
    "Database = \"Default\" #@param [\"Default\"]\n",
    "\n",
    "structures = m.searchTemplates(ncpus=cpu)\n",
    "structures"
   ]
  },
  {
   "cell_type": "code",
   "execution_count": null,
   "id": "76add799",
   "metadata": {},
   "outputs": [],
   "source": [
    "#Select the templates by changing the numbers inside the square brackets\n",
    "templates=[structures.iloc[91].Hit,structures.iloc[195].Hit] \n",
    "templates"
   ]
  },
  {
   "cell_type": "code",
   "execution_count": null,
   "id": "a6a9aad6",
   "metadata": {},
   "outputs": [],
   "source": [
    "#@title Create models\n",
    "\n",
    "#@markdown Modeller options \n",
    "\n",
    "number_of_models =  4#@param  {type:\"raw\"}\n",
    "loop_refinement = \"No\" #@param [\"Yes\", \"No\"]\n",
    "nloops = 0#@param {type:\"raw\"}\n",
    "trim = 'No' #@param ['Yes', 'No']\n",
    "\n",
    "\n",
    "#Start modelling\n",
    "models = m.makeModels(templates=templates, nmodels=number_of_models, ncpus=cpu, loop=loop_refinement,nloop=nloops, trim=trim)\n",
    "models"
   ]
  },
  {
   "cell_type": "code",
   "execution_count": 41,
   "id": "725c5e80",
   "metadata": {},
   "outputs": [
    {
     "data": {
      "application/vnd.jupyter.widget-view+json": {
       "model_id": "7f435ff6a41c435a81254f2ec0bf6511",
       "version_major": 2,
       "version_minor": 0
      },
      "text/plain": [
       "interactive(children=(Dropdown(description='Model:', options=('B99990001', 'B99990002', 'B99990003', 'B9999000…"
      ]
     },
     "metadata": {},
     "output_type": "display_data"
    }
   ],
   "source": [
    "#vizualize model in 3D\n",
    "m.vizModels()"
   ]
  },
  {
   "cell_type": "markdown",
   "id": "86ceb60d",
   "metadata": {},
   "source": [
    "## QMEANBRANE\n",
    "\n",
    "The swissmodel API requires an email. Therefore a valid email must be given.  This colab does not collect, store, use or distribute any kind of personal data!"
   ]
  },
  {
   "cell_type": "code",
   "execution_count": null,
   "id": "2e427a5b",
   "metadata": {},
   "outputs": [],
   "source": [
    "m.qmeanbrane(models=['Model.B99990001.pdb','Model.B99990002.pdb'], email='rui.ribeiro@univr.it') ## change list of models and XX accordingly. "
   ]
  },
  {
   "cell_type": "markdown",
   "id": "50d4d010",
   "metadata": {},
   "source": [
    "## Save Files to Google Drive"
   ]
  },
  {
   "cell_type": "code",
   "execution_count": null,
   "id": "6677dbb2",
   "metadata": {},
   "outputs": [],
   "source": [
    "from google.colab import drive\n",
    "drive.mount('/gdrive')"
   ]
  },
  {
   "cell_type": "code",
   "execution_count": null,
   "id": "a7c28c09",
   "metadata": {},
   "outputs": [],
   "source": [
    "m.gdrive(path='/gdrive/MyDrive/') ## change XX accordingly. "
   ]
  }
 ],
 "metadata": {
  "kernelspec": {
   "display_name": "compbio",
   "language": "python",
   "name": "compbio"
  },
  "language_info": {
   "codemirror_mode": {
    "name": "ipython",
    "version": 3
   },
   "file_extension": ".py",
   "mimetype": "text/x-python",
   "name": "python",
   "nbconvert_exporter": "python",
   "pygments_lexer": "ipython3",
   "version": "3.9.9"
  }
 },
 "nbformat": 4,
 "nbformat_minor": 5
}
