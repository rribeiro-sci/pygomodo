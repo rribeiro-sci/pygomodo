{
 "cells": [
  {
   "cell_type": "code",
   "execution_count": null,
   "id": "e2b23d2d",
   "metadata": {},
   "outputs": [],
   "source": [
    "%load_ext autoreload\n",
    "%autoreload 2"
   ]
  },
  {
   "cell_type": "code",
   "execution_count": null,
   "id": "b508bc9f",
   "metadata": {},
   "outputs": [],
   "source": [
    "#Import pygomodo\n",
    "from src.gomodo import *\n",
    "import os\n",
    "\n",
    "os.environ['HHSUITEPATH']= '/usr/local/opt/hh-suite3/bin/' \n",
    "os.environ['HHSUITESCRIPTS']='/usr/local/opt/hh-suite3/scripts/'                           "
   ]
  },
  {
   "cell_type": "code",
   "execution_count": null,
   "id": "591ed435",
   "metadata": {},
   "outputs": [],
   "source": [
    "m = gomodo(jobname='test_DR')\n",
    "uniprotid='P21918'\n",
    "\n",
    "HHMprofile = m.createHHMprofile(uniprotID=uniprotid, ncpus=4, rounds=2)\n",
    "HHMprofile"
   ]
  },
  {
   "cell_type": "code",
   "execution_count": null,
   "id": "96ec4ce5",
   "metadata": {},
   "outputs": [],
   "source": [
    "structures = m.searchTemplates(ncpus=4)\n",
    "structures"
   ]
  },
  {
   "cell_type": "code",
   "execution_count": null,
   "id": "0854d8d7",
   "metadata": {},
   "outputs": [],
   "source": [
    "templates=[structures.iloc[91].Hit,structures.iloc[195].Hit] \n",
    "templates"
   ]
  },
  {
   "cell_type": "code",
   "execution_count": null,
   "id": "5a6998fc",
   "metadata": {},
   "outputs": [],
   "source": [
    "##RR > this command is not working on jupyterhub. I need to use the normal jupyter notebook because of python versions.\n",
    "models = m.makeModels(templates=templates, nmodels=4, ncpus=4, loop=\"No\",nloop=0, trim=\"No\")\n",
    "models"
   ]
  },
  {
   "cell_type": "code",
   "execution_count": null,
   "id": "85912f2b",
   "metadata": {},
   "outputs": [],
   "source": [
    "m.vizModels()"
   ]
  },
  {
   "cell_type": "code",
   "execution_count": null,
   "id": "46b46ac0",
   "metadata": {},
   "outputs": [],
   "source": []
  }
 ],
 "metadata": {
  "kernelspec": {
   "display_name": "compbio",
   "language": "python",
   "name": "compbio"
  },
  "language_info": {
   "codemirror_mode": {
    "name": "ipython",
    "version": 3
   },
   "file_extension": ".py",
   "mimetype": "text/x-python",
   "name": "python",
   "nbconvert_exporter": "python",
   "pygments_lexer": "ipython3",
   "version": "3.9.9"
  }
 },
 "nbformat": 4,
 "nbformat_minor": 5
}
